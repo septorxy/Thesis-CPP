{
 "cells": [
  {
   "cell_type": "markdown",
   "metadata": {
    "pycharm": {
     "name": "#%% md\n"
    }
   },
   "source": [
    "# Imports"
   ]
  },
  {
   "cell_type": "code",
   "execution_count": 2,
   "metadata": {
    "pycharm": {
     "name": "#%%\n"
    }
   },
   "outputs": [],
   "source": [
    "import copy\n",
    "import csv\n",
    "import math\n",
    "import os\n",
    "import sys\n",
    "from datetime import datetime\n",
    "import matplotlib\n",
    "import numpy as np\n",
    "import matplotlib.pyplot as plt\n",
    "import random\n",
    "import networkx as nx\n",
    "import jdc\n",
    "import time\n"
   ]
  },
  {
   "cell_type": "markdown",
   "metadata": {
    "pycharm": {
     "name": "#%% md\n"
    }
   },
   "source": [
    "# Utility Methods"
   ]
  },
  {
   "cell_type": "code",
   "execution_count": 3,
   "metadata": {
    "pycharm": {
     "name": "#%%\n"
    }
   },
   "outputs": [],
   "source": [
    "def calcDurationInHours(starting_time, ending_time):\n",
    "    return (ending_time - starting_time).total_seconds() / 60 / 60"
   ]
  },
  {
   "cell_type": "code",
   "execution_count": 4,
   "metadata": {
    "pycharm": {
     "name": "#%%\n"
    }
   },
   "outputs": [],
   "source": [
    "def time_convert(sec):\n",
    "    mins = sec // 60\n",
    "    sec = sec % 60\n",
    "    hours = mins // 60\n",
    "    mins = mins % 60\n",
    "    print(\"Time Lapsed = {0}:{1}:{2}\".format(int(hours),int(mins),sec))"
   ]
  },
  {
   "cell_type": "markdown",
   "source": [
    "# Objects"
   ],
   "metadata": {
    "collapsed": false,
    "pycharm": {
     "name": "#%% md\n"
    }
   }
  },
  {
   "cell_type": "code",
   "execution_count": 5,
   "metadata": {
    "pycharm": {
     "name": "#%%\n"
    }
   },
   "outputs": [],
   "source": [
    "class Flights(object):\n",
    "    legNo = \"\"\n",
    "    airport_departure = \"\"\n",
    "    date_departure = \"\"\n",
    "    hour_departure = \"\"\n",
    "    airport_arrival = \"\"\n",
    "    date_arrival = \"\"\n",
    "    hour_arrival = \"\"\n",
    "    pairing_relation = \"\"\n",
    "    date_time_arrival = None\n",
    "    date_time_departure = None\n",
    "    duration = 0\n",
    "\n",
    "    # deadhead = False\n",
    "\n",
    "    def __int__(self):\n",
    "        self.legNo = self.legNo\n",
    "        self.airport_departure = self.airport_departure\n",
    "        self.date_departure = self.date_departure\n",
    "        self.hour_departure = self.hour_departure\n",
    "        self.airport_arrival = self.airport_arrival\n",
    "        self.date_arrival = self.date_arrival\n",
    "        self.hour_arrival = self.hour_arrival\n",
    "        # self.pairing_relation = self.pairing_relation\n",
    "\n",
    "    def setDateTime(self):\n",
    "        self.date_time_departure = datetime.strptime(str(self.date_departure + ' ' + self.hour_departure), \"%Y-%m-%d \"\n",
    "                                                                                                           \"%H:%M\")\n",
    "        self.date_time_arrival = datetime.strptime(str(self.date_arrival + ' ' + self.hour_arrival), \"%Y-%m-%d %H:%M\")\n",
    "        diff = self.date_time_arrival - self.date_time_departure\n",
    "        seconds_in_hours = diff.seconds / 60 / 60\n",
    "        days_in_hours = diff.days * 24\n",
    "        self.duration = seconds_in_hours + days_in_hours\n",
    "\n",
    "    def __eq__(self, other):\n",
    "        return self.legNo == other.legNo\n",
    "\n",
    "    def __hash__(self):\n",
    "        return hash(('legNo', self.legNo))"
   ]
  },
  {
   "cell_type": "code",
   "execution_count": 6,
   "metadata": {
    "pycharm": {
     "name": "#%%\n"
    }
   },
   "outputs": [],
   "source": [
    "class Duties(object):\n",
    "    legs: list[Flights] = []\n",
    "    start_date_time = None\n",
    "    end_date_time = None\n",
    "    starting_airport = \"\"\n",
    "    ending_airport = \"\"\n",
    "    total_flying_time = 0\n",
    "    total_duration = 0\n",
    "\n",
    "    def __init__(self, legs: list[Flights]):\n",
    "        dur = 0\n",
    "        self.legs = legs\n",
    "        self.start_date_time = legs[0].date_time_departure\n",
    "        self.end_date_time = legs[-1].date_time_arrival\n",
    "        self.starting_airport = legs[0].airport_departure\n",
    "        self.ending_airport = legs[-1].airport_arrival\n",
    "        for l3g in legs:\n",
    "            dur += (l3g.date_time_arrival-l3g.date_time_departure).total_seconds()/60/60\n",
    "        self.total_flying_time = dur\n",
    "        self.total_duration = (self.end_date_time - self.start_date_time).total_seconds() / 60 / 60"
   ]
  },
  {
   "cell_type": "code",
   "execution_count": 7,
   "metadata": {
    "pycharm": {
     "name": "#%%\n"
    }
   },
   "outputs": [],
   "source": [
    "class Pairings(object):\n",
    "    id = -1\n",
    "    legs: list[Flights] = []\n",
    "    start_date_time = None\n",
    "    end_date_time = None\n",
    "    base_airport = \"\"\n",
    "    total_duration = 0\n",
    "    total_flying_time = 0\n",
    "    cost = 0\n",
    "    set_flights = {}\n",
    "\n",
    "    def __init__(self, fls: list[Flights]):\n",
    "        self.legs = []\n",
    "\n",
    "        self.legs = fls\n",
    "        for l3g in self.legs:\n",
    "            self.total_flying_time += calcDurationInHours(l3g.date_time_departure, l3g.date_time_arrival)\n",
    "\n",
    "        self.set_flights = set([l3g.legNo for l3g in self.legs])\n",
    "\n",
    "        # self.total_flying_time += dty.total_flying_time\n",
    "        self.start_date_time = self.legs[0].date_time_departure\n",
    "        self.end_date_time = self.legs[-1].date_time_arrival\n",
    "        self.base_airport = self.legs[0].airport_departure\n",
    "        # self.total_flying_time = reduce(mul, [x.total_flying_time for x in duties])\n",
    "        self.total_duration = calcDurationInHours(self.start_date_time, self.end_date_time)\n",
    "\n",
    "    def __eq__(self, other):\n",
    "        return self.id == other.id\n",
    "\n",
    "    def __hash__(self):\n",
    "        return hash(('id', self.id))"
   ]
  },
  {
   "cell_type": "code",
   "execution_count": 8,
   "metadata": {
    "pycharm": {
     "name": "#%%\n"
    }
   },
   "outputs": [],
   "source": [
    "class Airport(object):\n",
    "    name = \"\"\n",
    "    is_base = None\n",
    "\n",
    "    def __init__(self):\n",
    "        self.name = self.name\n",
    "        self.is_base = self.is_base"
   ]
  },
  {
   "cell_type": "code",
   "execution_count": 9,
   "outputs": [],
   "source": [
    "class PairingAlt(object):\n",
    "    pairing_name = \"\"\n",
    "    base = \"\"\n",
    "    legs = {}\n",
    "    start_date = \"\"\n",
    "    start_time = \"\"\n",
    "    end_date = \"\"\n",
    "    end_time = \"\"\n",
    "    total_flying_time = \"\"\n",
    "    total_duration = 0\n",
    "\n",
    "    def __int__(self):\n",
    "        self.pairing_name = self.pairing_name\n",
    "        self.base = self.base\n",
    "        self.legs = self.legs\n",
    "        self.start_date = self.start_date\n",
    "        self.start_time = self.start_time\n",
    "        self.end_date = self.end_date\n",
    "        self.end_time = self.end_time\n",
    "        self.total_flying_time = self.total_flying_time\n",
    "        self.total_duration = self.total_duration"
   ],
   "metadata": {
    "collapsed": false,
    "pycharm": {
     "name": "#%%\n"
    }
   }
  },
  {
   "cell_type": "code",
   "execution_count": 10,
   "outputs": [],
   "source": [
    "class Solution(object):\n",
    "    id = \"\"\n",
    "    solution_pairings = []\n",
    "    solution_cost = 0\n",
    "    deadheads = 0\n",
    "    gen_time = 0\n",
    "    solution_encoding = []\n",
    "\n",
    "    def __init__(self):\n",
    "        self.id = -1\n",
    "        self.solution_pairings = []\n",
    "        self.solution_cost = 0\n",
    "        self.deadheads = 0\n",
    "        self.gen_time = 0\n",
    "        self.solution_encoding = []"
   ],
   "metadata": {
    "collapsed": false,
    "pycharm": {
     "name": "#%%\n"
    }
   }
  },
  {
   "cell_type": "markdown",
   "source": [
    "# File Reading"
   ],
   "metadata": {
    "collapsed": false,
    "pycharm": {
     "name": "#%% md\n"
    }
   }
  },
  {
   "cell_type": "code",
   "execution_count": 11,
   "metadata": {
    "pycharm": {
     "name": "#%%\n"
    }
   },
   "outputs": [],
   "source": [
    "flights = {}\n",
    "tempFlights = []\n",
    "for day in range(31):\n",
    "    path = os.getcwd() + '\\instance1\\day_' + str(day + 1) + '.csv'\n",
    "    first = True\n",
    "    with open(path) as csv_file:\n",
    "        reader = csv.reader(csv_file, delimiter=',')\n",
    "        for row in reader:\n",
    "            if not row:\n",
    "                continue\n",
    "            elif first:\n",
    "                first = False\n",
    "                continue\n",
    "            elif len(row) <= 6:\n",
    "                continue\n",
    "            else:\n",
    "                f = Flights()\n",
    "                f.legNo = row[0].strip()\n",
    "                f.airport_departure = row[1].strip()\n",
    "                f.date_departure = row[2].strip()\n",
    "                f.hour_departure = row[3].strip()\n",
    "                f.airport_arrival = row[4].strip()\n",
    "                f.date_arrival = row[5].strip()\n",
    "                f.hour_arrival = row[6].strip()\n",
    "                key = str(f.legNo.strip())\n",
    "                # covered[key] = (False, 0)\n",
    "                f.setDateTime()\n",
    "                tempFlights.append(f)\n",
    "\n",
    "tempFlights.sort(key=lambda x: x.date_time_arrival, reverse=False)\n",
    "for flight in tempFlights:\n",
    "    flights[flight.legNo] = flight"
   ]
  },
  {
   "cell_type": "code",
   "execution_count": 12,
   "outputs": [],
   "source": [
    "genesisPair = []\n",
    "path = os.getcwd() + '\\instance1\\initialSolution.in'\n",
    "with open(path) as csv_file:\n",
    "    reader = csv.reader(csv_file, delimiter=',')\n",
    "    for row in reader:\n",
    "        # print(row)\n",
    "        # print('----------------------------')\n",
    "        if not row:\n",
    "            continue\n",
    "        elif len(row[0]) <= 15:\n",
    "            #  Do not do anything if the row is does not contain pairing information\n",
    "            continue\n",
    "        else:\n",
    "            P = PairingAlt()\n",
    "            main_index = row[0].find(': Base')  # Setting the index as a limit on which to extract string of row\n",
    "            P.pairing_name = row[0][0: main_index - 1].strip()\n",
    "            # Setting the index as a limit on which to extract string of row\n",
    "            if 'TDH' in row[0]:\n",
    "                main_index = row[0].find(': TDH')\n",
    "            else:\n",
    "                main_index = row[0].find(': LEG')\n",
    "            sub_index = row[0].find('BASE')  # Getting starting index from which to extract\n",
    "            P.base = row[0][sub_index:main_index - 1].strip()\n",
    "            num = len(row[1:])\n",
    "\n",
    "            holder = [row[0][main_index + 1:].strip()]\n",
    "            for n in range(num):\n",
    "                if ';' in row[n + 1]:\n",
    "                    holder.append(row[n + 1][0:-1].strip())\n",
    "                else:\n",
    "                    holder.append(row[n + 1].strip())\n",
    "\n",
    "            P.legs = holder\n",
    "            key = str(P.pairing_name.strip())  # Key prefixed with instance number\n",
    "\n",
    "            #  Setting Key for flight search\n",
    "            firstLeg = str(P.legs[0])\n",
    "            lastLeg = str(P.legs[-1])\n",
    "\n",
    "            #  Removing TDH when searching for a Key\n",
    "            if 'TDH_' in firstLeg:\n",
    "                firstLeg = firstLeg.replace(\"TDH_\", \"\")\n",
    "            P.start_date = flights[firstLeg].date_departure\n",
    "            P.start_time = flights[firstLeg].hour_departure\n",
    "            if 'TDH_' in lastLeg:\n",
    "                lastLeg = lastLeg.replace(\"TDH_\", \"\")\n",
    "            P.end_date = flights[lastLeg].date_arrival\n",
    "            P.end_time = flights[lastLeg].hour_arrival\n",
    "\n",
    "            # Calculating the credited flying time for a pairing\n",
    "            total_flying_time = 0\n",
    "            for k, p in enumerate(P.legs):\n",
    "                if 'TDH' in p:\n",
    "                    p = p.replace(\"TDH_\", \"\")\n",
    "                    P.legs[k] = p.replace(\"TDH_\", \"\")\n",
    "                total_flying_time += flights[p].duration\n",
    "            P.total_flying_time = total_flying_time\n",
    "            P.total_duration = calcDurationInHours(flights[P.legs[0]].date_time_departure, flights[P.legs[-1]].date_time_arrival)\n",
    "\n",
    "            genesisPair.append(P)"
   ],
   "metadata": {
    "collapsed": false,
    "pycharm": {
     "name": "#%%\n"
    }
   }
  },
  {
   "cell_type": "code",
   "execution_count": 13,
   "metadata": {
    "pycharm": {
     "name": "#%%\n"
    }
   },
   "outputs": [],
   "source": [
    "airports = {}\n",
    "path = os.getcwd() + '\\instance1\\listOfBases.csv'\n",
    "with open(path) as csv_file:\n",
    "    reader = csv.reader(csv_file, delimiter=',')\n",
    "    first = True\n",
    "    for row in reader:\n",
    "        if not first:\n",
    "            a = Airport()\n",
    "            a.name = row[0].strip()\n",
    "            if int(row[1]):\n",
    "                a.is_base = True\n",
    "                # bases[a.name] = a\n",
    "            else:\n",
    "                a.is_base = False\n",
    "            airports[a.name] = a\n",
    "        else:\n",
    "            first = False"
   ]
  },
  {
   "cell_type": "markdown",
   "source": [
    "# Graph"
   ],
   "metadata": {
    "collapsed": false,
    "pycharm": {
     "name": "#%% md\n"
    }
   }
  },
  {
   "cell_type": "code",
   "execution_count": 14,
   "metadata": {
    "pycharm": {
     "name": "#%%\n"
    }
   },
   "outputs": [],
   "source": [
    "g = nx.DiGraph()"
   ]
  },
  {
   "cell_type": "code",
   "execution_count": 15,
   "metadata": {
    "pycharm": {
     "name": "#%%\n"
    }
   },
   "outputs": [],
   "source": [
    "for airport in airports.keys():\n",
    "    g.add_node(airport)"
   ]
  },
  {
   "cell_type": "code",
   "execution_count": 16,
   "metadata": {
    "pycharm": {
     "name": "#%%\n"
    }
   },
   "outputs": [],
   "source": [
    "for flight in flights.items():\n",
    "    day = int(flight[1].legNo[4:6])\n",
    "    if not g.has_edge(flight[1].airport_departure, flight[1].airport_arrival):\n",
    "        g.add_edge(flight[1].airport_departure, flight[1].airport_arrival, flight_list = {f\"{flight[1].legNo}\": (flight[1], False, day)}, weight=flight[1].duration)\n",
    "    else:\n",
    "        orig = g[flight[1].airport_departure][flight[1].airport_arrival][\"flight_list\"]\n",
    "        orig[flight[1].legNo] = (flight[1], False, day)\n",
    "        new_attr = {(flight[1].airport_departure, flight[1].airport_arrival) : {\"flight_list\" : orig}}\n",
    "        nx.set_edge_attributes(g, new_attr)"
   ]
  },
  {
   "cell_type": "code",
   "execution_count": 17,
   "metadata": {
    "pycharm": {
     "name": "#%%\n"
    }
   },
   "outputs": [
    {
     "data": {
      "text/plain": "<Figure size 720x648 with 1 Axes>",
      "image/png": "[encoded data removed]"
     },
     "metadata": {},
     "output_type": "display_data"
    }
   ],
   "source": [
    "pos = nx.circular_layout(g)\n",
    "c_m = {}\n",
    "for item in airports.items():\n",
    "    if item[1].is_base:\n",
    "        c_m[item[1].name] = \"orange\"\n",
    "    else:\n",
    "        c_m[item[1].name] = \"blue\"\n",
    "colors = [c_m.get(node) for node in g.nodes()]\n",
    "plt.figure(figsize= (10,9))\n",
    "nx.draw_networkx(g, pos, node_size=1000, font_size=11, node_color=colors)"
   ]
  },
  {
   "cell_type": "markdown",
   "source": [
    "# Pairing Generation"
   ],
   "metadata": {
    "collapsed": false,
    "pycharm": {
     "name": "#%% md\n"
    }
   }
  },
  {
   "cell_type": "code",
   "execution_count": 18,
   "metadata": {
    "pycharm": {
     "name": "#%%\n"
    }
   },
   "outputs": [],
   "source": [
    "def validPairing(curr: list[Flights]) -> tuple[int, int]:\n",
    "    kp = 1\n",
    "    ct = 1\n",
    "    length_curr = len(curr)\n",
    "    tempP = Pairings(curr)\n",
    "    if tempP.total_flying_time / tempP.total_duration * 100 < allowedRatio:\n",
    "        kp = 0\n",
    "        # if tempP.total_flying_time / tempP.total_duration * 100 < 20:\n",
    "        #     return 0, 0\n",
    "        # print(\"low ratio\")\n",
    "\n",
    "    if tempP.base_airport != curr[-1].airport_arrival:\n",
    "        kp = 0\n",
    "        # print(\"non base\")\n",
    "\n",
    "    if tempP.total_duration > 72:\n",
    "        # print(\"too long\")\n",
    "        return 0, 0\n",
    "\n",
    "    layover_timer = 0\n",
    "    for j, fl in enumerate(curr):\n",
    "        if length_curr != j+1:\n",
    "            flight_diff = calcDurationInHours(fl.date_time_arrival, curr[j+1].date_time_departure)\n",
    "            if flight_diff < 0.25:\n",
    "                # print(\"flight diff constraint violated\")\n",
    "                return 0, 0\n",
    "\n",
    "            layover_timer += calcDurationInHours(fl.date_time_departure, curr[j+1].date_time_departure)\n",
    "\n",
    "            if flight_diff >= 8:\n",
    "                layover_timer = 0\n",
    "            elif layover_timer > 8:\n",
    "                # print(\"layover constraint violated\")\n",
    "                return 0, 0\n",
    "\n",
    "\n",
    "    return kp, ct"
   ]
  },
  {
   "cell_type": "code",
   "execution_count": 19,
   "metadata": {
    "pycharm": {
     "name": "#%%\n"
    }
   },
   "outputs": [],
   "source": [
    "def searchPairings(current: list[Flights], pairings: list[Pairings]) -> list[Pairings]:\n",
    "    keep, cont = validPairing(current)\n",
    "    if keep:\n",
    "        pair = Pairings(copy.deepcopy(current))\n",
    "        pairings.append(pair)\n",
    "    if cont:\n",
    "        first_leg = current[0]\n",
    "        last_leg = current[-1]\n",
    "        for ed in g.out_edges(last_leg.airport_arrival):\n",
    "            for fl_ed in g[ed[0]][ed[1]][\"flight_list\"].items():\n",
    "                f_inner : Flights = fl_ed[1][0]\n",
    "                if calcDurationInHours(first_leg.date_time_departure, f_inner.date_time_arrival) > 72:\n",
    "                    break\n",
    "                if calcDurationInHours(last_leg.date_time_arrival, f_inner.date_time_departure) >= 0.25:\n",
    "                    current.append(f_inner)\n",
    "                    pairings = searchPairings(current, pairings)\n",
    "                    current.remove(f_inner)\n",
    "    return pairings"
   ]
  },
  {
   "cell_type": "code",
   "execution_count": 20,
   "outputs": [],
   "source": [
    "def calcPairingCost(p_toCalc: Pairings) -> float:\n",
    "    # num_legs = len(pair.legs)\n",
    "    # TAFB = pair.total_duration\n",
    "    # total_duty_cost = max([0, TAFB * 4 / 7, pair.total_flying_time])\n",
    "    # c = max([num_legs * 5, TAFB * 2 / 7, total_duty_cost])\n",
    "    return math.floor(1000*p_toCalc.total_duration/p_toCalc.total_flying_time)"
   ],
   "metadata": {
    "collapsed": false,
    "pycharm": {
     "name": "#%%\n"
    }
   }
  },
  {
   "cell_type": "code",
   "execution_count": 21,
   "metadata": {
    "pycharm": {
     "name": "#%%\n"
    }
   },
   "outputs": [
    {
     "name": "stdout",
     "output_type": "stream",
     "text": [
      "Base: BASE1\n",
      "Generating pairings for ('BASE1', 'AIR1')\n",
      "Pairings Generated = 64\n",
      "Generating pairings for ('BASE1', 'AIR9')\n",
      "Pairings Generated = 1618\n",
      "Generating pairings for ('BASE1', 'AIR10')\n",
      "Pairings Generated = 75\n",
      "Generating pairings for ('BASE1', 'AIR16')\n",
      "Pairings Generated = 28\n",
      "Generating pairings for ('BASE1', 'BASE2')\n",
      "Pairings Generated = 89\n",
      "Generating pairings for ('BASE1', 'AIR18')\n",
      "Pairings Generated = 5\n",
      "Generating pairings for ('BASE1', 'AIR23')\n",
      "Pairings Generated = 7\n",
      "---------------\n",
      "Base: BASE2\n",
      "Generating pairings for ('BASE2', 'AIR12')\n",
      "Pairings Generated = 5504\n",
      "Generating pairings for ('BASE2', 'AIR6')\n",
      "Pairings Generated = 3852\n",
      "Generating pairings for ('BASE2', 'AIR3')\n",
      "Pairings Generated = 6788\n",
      "Generating pairings for ('BASE2', 'AIR2')\n",
      "Pairings Generated = 5920\n",
      "Generating pairings for ('BASE2', 'AIR5')\n",
      "Pairings Generated = 3168\n",
      "Generating pairings for ('BASE2', 'AIR4')\n",
      "Pairings Generated = 8794\n",
      "Generating pairings for ('BASE2', 'AIR7')\n",
      "Pairings Generated = 1757\n",
      "Generating pairings for ('BASE2', 'AIR11')\n",
      "Pairings Generated = 7261\n",
      "Generating pairings for ('BASE2', 'AIR8')\n",
      "Pairings Generated = 978\n",
      "Generating pairings for ('BASE2', 'AIR13')\n",
      "Pairings Generated = 1635\n",
      "Generating pairings for ('BASE2', 'AIR14')\n",
      "Pairings Generated = 665\n",
      "Generating pairings for ('BASE2', 'AIR15')\n",
      "Pairings Generated = 411\n",
      "Generating pairings for ('BASE2', 'AIR17')\n",
      "Pairings Generated = 1397\n",
      "Generating pairings for ('BASE2', 'AIR1')\n",
      "Pairings Generated = 75\n",
      "Generating pairings for ('BASE2', 'AIR19')\n",
      "Pairings Generated = 51\n",
      "Generating pairings for ('BASE2', 'AIR21')\n",
      "Pairings Generated = 189\n",
      "Generating pairings for ('BASE2', 'AIR22')\n",
      "Pairings Generated = 293\n",
      "Generating pairings for ('BASE2', 'AIR20')\n",
      "Pairings Generated = 583\n",
      "Generating pairings for ('BASE2', 'BASE1')\n",
      "Pairings Generated = 265\n",
      "---------------\n",
      "Base: BASE3\n",
      "Generating pairings for ('BASE3', 'AIR9')\n",
      "Pairings Generated = 373\n",
      "Generating pairings for ('BASE3', 'AIR6')\n",
      "Pairings Generated = 878\n",
      "---------------\n"
     ]
    }
   ],
   "source": [
    "all_pairings = []\n",
    "allowedRatio = 25\n",
    "for airport in airports.items():\n",
    "    air = airport[1]\n",
    "    air: Airport\n",
    "    if air.is_base:\n",
    "        print(\"Base: \", air.name, sep=\"\")\n",
    "        for edge in g.out_edges(air.name):\n",
    "            print(\"Generating pairings for \", edge, sep=\"\")\n",
    "            beforeNew = len(all_pairings)\n",
    "            for flight in g[edge[0]][edge[1]][\"flight_list\"].items():\n",
    "                f : Flights = flight[1][0]\n",
    "                # print(f.legNo)\n",
    "\n",
    "                new_pairings = searchPairings([f], [])\n",
    "                all_pairings.extend(new_pairings)\n",
    "            print(\"Pairings Generated = \", len(all_pairings) - beforeNew, sep=\"\")\n",
    "        print(\"---------------\")"
   ]
  },
  {
   "cell_type": "code",
   "execution_count": 22,
   "metadata": {
    "pycharm": {
     "name": "#%%\n"
    }
   },
   "outputs": [
    {
     "name": "stdout",
     "output_type": "stream",
     "text": [
      "Total Pairings Generated: 52723\n"
     ]
    }
   ],
   "source": [
    "# backup = all_pairings[:]\n",
    "print(\"Total Pairings Generated: \", len(all_pairings), sep=\"\")"
   ]
  },
  {
   "cell_type": "code",
   "execution_count": 23,
   "metadata": {
    "pycharm": {
     "name": "#%%\n"
    }
   },
   "outputs": [],
   "source": [
    "for p in all_pairings:\n",
    "    p.cost = calcPairingCost(p)\n",
    "all_pairings.sort(key=lambda xt: xt.cost, reverse=False)\n",
    "\n",
    "final = 0\n",
    "for i, p in enumerate(all_pairings):\n",
    "    p.id = i\n",
    "    final = i\n",
    "\n",
    "flight_pairings = {}\n",
    "\n",
    "for p in all_pairings:\n",
    "    for f in p.legs:\n",
    "        if f.legNo in flight_pairings:\n",
    "            flight_pairings[f.legNo].append(p)\n",
    "        else:\n",
    "            flight_pairings[f.legNo] = [p]"
   ]
  },
  {
   "cell_type": "markdown",
   "source": [
    "# Covering Flights Code"
   ],
   "metadata": {
    "collapsed": false,
    "pycharm": {
     "name": "#%% md\n"
    }
   }
  },
  {
   "cell_type": "code",
   "execution_count": 24,
   "metadata": {
    "pycharm": {
     "name": "#%%\n"
    }
   },
   "outputs": [],
   "source": [
    "def init_cover_list() -> dict:\n",
    "    cvrd = {}\n",
    "    for fl in flights:\n",
    "        cvrd[fl] = (False, 0)\n",
    "    return cvrd"
   ]
  },
  {
   "cell_type": "code",
   "execution_count": 25,
   "metadata": {
    "pycharm": {
     "name": "#%%\n"
    }
   },
   "outputs": [],
   "source": [
    "def getNonCoveredFlights(cvrd) -> list[Flights]:\n",
    "    not_covered_flights = []\n",
    "    for cov in cvrd.items():\n",
    "        if not cov[1][0]:\n",
    "            # print(cov)\n",
    "            not_covered_flights.append(cov)\n",
    "    return not_covered_flights"
   ]
  },
  {
   "cell_type": "code",
   "execution_count": 26,
   "outputs": [],
   "source": [
    "def checkCovered(cvd) -> bool:\n",
    "    covrd = True\n",
    "    # counter = 0\n",
    "    for it in cvd.items():\n",
    "        if not it[1][1]:\n",
    "            covrd = False\n",
    "            break\n",
    "            # counter+=1\n",
    "    # print(counter)\n",
    "    return covrd"
   ],
   "metadata": {
    "collapsed": false,
    "pycharm": {
     "name": "#%%\n"
    }
   }
  },
  {
   "cell_type": "code",
   "execution_count": 27,
   "metadata": {
    "pycharm": {
     "name": "#%%\n"
    }
   },
   "outputs": [],
   "source": [
    "#redundant but kept just in case\n",
    "covered = init_cover_list()\n",
    "for pairing in all_pairings:\n",
    "    pairing : Pairings\n",
    "    for leg in pairing.legs:\n",
    "        covered[leg.legNo] = (True, covered[leg.legNo][1]+1)\n",
    "\n",
    "non_covrd = getNonCoveredFlights(covered)\n",
    "while len(non_covrd) != 0:\n",
    "    print(non_covrd)\n",
    "    list_of_non_cvrd = [e[0] for e in non_covrd]\n",
    "    allowedRatio = 25\n",
    "    for airport in airports.items():\n",
    "        air = airport[1]\n",
    "        air: Airport\n",
    "        if air.is_base:\n",
    "            print(air.name)\n",
    "            for edge in g.out_edges(air.name):\n",
    "                print(edge)\n",
    "                for flight in g[edge[0]][edge[1]][\"flight_list\"].items():\n",
    "                    delete = True\n",
    "                    f : Flights = flight[1][0]\n",
    "\n",
    "                    new_pairings = searchPairings([f], [])\n",
    "                    temp_new_pairings = new_pairings[:]\n",
    "                    for p in new_pairings:\n",
    "                        for leg in p.legs:\n",
    "                            if leg.legNo in list_of_non_cvrd:\n",
    "                                delete = False\n",
    "                        if delete:\n",
    "                            temp_new_pairings.remove(p)\n",
    "\n",
    "                    print(len(temp_new_pairings))\n",
    "                    all_pairings.extend(temp_new_pairings)\n",
    "                print(\"--\")\n",
    "    for pairing in all_pairings:\n",
    "        pairing : Pairings\n",
    "        for leg in pairing.legs:\n",
    "            covered[leg.legNo] = (True, covered[leg.legNo][1]+1)\n",
    "    non_covrd = getNonCoveredFlights(covered)\n",
    "    allowedRatio -= 5"
   ]
  },
  {
   "cell_type": "code",
   "execution_count": 28,
   "metadata": {
    "pycharm": {
     "name": "#%%\n"
    }
   },
   "outputs": [],
   "source": [
    "msg = []\n",
    "pop_dict = {}\n",
    "for i, pairing in enumerate(all_pairings):\n",
    "    pairing: Pairings\n",
    "    display = \"\"\n",
    "    for leg in pairing.legs:\n",
    "        display += leg.legNo + \"->\"\n",
    "        if leg.legNo in pop_dict:\n",
    "            pop_dict[leg.legNo].append(pairing)\n",
    "        else:\n",
    "            pop_dict[leg.legNo] = [pairing]\n",
    "    msg.append(\"\".join([\"Pairing \", str(i + 1), \": \", display[:len(display) - 2]]))\n",
    "    msg.append(\"\".join([\"Total Time:\", str(pairing.total_duration)]))\n",
    "    msg.append(\"\".join([\"Total Flying Time:\", str(pairing.total_flying_time)]))\n",
    "    msg.append(\"--------------\")\n",
    "\n",
    "with open('pairings.txt', 'w', encoding='utf-8') as file:\n",
    "    file.write('\\n'.join(msg))\n",
    "\n",
    "# print(\"Total Pairings:\", len(all_pairings))"
   ]
  },
  {
   "cell_type": "markdown",
   "source": [
    "# Initial Population Code"
   ],
   "metadata": {
    "collapsed": false,
    "pycharm": {
     "name": "#%% md\n"
    }
   }
  },
  {
   "cell_type": "code",
   "execution_count": 29,
   "metadata": {
    "pycharm": {
     "name": "#%%\n"
    }
   },
   "outputs": [],
   "source": [
    "def checkSimilarity(cvd, t_pairing: Pairings) -> int:\n",
    "    total_legs = len(t_pairing.legs)\n",
    "    present_legs = 0\n",
    "    for Leg in t_pairing.legs:\n",
    "        if cvd[Leg.legNo][0]:\n",
    "            present_legs += 1\n",
    "    return present_legs/total_legs * 100"
   ]
  },
  {
   "cell_type": "code",
   "execution_count": 30,
   "outputs": [],
   "source": [
    "def returnFeasibleSolution(curr_sol: Solution):\n",
    "    if len(curr_sol.solution_pairings) == 0:\n",
    "        curr_sol.solution_pairings = convertFromBinaryToPairings(to_convert=curr_sol.solution_encoding)\n",
    "    cov = init_cover_list()\n",
    "    for pair in curr_sol.solution_pairings:\n",
    "        for fl in pair.legs:\n",
    "            cov[fl.legNo] = (True, cov[fl.legNo][1]+1)\n",
    "    non_covered = getNonCoveredFlights(cov)\n",
    "    list_of_non_covered =[e[0] for e in non_covered]\n",
    "    set_of_non_covered = set(list_of_non_covered)\n",
    "\n",
    "\n",
    "    for fl in list_of_non_covered:\n",
    "        if fl in set_of_non_covered:\n",
    "            candidates = []\n",
    "            temp_pairings = flight_pairings[fl]\n",
    "            for pair in temp_pairings:\n",
    "                potential_cover = len(set_of_non_covered.intersection(pair.set_flights))\n",
    "                candidates.append((pair, 1.0*pair.cost/potential_cover))\n",
    "            candidates.sort(key=lambda x: x[1], reverse=False)\n",
    "            curr_sol.solution_pairings.append(candidates[0][0])\n",
    "            if len(curr_sol.solution_encoding)!= 0:\n",
    "                curr_sol.solution_encoding[candidates[0][0].id] = 1\n",
    "            for l3g in candidates[0][0].legs:\n",
    "                if l3g.legNo in set_of_non_covered:\n",
    "                    set_of_non_covered.remove(l3g.legNo)\n",
    "\n",
    "    curr_sol = clearUnusedPairings(curr_sol)\n",
    "    return curr_sol"
   ],
   "metadata": {
    "collapsed": false,
    "pycharm": {
     "name": "#%%\n"
    }
   }
  },
  {
   "cell_type": "code",
   "execution_count": 31,
   "outputs": [],
   "source": [
    "def clearUnusedPairings(curr_sol) -> Solution:\n",
    "    cov = init_cover_list()\n",
    "    curr_sol.solution_pairings.sort(key=lambda xt: xt.cost, reverse=False)\n",
    "    for j, pair in enumerate(curr_sol.solution_pairings):\n",
    "        remove = True\n",
    "        for fl in pair.legs:\n",
    "            if cov[fl.legNo][0] is False:\n",
    "                remove = False\n",
    "                cov[fl.legNo] = (True, None)\n",
    "        if remove:\n",
    "            curr_sol.solution_pairings.remove(pair)\n",
    "            if len(curr_sol.solution_encoding)!= 0:\n",
    "                curr_sol.solution_encoding[pair.id] = 0\n",
    "    return curr_sol"
   ],
   "metadata": {
    "collapsed": false,
    "pycharm": {
     "name": "#%%\n"
    }
   }
  },
  {
   "cell_type": "code",
   "execution_count": 32,
   "outputs": [],
   "source": [
    "def find_random_solution():\n",
    "    solution = Solution()\n",
    "    covered_flights = init_cover_list()\n",
    "    temp_pairings = all_pairings[:]\n",
    "    while len(temp_pairings)!= 0:\n",
    "        index = random.randint(0, len(temp_pairings)-1)\n",
    "        if len(solution.solution_pairings) == 0:\n",
    "            solution.solution_pairings.append(temp_pairings[index])\n",
    "            for Leg in temp_pairings[index].legs:\n",
    "                covered_flights[Leg.legNo] = (True, covered_flights[Leg.legNo][1]+1)\n",
    "        else:\n",
    "            sim = checkSimilarity(covered_flights, temp_pairings[index])\n",
    "            if sim == 0:\n",
    "                solution.solution_pairings.append(temp_pairings[index])\n",
    "                for Leg in temp_pairings[index].legs:\n",
    "                    covered_flights[Leg.legNo] = (True, covered_flights[Leg.legNo][1]+1)\n",
    "        del temp_pairings[index]\n",
    "    return returnFeasibleSolution(solution)"
   ],
   "metadata": {
    "collapsed": false,
    "pycharm": {
     "name": "#%%\n"
    }
   }
  },
  {
   "cell_type": "code",
   "execution_count": 33,
   "metadata": {
    "pycharm": {
     "name": "#%%\n"
    }
   },
   "outputs": [],
   "source": [
    "def calcDeadheadsFromCover(cov):\n",
    "    j = 0\n",
    "    for it in cov.items():\n",
    "        # print(item)\n",
    "        if it[1][1] > 1:\n",
    "            j+=(it[1][1]-1)\n",
    "    return j"
   ]
  },
  {
   "cell_type": "code",
   "execution_count": 34,
   "metadata": {
    "pycharm": {
     "name": "#%%\n"
    }
   },
   "outputs": [],
   "source": [
    "def calcDeadheadsAlt(sol):\n",
    "    j = 0\n",
    "    cov = init_cover_list()\n",
    "    for pr in sol:\n",
    "        for Leg in pr.legs:\n",
    "            cov[Leg] = (True, cov[Leg][1]+1)\n",
    "    for it in cov.items():\n",
    "        # print(item)\n",
    "        if it[1][1] > 1:\n",
    "            j+=(it[1][1]-1)\n",
    "    return j"
   ]
  },
  {
   "cell_type": "code",
   "execution_count": 35,
   "metadata": {
    "pycharm": {
     "name": "#%%\n"
    }
   },
   "outputs": [],
   "source": [
    "def calcDeadheadsFromSolution(sol):\n",
    "    j = 0\n",
    "    cov = init_cover_list()\n",
    "    for pr in sol:\n",
    "        for Leg in pr.legs:\n",
    "            cov[Leg.legNo] = (True, cov[Leg.legNo][1]+1)\n",
    "    for it in cov.items():\n",
    "        # print(item)\n",
    "        if it[1][1] > 1:\n",
    "            j+=(it[1][1]-1)\n",
    "    return j"
   ]
  },
  {
   "cell_type": "code",
   "execution_count": 36,
   "metadata": {
    "pycharm": {
     "name": "#%%\n"
    }
   },
   "outputs": [],
   "source": [
    "def calcSolutionCost(pairs: list[Pairings], deadheads:int) -> float:\n",
    "    c = 0\n",
    "    for pr in pairs:\n",
    "        c+=calcPairingCost(pr)\n",
    "    c+= deadheads*1000\n",
    "    return c"
   ]
  },
  {
   "cell_type": "code",
   "execution_count": 37,
   "metadata": {
    "pycharm": {
     "name": "#%%\n"
    }
   },
   "outputs": [
    {
     "name": "stdout",
     "output_type": "stream",
     "text": [
      "Solution 1\n",
      "Deadheads: 357\n",
      "Solution Length: 221\n",
      "Solution Cost: 1034286\n",
      "Solution 2\n",
      "Deadheads: 375\n",
      "Solution Length: 231\n",
      "Solution Cost: 1105554\n",
      "Solution 3\n",
      "Deadheads: 366\n",
      "Solution Length: 226\n",
      "Solution Cost: 1067328\n",
      "Solution 4\n",
      "Deadheads: 371\n",
      "Solution Length: 221\n",
      "Solution Cost: 1057873\n",
      "Solution 5\n",
      "Deadheads: 343\n",
      "Solution Length: 217\n",
      "Solution Cost: 1032215\n",
      "Solution 6\n",
      "Deadheads: 363\n",
      "Solution Length: 219\n",
      "Solution Cost: 1062963\n",
      "Solution 7\n",
      "Deadheads: 343\n",
      "Solution Length: 221\n",
      "Solution Cost: 1032281\n",
      "Solution 8\n",
      "Deadheads: 407\n",
      "Solution Length: 221\n",
      "Solution Cost: 1116467\n",
      "Solution 9\n",
      "Deadheads: 401\n",
      "Solution Length: 228\n",
      "Solution Cost: 1112362\n",
      "Solution 10\n",
      "Deadheads: 409\n",
      "Solution Length: 219\n",
      "Solution Cost: 1101397\n",
      "Solution 11\n",
      "Deadheads: 377\n",
      "Solution Length: 220\n",
      "Solution Cost: 1054007\n",
      "Solution 12\n",
      "Deadheads: 378\n",
      "Solution Length: 215\n",
      "Solution Cost: 1060585\n",
      "Solution 13\n",
      "Deadheads: 374\n",
      "Solution Length: 225\n",
      "Solution Cost: 1080763\n",
      "Solution 14\n",
      "Deadheads: 358\n",
      "Solution Length: 217\n",
      "Solution Cost: 1035758\n",
      "Solution 15\n",
      "Deadheads: 405\n",
      "Solution Length: 219\n",
      "Solution Cost: 1108028\n",
      "Solution 16\n",
      "Deadheads: 344\n",
      "Solution Length: 219\n",
      "Solution Cost: 1030678\n",
      "Solution 17\n",
      "Deadheads: 395\n",
      "Solution Length: 226\n",
      "Solution Cost: 1111345\n",
      "Solution 18\n",
      "Deadheads: 331\n",
      "Solution Length: 228\n",
      "Solution Cost: 1030867\n",
      "Solution 19\n",
      "Deadheads: 424\n",
      "Solution Length: 221\n",
      "Solution Cost: 1139260\n",
      "Solution 20\n",
      "Deadheads: 358\n",
      "Solution Length: 227\n",
      "Solution Cost: 1068457\n",
      "Solution 21\n",
      "Deadheads: 375\n",
      "Solution Length: 218\n",
      "Solution Cost: 1064297\n",
      "Solution 22\n",
      "Deadheads: 388\n",
      "Solution Length: 215\n",
      "Solution Cost: 1074852\n",
      "Solution 23\n",
      "Deadheads: 394\n",
      "Solution Length: 224\n",
      "Solution Cost: 1089847\n",
      "Solution 24\n",
      "Deadheads: 335\n",
      "Solution Length: 215\n",
      "Solution Cost: 1010325\n",
      "Solution 25\n",
      "Deadheads: 374\n",
      "Solution Length: 229\n",
      "Solution Cost: 1086206\n",
      "Solution 26\n",
      "Deadheads: 373\n",
      "Solution Length: 224\n",
      "Solution Cost: 1070470\n",
      "Solution 27\n",
      "Deadheads: 366\n",
      "Solution Length: 222\n",
      "Solution Cost: 1057545\n",
      "Solution 28\n",
      "Deadheads: 370\n",
      "Solution Length: 219\n",
      "Solution Cost: 1056848\n",
      "Solution 29\n",
      "Deadheads: 404\n",
      "Solution Length: 222\n",
      "Solution Cost: 1098176\n",
      "Solution 30\n",
      "Deadheads: 366\n",
      "Solution Length: 218\n",
      "Solution Cost: 1049685\n",
      "Solution 31\n",
      "Deadheads: 390\n",
      "Solution Length: 226\n",
      "Solution Cost: 1102203\n",
      "Solution 32\n",
      "Deadheads: 425\n",
      "Solution Length: 228\n",
      "Solution Cost: 1134308\n",
      "Solution 33\n",
      "Deadheads: 356\n",
      "Solution Length: 224\n",
      "Solution Cost: 1062043\n",
      "Solution 34\n",
      "Deadheads: 326\n",
      "Solution Length: 215\n",
      "Solution Cost: 1013238\n",
      "Solution 35\n",
      "Deadheads: 411\n",
      "Solution Length: 221\n",
      "Solution Cost: 1114440\n",
      "Solution 36\n",
      "Deadheads: 353\n",
      "Solution Length: 209\n",
      "Solution Cost: 1019495\n",
      "Solution 37\n",
      "Deadheads: 369\n",
      "Solution Length: 223\n",
      "Solution Cost: 1073438\n",
      "Solution 38\n",
      "Deadheads: 373\n",
      "Solution Length: 225\n",
      "Solution Cost: 1069613\n",
      "Solution 39\n",
      "Deadheads: 364\n",
      "Solution Length: 216\n",
      "Solution Cost: 1049634\n",
      "Solution 40\n",
      "Deadheads: 372\n",
      "Solution Length: 218\n",
      "Solution Cost: 1067266\n",
      "Solution 41\n",
      "Deadheads: 393\n",
      "Solution Length: 211\n",
      "Solution Cost: 1059757\n",
      "Solution 42\n",
      "Deadheads: 367\n",
      "Solution Length: 226\n",
      "Solution Cost: 1065819\n",
      "Solution 43\n",
      "Deadheads: 370\n",
      "Solution Length: 226\n",
      "Solution Cost: 1075601\n",
      "Solution 44\n",
      "Deadheads: 378\n",
      "Solution Length: 227\n",
      "Solution Cost: 1092960\n",
      "Solution 45\n",
      "Deadheads: 361\n",
      "Solution Length: 221\n",
      "Solution Cost: 1053334\n",
      "Solution 46\n",
      "Deadheads: 413\n",
      "Solution Length: 232\n",
      "Solution Cost: 1143732\n",
      "Solution 47\n",
      "Deadheads: 360\n",
      "Solution Length: 220\n",
      "Solution Cost: 1047081\n",
      "Solution 48\n",
      "Deadheads: 373\n",
      "Solution Length: 221\n",
      "Solution Cost: 1068247\n",
      "Solution 49\n",
      "Deadheads: 347\n",
      "Solution Length: 213\n",
      "Solution Cost: 1028635\n",
      "Solution 50\n",
      "Deadheads: 348\n",
      "Solution Length: 222\n",
      "Solution Cost: 1049195\n",
      "Solution 51\n",
      "Deadheads: 351\n",
      "Solution Length: 214\n",
      "Solution Cost: 1039926\n",
      "Solution 52\n",
      "Deadheads: 387\n",
      "Solution Length: 216\n",
      "Solution Cost: 1080775\n",
      "Solution 53\n",
      "Deadheads: 397\n",
      "Solution Length: 216\n",
      "Solution Cost: 1095544\n",
      "Solution 54\n",
      "Deadheads: 321\n",
      "Solution Length: 218\n",
      "Solution Cost: 1006862\n",
      "Solution 55\n",
      "Deadheads: 402\n",
      "Solution Length: 224\n",
      "Solution Cost: 1103680\n",
      "Solution 56\n",
      "Deadheads: 382\n",
      "Solution Length: 219\n",
      "Solution Cost: 1064805\n",
      "Solution 57\n",
      "Deadheads: 333\n",
      "Solution Length: 220\n",
      "Solution Cost: 1021553\n",
      "Solution 58\n",
      "Deadheads: 354\n",
      "Solution Length: 222\n",
      "Solution Cost: 1038621\n",
      "Solution 59\n",
      "Deadheads: 334\n",
      "Solution Length: 225\n",
      "Solution Cost: 1030338\n",
      "Solution 60\n",
      "Deadheads: 365\n",
      "Solution Length: 220\n",
      "Solution Cost: 1048764\n",
      "Solution 61\n",
      "Deadheads: 394\n",
      "Solution Length: 222\n",
      "Solution Cost: 1097892\n",
      "Solution 62\n",
      "Deadheads: 371\n",
      "Solution Length: 220\n",
      "Solution Cost: 1057851\n",
      "Solution 63\n",
      "Deadheads: 330\n",
      "Solution Length: 223\n",
      "Solution Cost: 1012980\n",
      "Solution 64\n",
      "Deadheads: 373\n",
      "Solution Length: 217\n",
      "Solution Cost: 1070482\n",
      "Solution 65\n",
      "Deadheads: 389\n",
      "Solution Length: 229\n",
      "Solution Cost: 1100877\n",
      "Solution 66\n",
      "Deadheads: 416\n",
      "Solution Length: 231\n",
      "Solution Cost: 1134640\n",
      "Solution 67\n",
      "Deadheads: 355\n",
      "Solution Length: 212\n",
      "Solution Cost: 1028294\n",
      "Solution 68\n",
      "Deadheads: 393\n",
      "Solution Length: 225\n",
      "Solution Cost: 1107987\n",
      "Solution 69\n",
      "Deadheads: 380\n",
      "Solution Length: 225\n",
      "Solution Cost: 1095485\n",
      "Solution 70\n",
      "Deadheads: 325\n",
      "Solution Length: 223\n",
      "Solution Cost: 1022585\n",
      "Solution 71\n",
      "Deadheads: 343\n",
      "Solution Length: 230\n",
      "Solution Cost: 1047110\n",
      "Solution 72\n",
      "Deadheads: 415\n",
      "Solution Length: 230\n",
      "Solution Cost: 1145388\n",
      "Solution 73\n",
      "Deadheads: 358\n",
      "Solution Length: 224\n",
      "Solution Cost: 1048806\n",
      "Solution 74\n",
      "Deadheads: 344\n",
      "Solution Length: 212\n",
      "Solution Cost: 1037869\n",
      "Solution 75\n",
      "Deadheads: 377\n",
      "Solution Length: 228\n",
      "Solution Cost: 1094206\n",
      "Solution 76\n",
      "Deadheads: 342\n",
      "Solution Length: 216\n",
      "Solution Cost: 1019966\n",
      "Solution 77\n",
      "Deadheads: 339\n",
      "Solution Length: 219\n",
      "Solution Cost: 1028914\n",
      "Solution 78\n",
      "Deadheads: 359\n",
      "Solution Length: 219\n",
      "Solution Cost: 1053194\n",
      "Solution 79\n",
      "Deadheads: 360\n",
      "Solution Length: 221\n",
      "Solution Cost: 1057449\n",
      "Solution 80\n",
      "Deadheads: 371\n",
      "Solution Length: 211\n",
      "Solution Cost: 1042626\n",
      "Solution 81\n",
      "Deadheads: 348\n",
      "Solution Length: 216\n",
      "Solution Cost: 1028397\n",
      "Solution 82\n",
      "Deadheads: 347\n",
      "Solution Length: 222\n",
      "Solution Cost: 1026469\n",
      "Solution 83\n",
      "Deadheads: 357\n",
      "Solution Length: 222\n",
      "Solution Cost: 1052695\n",
      "Solution 84\n",
      "Deadheads: 366\n",
      "Solution Length: 224\n",
      "Solution Cost: 1071908\n",
      "Solution 85\n",
      "Deadheads: 398\n",
      "Solution Length: 231\n",
      "Solution Cost: 1135236\n",
      "Solution 86\n",
      "Deadheads: 363\n",
      "Solution Length: 223\n",
      "Solution Cost: 1056680\n",
      "Solution 87\n",
      "Deadheads: 385\n",
      "Solution Length: 228\n",
      "Solution Cost: 1099080\n",
      "Solution 88\n",
      "Deadheads: 358\n",
      "Solution Length: 227\n",
      "Solution Cost: 1075999\n",
      "Solution 89\n",
      "Deadheads: 368\n",
      "Solution Length: 230\n",
      "Solution Cost: 1085760\n",
      "Solution 90\n",
      "Deadheads: 366\n",
      "Solution Length: 209\n",
      "Solution Cost: 1031421\n",
      "Solution 91\n",
      "Deadheads: 387\n",
      "Solution Length: 223\n",
      "Solution Cost: 1086037\n",
      "Solution 92\n",
      "Deadheads: 379\n",
      "Solution Length: 215\n",
      "Solution Cost: 1069586\n",
      "Solution 93\n",
      "Deadheads: 367\n",
      "Solution Length: 232\n",
      "Solution Cost: 1092939\n",
      "Solution 94\n",
      "Deadheads: 363\n",
      "Solution Length: 214\n",
      "Solution Cost: 1046691\n",
      "Solution 95\n",
      "Deadheads: 345\n",
      "Solution Length: 222\n",
      "Solution Cost: 1046252\n",
      "Solution 96\n",
      "Deadheads: 397\n",
      "Solution Length: 221\n",
      "Solution Cost: 1096326\n",
      "Solution 97\n",
      "Deadheads: 375\n",
      "Solution Length: 227\n",
      "Solution Cost: 1073395\n",
      "Solution 98\n",
      "Deadheads: 332\n",
      "Solution Length: 212\n",
      "Solution Cost: 1000773\n",
      "Solution 99\n",
      "Deadheads: 414\n",
      "Solution Length: 230\n",
      "Solution Cost: 1128164\n",
      "Solution 100\n",
      "Deadheads: 371\n",
      "Solution Length: 221\n",
      "Solution Cost: 1062620\n"
     ]
    }
   ],
   "source": [
    "# covered_list = []\n",
    "\n",
    "pre_population = []\n",
    "\n",
    "for i in range(100):\n",
    "    print(\"Solution\", i+1, sep=\" \", end= \"\\n\")\n",
    "    s = find_random_solution()\n",
    "    s.id = i\n",
    "    s.deadheads = calcDeadheadsFromSolution(s.solution_pairings)\n",
    "    s.solution_cost = calcSolutionCost(s.solution_pairings, s.deadheads)\n",
    "    print(\"Deadheads: \", s.deadheads, sep=\"\")\n",
    "    print(\"Solution Length: \", len(s.solution_pairings), sep=\"\")\n",
    "    print(\"Solution Cost: \", s.solution_cost, sep=\"\")\n",
    "    pre_population.append(s)"
   ]
  },
  {
   "cell_type": "code",
   "execution_count": 38,
   "metadata": {
    "pycharm": {
     "name": "#%%\n"
    }
   },
   "outputs": [],
   "source": [
    "# GA generate 100 solutions randomly -- done\n",
    "# Genesis solution has to be one of the starting 100 -- can be done\n",
    "# Shall always use the best solutions for the following (The best 10 must ALWAYS go in)\n",
    "# have a way of determining if a solution is valid or not. //Genetic repair to fix it\n",
    "#   crossover operator - from the solution ex. you get one pairing from one and another and you star picking from one to another and you do it until a certain point you must repair it.\n",
    "# Genetic operators are SUPER important\n",
    "# fitness func use cost\n",
    "# take the init population and create another 500 from crossover, order them by cost, create another 100 and use prob tournament\n",
    "# take another population\n",
    "\n",
    "#VIMP -- Every solution has to be a unique code - to track if a solution makes it from solution to solution and how it was born and how it died. Some will survive but won't be the best and we must know this. -- solution object created\n",
    "\n",
    "# how many at each generation are new, average lifespan - lower the better as you are getting better ones."
   ]
  },
  {
   "cell_type": "markdown",
   "metadata": {
    "pycharm": {
     "name": "#%% md\n"
    }
   },
   "source": [
    "## Genetic Algorithm"
   ]
  },
  {
   "cell_type": "code",
   "execution_count": 39,
   "metadata": {
    "pycharm": {
     "name": "#%%\n"
    }
   },
   "outputs": [],
   "source": [
    "def convertFromPopulationToBinary(pop):\n",
    "    blank_gene = [0 for _ in all_pairings]\n",
    "\n",
    "    for sol in pop:\n",
    "        sol.solution_encoding = blank_gene[:]\n",
    "        for pair in sol.solution_pairings:\n",
    "            #Just in case assignment went wrong\n",
    "            if not hasattr(pair, \"id\"):\n",
    "                hold = None\n",
    "                found = False\n",
    "                for searcher in all_pairings:\n",
    "                    if pair.end_date_time == searcher.end_date_time and searcher.cost == pair.cost and searcher.start_date_time == pair.start_date_time:\n",
    "                        if not found:\n",
    "                            hold = searcher\n",
    "                            found = True\n",
    "                        else:\n",
    "                            found= False\n",
    "                            break\n",
    "                if found:\n",
    "                    sol.solution_encoding[hold.id] = 1\n",
    "                else:\n",
    "                    print(\"Fatal error\")\n",
    "            else:\n",
    "                sol.solution_encoding[pair.id] = 1"
   ]
  },
  {
   "cell_type": "code",
   "execution_count": 40,
   "outputs": [],
   "source": [
    "def convertFromBinaryToPairings(to_convert):\n",
    "    temp_sol = []\n",
    "    for j, binary in enumerate(to_convert):\n",
    "        if binary == 1:\n",
    "            temp_sol.append(all_pairings[j])\n",
    "    return temp_sol"
   ],
   "metadata": {
    "collapsed": false,
    "pycharm": {
     "name": "#%%\n"
    }
   }
  },
  {
   "cell_type": "code",
   "execution_count": 41,
   "outputs": [],
   "source": [
    "class GeneticAlgorithm:\n",
    "    min_generations = 0\n",
    "    generation_num = 0\n",
    "    mutation_rate = 0\n",
    "    initial_GA_population = 100\n",
    "    population: list[Solution] = []\n",
    "    pop_copy: list[Solution] = []\n",
    "    threshold = -sys.maxsize\n",
    "    crossover_rate = 0\n",
    "    max_generations = 0\n",
    "\n",
    "    def __init__(self, min_generations, mutation_rate, initial_population, threshold, crossover_rate, max_generations):\n",
    "        self.min_generations = min_generations\n",
    "        self.mutation_rate = mutation_rate\n",
    "        self.population = initial_population[:]\n",
    "        self.pop_copy = initial_population[:]\n",
    "        self.threshold = threshold\n",
    "        self.crossover_rate = crossover_rate\n",
    "        self.max_generations = max_generations"
   ],
   "metadata": {
    "collapsed": false,
    "pycharm": {
     "name": "#%%\n"
    }
   }
  },
  {
   "cell_type": "code",
   "execution_count": 63,
   "outputs": [],
   "source": [
    "    %%add_to GeneticAlgorithm\n",
    "    def sort_by_cost(self):\n",
    "        self.population.sort(key=lambda x: x.solution_cost, reverse=False)\n",
    "        self.pop_copy.sort(key=lambda x: x.solution_cost, reverse=False)\n"
   ],
   "metadata": {
    "collapsed": false,
    "pycharm": {
     "name": "#%%\n"
    }
   }
  },
  {
   "cell_type": "code",
   "execution_count": 43,
   "outputs": [],
   "source": [
    "def mutate(child : Solution):\n",
    "    # for j, binary in enumerate(child.solution_encoding):\n",
    "    #     befBin = binary\n",
    "    #     reciprocal = 1/len(child.solution_encoding)\n",
    "    #     if binary == 0:\n",
    "    #         child.solution_encoding[j] = int(random.choices([0,1], weights=[1-reciprocal, reciprocal], k=1)[0])\n",
    "    #     else:\n",
    "    #         child.solution_encoding[j] = int(random.choices([1,0], weights=[1-reciprocal, reciprocal], k=1)[0])\n",
    "    #     # if befBin != child.solution_encoding[j]:\n",
    "    #     #     print(\"Mutate!\")\n",
    "    reciprocal = 1/len(child.solution_encoding)\n",
    "    mutations = (random.choices([0,1], [1-reciprocal, reciprocal], k=len(child.solution_encoding))).count(1)\n",
    "    for j in range(mutations):\n",
    "        indx = random.randint(0, len(child.solution_encoding)-1)\n",
    "        binary = child.solution_encoding[indx]\n",
    "        if binary:\n",
    "            child.solution_encoding[indx] = 0\n",
    "        else:\n",
    "            child.solution_encoding[indx] = 1\n",
    "    return child"
   ],
   "metadata": {
    "collapsed": false,
    "pycharm": {
     "name": "#%%\n"
    }
   }
  },
  {
   "cell_type": "markdown",
   "source": [],
   "metadata": {
    "collapsed": false
   }
  },
  {
   "cell_type": "code",
   "execution_count": 61,
   "outputs": [],
   "source": [
    "def roulette_wheel_selection(GA) -> Solution:\n",
    "    #reproduced from https://rocreguant.com/roulette-wheel-selection-python/2019/\n",
    "    population_fitness = sum([chromosome.solution_cost for chromosome in GA.pop_copy])\n",
    "    chromosome_probabilities = [chromosome.solution_cost/population_fitness for chromosome in GA.pop_copy]\n",
    "    chromosome_probabilities.reverse()\n",
    "\n",
    "    return np.random.choice(GA.pop_copy, p=chromosome_probabilities)"
   ],
   "metadata": {
    "collapsed": false,
    "pycharm": {
     "name": "#%%\n"
    }
   }
  },
  {
   "cell_type": "code",
   "execution_count": 56,
   "outputs": [],
   "source": [
    "#redundant\n",
    "def fusion_crossover(parent1: Solution, parent2: Solution) -> Solution:\n",
    "    curr_child: Solution = Solution()\n",
    "    curr_child.solution_encoding = []\n",
    "    if parent1.solution_cost <= parent2.solution_cost:\n",
    "        fitter_parent = parent1\n",
    "        other_parent = parent2\n",
    "    else:\n",
    "        fitter_parent = parent2\n",
    "        other_parent = parent1\n",
    "\n",
    "    probability = fitter_parent.solution_cost/(fitter_parent.solution_cost+other_parent.solution_cost)\n",
    "\n",
    "    for fp,op in zip(fitter_parent.solution_encoding, other_parent.solution_encoding):\n",
    "        if fp == 1 and op == 1:\n",
    "            curr_child.solution_encoding.append(1)\n",
    "        elif fp == 1 and op == 0 or fp == 0 and op == 1:\n",
    "            curr_child.solution_encoding.append(random.choices([fp,op], weights=[1-probability, probability], k=1)[0])\n",
    "        else:\n",
    "            curr_child.solution_encoding.append(0)\n",
    "\n",
    "    return curr_child\n"
   ],
   "metadata": {
    "collapsed": false,
    "pycharm": {
     "name": "#%%\n"
    }
   }
  },
  {
   "cell_type": "code",
   "execution_count": 55,
   "outputs": [],
   "source": [
    "# redundant\n",
    "def uniform_crossover(parent1: Solution, parent2: Solution) -> Solution:\n",
    "    curr_child: Solution = Solution()\n",
    "    curr_child.solution_encoding = []\n",
    "    for p1,p2 in zip(parent1.solution_encoding, parent2.solution_encoding):\n",
    "        if p1 == 1 and p2 == 1:\n",
    "            curr_child.solution_encoding.append(1)\n",
    "        elif p1 == 1 and p2 == 0 or p1 == 0 and p2 == 1:\n",
    "            chance = random.randint(1,100)\n",
    "            if chance <= 50:\n",
    "                curr_child.solution_encoding.append(1)\n",
    "            else:\n",
    "                curr_child.solution_encoding.append(0)\n",
    "        else:\n",
    "            curr_child.solution_encoding.append(0)\n",
    "\n",
    "    return curr_child"
   ],
   "metadata": {
    "collapsed": false,
    "pycharm": {
     "name": "#%%\n"
    }
   }
  },
  {
   "cell_type": "code",
   "execution_count": 54,
   "outputs": [],
   "source": [
    "def single_point_crossover(parent1: Solution, parent2: Solution, crossover_point=None) -> (Solution, Solution):\n",
    "    if crossover_point is None:\n",
    "        min_point = len(parent1.solution_encoding)\n",
    "        max_point = 0\n",
    "        first_binary = True\n",
    "        for j,b1,b2 in enumerate(zip(parent1.solution_encoding,parent2.solution_encoding)):\n",
    "            if first_binary and b1 != b2:\n",
    "                min_point = j\n",
    "                first_binary = False\n",
    "            elif b1 != b2 and not first_binary:\n",
    "                max_point = j\n",
    "        crossover_point = random.randint(min_point, max_point)\n",
    "    curr_child_1 = Solution()\n",
    "    curr_child_2 = Solution()\n",
    "    curr_child_1.solution_encoding = parent1.solution_encoding[:]\n",
    "    curr_child_2.solution_encoding = parent2.solution_encoding[:]\n",
    "\n",
    "    for j in range(crossover_point,len(parent1.solution_encoding)):\n",
    "        curr_child_1.solution_encoding[i],curr_child_2.solution_encoding[i] = curr_child_2.solution_encoding[i],curr_child_1.solution_encoding[i]\n",
    "\n",
    "    return curr_child_1,curr_child_2\n"
   ],
   "metadata": {
    "collapsed": false,
    "pycharm": {
     "name": "#%%\n"
    }
   }
  },
  {
   "cell_type": "code",
   "execution_count": 53,
   "outputs": [],
   "source": [
    "def two_point_crossover(parent1: Solution, parent2: Solution) -> (Solution, Solution):\n",
    "    min_point_1 = parent1.solution_encoding.index(1)\n",
    "    min_point_2 = parent2.solution_encoding.index(1)\n",
    "\n",
    "    reversed_list_1 = parent1.solution_encoding[::-1]\n",
    "    first_index_in_reversed_1 = reversed_list_1.index(1)\n",
    "    last_index_1 = len(parent1.solution_encoding) -1 - first_index_in_reversed_1\n",
    "\n",
    "    reversed_list_2 = parent2.solution_encoding[::-1]\n",
    "    first_index_in_reversed_2 = reversed_list_2.index(1)\n",
    "    last_index_2 = len(parent2.solution_encoding) -1 - first_index_in_reversed_2\n",
    "\n",
    "    if min_point_1 < min_point_2:\n",
    "        min_point = min_point_1\n",
    "    else:\n",
    "        min_point = min_point_2\n",
    "\n",
    "    if last_index_1 > last_index_2:\n",
    "        max_point = last_index_1\n",
    "    else:\n",
    "        max_point = last_index_2\n",
    "\n",
    "    crossover_points = []\n",
    "    while len(set(crossover_points)) < 2:\n",
    "        try:\n",
    "            crossover_points = random.choices(list(range(min_point, max_point)), k=2)\n",
    "        except:\n",
    "            crossover_points = random.choices(list(range(0, len(parent1.solution_encoding-1))), k=2)\n",
    "    curr_child_1 = Solution()\n",
    "    curr_child_2 = Solution()\n",
    "    curr_child_1.solution_encoding = parent1.solution_encoding[:]\n",
    "    curr_child_2.solution_encoding = parent2.solution_encoding[:]\n",
    "\n",
    "    for j in crossover_points:\n",
    "        curr_child_1,curr_child_2 = single_point_crossover(curr_child_1, curr_child_2, j)\n",
    "    return curr_child_1, curr_child_2\n"
   ],
   "metadata": {
    "collapsed": false,
    "pycharm": {
     "name": "#%%\n"
    }
   }
  },
  {
   "cell_type": "code",
   "execution_count": 75,
   "outputs": [],
   "source": [
    "def prepare_offspring(child_1, child_2) -> (Solution, Solution):\n",
    "    child_1 = mutate(child_1)\n",
    "    child_2 = mutate(child_2)\n",
    "\n",
    "\n",
    "    child_1 = returnFeasibleSolution(child_1)\n",
    "    child_2 = returnFeasibleSolution(child_2)\n",
    "\n",
    "    child_1.deadheads = calcDeadheadsFromSolution(child_1.solution_pairings)\n",
    "    child_1.solution_cost = calcSolutionCost(child_1.solution_pairings, child_1.deadheads)\n",
    "    child_2.deadheads = calcDeadheadsFromSolution(child_2.solution_pairings)\n",
    "    child_2.solution_cost = calcSolutionCost(child_2.solution_pairings, child_2.deadheads)\n",
    "\n",
    "    return child_1, child_2"
   ],
   "metadata": {
    "collapsed": false,
    "pycharm": {
     "name": "#%%\n"
    }
   }
  },
  {
   "cell_type": "code",
   "execution_count": 79,
   "outputs": [],
   "source": [
    "def start(GA):\n",
    "    GA.sort_by_cost()\n",
    "    curr_gen = 0\n",
    "    cost_threshold = GA.population[0].solution_cost\n",
    "    lowest_cost_solution = GA.population[0]\n",
    "    while GA.threshold < cost_threshold:\n",
    "\n",
    "        curr_gen += 1\n",
    "        removeChildren = 0\n",
    "        offspring_generate = 500\n",
    "        best_two_crossed = False\n",
    "        final_id = -1\n",
    "        for j in range(offspring_generate):\n",
    "            # print(j)\n",
    "            parent1 = roulette_wheel_selection(GA)\n",
    "            GA.pop_copy.remove(parent1)\n",
    "            parent2 = roulette_wheel_selection(GA)\n",
    "            GA.pop_copy.append(parent1)\n",
    "\n",
    "            if (parent1.id == GA.pop_copy[0].id and parent2.id == GA.pop_copy[1].id) or (parent2.id == GA.pop_copy[0].id and parent1.id == GA.pop_copy[1].id):\n",
    "                best_two_crossed = True\n",
    "\n",
    "            child_1,child_2 = two_point_crossover(parent1, parent2)\n",
    "\n",
    "            child_1,child_2 = prepare_offspring(child_1, child_2)\n",
    "\n",
    "            if child_1.solution_cost < lowest_cost_solution.solution_cost:\n",
    "                lowest_cost_solution = child_1\n",
    "            if child_2.solution_cost < lowest_cost_solution.solution_cost:\n",
    "                lowest_cost_solution = child_2\n",
    "            child_1.gen_time = curr_gen\n",
    "            child_2.gen_time = curr_gen\n",
    "\n",
    "            if j*2 < 10:\n",
    "                child_1.id = int(str(curr_gen) + \"0\" + str(j))\n",
    "                child_2.id = int(str(curr_gen) + \"0\" + str(j+1))\n",
    "            else:\n",
    "                child_1.id = int(str(curr_gen) + str(j))\n",
    "                child_2.id = int(str(curr_gen) + str(j+1))\n",
    "\n",
    "            if not (child_1.solution_encoding == parent1.solution_encoding or\n",
    "                    child_1.solution_encoding == parent2.solution_encoding):\n",
    "                GA.population.append(child_1)\n",
    "            # else:\n",
    "                removeChildren += 1\n",
    "            if not (child_2.solution_encoding == parent1.solution_encoding or\n",
    "                    child_2.solution_encoding == parent2.solution_encoding):\n",
    "                GA.population.append(child_2)\n",
    "            # else:\n",
    "                removeChildren +=1\n",
    "\n",
    "            final_id = child_2.id\n",
    "\n",
    "        if not best_two_crossed:\n",
    "            parent1 = GA.pop_copy[0]\n",
    "            parent2 = GA.pop_copy[1]\n",
    "            child_1, child_2 = two_point_crossover(parent1, parent2)\n",
    "\n",
    "            child_1, child_2 = prepare_offspring(child_1, child_2)\n",
    "\n",
    "            if child_1.solution_cost < lowest_cost_solution.solution_cost:\n",
    "                lowest_cost_solution = child_1\n",
    "            if child_2.solution_cost < lowest_cost_solution.solution_cost:\n",
    "                lowest_cost_solution = child_2\n",
    "\n",
    "            child_1.gen_time = curr_gen\n",
    "            child_2.gen_time = curr_gen\n",
    "\n",
    "            child_1.id = final_id + 1\n",
    "            child_2.id = final_id + 2\n",
    "\n",
    "            if not (child_1.solution_encoding == parent1.solution_encoding or\n",
    "                    child_1.solution_encoding == parent2.solution_encoding):\n",
    "                GA.population.append(child_1)\n",
    "            # else:\n",
    "                removeChildren += 1\n",
    "\n",
    "            if not (child_2.solution_encoding == parent1.solution_encoding or\n",
    "                    child_2.solution_encoding == parent2.solution_encoding):\n",
    "                GA.population.append(child_2)\n",
    "            # else:\n",
    "                removeChildren +=1\n",
    "\n",
    "\n",
    "        GA.sort_by_cost()\n",
    "\n",
    "        for j in range(removeChildren-1):\n",
    "            del GA.population[-1]\n",
    "\n",
    "        cost_threshold = GA.population[0].solution_cost\n",
    "\n",
    "        print(\"Generation: \", curr_gen, sep=\"\")\n",
    "        print(GA.population[0].solution_cost)\n",
    "        kept = 0\n",
    "        for pair in GA.population:\n",
    "            if pair.gen_time == curr_gen:\n",
    "                kept += 1\n",
    "        print(\"Children kept:\", kept)\n",
    "\n",
    "        GA.pop_copy = GA.population[:]\n",
    "        #print average lifespan\n",
    "        #\n",
    "\n",
    "    return GA.population[0]"
   ],
   "metadata": {
    "collapsed": false,
    "pycharm": {
     "name": "#%%\n"
    }
   }
  },
  {
   "cell_type": "code",
   "execution_count": 79,
   "metadata": {
    "pycharm": {
     "name": "#%%\n"
    }
   },
   "outputs": [],
   "source": [
    "convertFromPopulationToBinary(pre_population)\n",
    "Gen_Alg = GeneticAlgorithm(10, 5, pre_population[:], calcSolutionCost(genesisPair, calcDeadheadsAlt(genesisPair)), 0.4, 100)\n",
    "best_solution = start(Gen_Alg)"
   ]
  }
 ],
 "metadata": {
  "kernelspec": {
   "display_name": "Python 3 (ipykernel)",
   "language": "python",
   "name": "python3"
  },
  "language_info": {
   "codemirror_mode": {
    "name": "ipython",
    "version": 3
   },
   "file_extension": ".py",
   "mimetype": "text/x-python",
   "name": "python",
   "nbconvert_exporter": "python",
   "pygments_lexer": "ipython3",
   "version": "3.10.3"
  }
 },
 "nbformat": 4,
 "nbformat_minor": 1
}