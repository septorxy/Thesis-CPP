{
 "cells": [
  {
   "cell_type": "code",
   "execution_count": null,
   "metadata": {
    "collapsed": true
   },
   "outputs": [],
   "source": [
    "import copy\n",
    "import csv\n",
    "import math\n",
    "import os\n",
    "import sys\n",
    "from datetime import datetime\n",
    "import matplotlib\n",
    "import numpy as np\n",
    "import matplotlib.pyplot as plt\n",
    "import random\n",
    "import networkx as nx\n",
    "import jdc\n"
   ]
  },
  {
   "cell_type": "code",
   "execution_count": null,
   "metadata": {
    "pycharm": {
     "name": "#%%\n"
    }
   },
   "outputs": [],
   "source": [
    "def calcDurationInHours(starting_time, ending_time):\n",
    "    return (ending_time - starting_time).total_seconds() / 60 / 60"
   ]
  },
  {
   "cell_type": "code",
   "execution_count": null,
   "metadata": {
    "pycharm": {
     "name": "#%%\n"
    }
   },
   "outputs": [],
   "source": [
    "class Flights(object):\n",
    "    legNo = \"\"\n",
    "    airport_departure = \"\"\n",
    "    date_departure = \"\"\n",
    "    hour_departure = \"\"\n",
    "    airport_arrival = \"\"\n",
    "    date_arrival = \"\"\n",
    "    hour_arrival = \"\"\n",
    "    pairing_relation = \"\"\n",
    "    date_time_arrival = None\n",
    "    date_time_departure = None\n",
    "    duration = 0\n",
    "\n",
    "    # deadhead = False\n",
    "\n",
    "    def __int__(self):\n",
    "        self.legNo = self.legNo\n",
    "        self.airport_departure = self.airport_departure\n",
    "        self.date_departure = self.date_departure\n",
    "        self.hour_departure = self.hour_departure\n",
    "        self.airport_arrival = self.airport_arrival\n",
    "        self.date_arrival = self.date_arrival\n",
    "        self.hour_arrival = self.hour_arrival\n",
    "        # self.pairing_relation = self.pairing_relation\n",
    "\n",
    "    def setDateTime(self):\n",
    "        self.date_time_departure = datetime.strptime(str(self.date_departure + ' ' + self.hour_departure), \"%Y-%m-%d \"\n",
    "                                                                                                           \"%H:%M\")\n",
    "        self.date_time_arrival = datetime.strptime(str(self.date_arrival + ' ' + self.hour_arrival), \"%Y-%m-%d %H:%M\")\n",
    "        diff = self.date_time_arrival - self.date_time_departure\n",
    "        seconds_in_hours = diff.seconds / 60 / 60\n",
    "        days_in_hours = diff.days * 24\n",
    "        self.duration = seconds_in_hours + days_in_hours\n",
    "\n",
    "    def __eq__(self, other):\n",
    "        return self.legNo == other.legNo\n",
    "\n",
    "    def __hash__(self):\n",
    "        return hash(('legNo', self.legNo))\n"
   ]
  },
  {
   "cell_type": "code",
   "execution_count": null,
   "metadata": {
    "pycharm": {
     "name": "#%%\n"
    }
   },
   "outputs": [],
   "source": [
    "class Duties(object):\n",
    "    legs: list[Flights] = []\n",
    "    start_date_time = None\n",
    "    end_date_time = None\n",
    "    starting_airport = \"\"\n",
    "    ending_airport = \"\"\n",
    "    total_flying_time = 0\n",
    "    total_duration = 0\n",
    "\n",
    "    def __init__(self, legs: list[Flights]):\n",
    "        dur = 0\n",
    "        self.legs = legs\n",
    "        self.start_date_time = legs[0].date_time_departure\n",
    "        self.end_date_time = legs[-1].date_time_arrival\n",
    "        self.starting_airport = legs[0].airport_departure\n",
    "        self.ending_airport = legs[-1].airport_arrival\n",
    "        for l3g in legs:\n",
    "            dur += (l3g.date_time_arrival-l3g.date_time_departure).total_seconds()/60/60\n",
    "        self.total_flying_time = dur\n",
    "        self.total_duration = (self.end_date_time - self.start_date_time).total_seconds() / 60 / 60\n"
   ]
  },
  {
   "cell_type": "code",
   "execution_count": null,
   "metadata": {
    "pycharm": {
     "name": "#%%\n"
    }
   },
   "outputs": [],
   "source": [
    "class Pairings(object):\n",
    "    legs: list[Flights] = []\n",
    "    start_date_time = None\n",
    "    end_date_time = None\n",
    "    base_airport = \"\"\n",
    "    total_duration = 0\n",
    "    total_flying_time = 0\n",
    "    cost = 0\n",
    "\n",
    "    def __init__(self, fls: list[Flights]):\n",
    "        self.legs = []\n",
    "\n",
    "        self.legs = fls\n",
    "        for l3g in self.legs:\n",
    "            self.total_flying_time += calcDurationInHours(l3g.date_time_departure, l3g.date_time_arrival)\n",
    "        # self.total_flying_time += dty.total_flying_time\n",
    "        self.start_date_time = self.legs[0].date_time_departure\n",
    "        self.end_date_time = self.legs[-1].date_time_arrival\n",
    "        self.base_airport = self.legs[0].airport_departure\n",
    "        # self.total_flying_time = reduce(mul, [x.total_flying_time for x in duties])\n",
    "        self.total_duration = calcDurationInHours(self.start_date_time, self.end_date_time)\n",
    "\n",
    "    def __eq__(self, other):\n",
    "        return self.legs == other.legs"
   ]
  },
  {
   "cell_type": "code",
   "execution_count": null,
   "metadata": {
    "pycharm": {
     "name": "#%%\n"
    }
   },
   "outputs": [],
   "source": [
    "class Airport(object):\n",
    "    name = \"\"\n",
    "    is_base = None\n",
    "\n",
    "    def __init__(self):\n",
    "        self.name = self.name\n",
    "        self.is_base = self.is_base"
   ]
  },
  {
   "cell_type": "code",
   "execution_count": null,
   "metadata": {
    "pycharm": {
     "name": "#%%\n"
    }
   },
   "outputs": [],
   "source": [
    "flights = {}\n",
    "tempFlights = []\n",
    "for day in range(31):\n",
    "    path = os.getcwd() + '\\instance1\\day_' + str(day + 1) + '.csv'\n",
    "    first = True\n",
    "    with open(path) as csv_file:\n",
    "        reader = csv.reader(csv_file, delimiter=',')\n",
    "        for row in reader:\n",
    "            if not row:\n",
    "                continue\n",
    "            elif first:\n",
    "                first = False\n",
    "                continue\n",
    "            elif len(row) <= 6:\n",
    "                continue\n",
    "            else:\n",
    "                f = Flights()\n",
    "                f.legNo = row[0].strip()\n",
    "                f.airport_departure = row[1].strip()\n",
    "                f.date_departure = row[2].strip()\n",
    "                f.hour_departure = row[3].strip()\n",
    "                f.airport_arrival = row[4].strip()\n",
    "                f.date_arrival = row[5].strip()\n",
    "                f.hour_arrival = row[6].strip()\n",
    "                key = str(f.legNo.strip())\n",
    "                # covered[key] = (False, 0)\n",
    "                f.setDateTime()\n",
    "                tempFlights.append(f)\n",
    "\n",
    "tempFlights.sort(key=lambda x: x.date_time_arrival, reverse=False)\n",
    "for flight in tempFlights:\n",
    "    flights[flight.legNo] = flight\n",
    "flights"
   ]
  },
  {
   "cell_type": "code",
   "execution_count": null,
   "metadata": {
    "pycharm": {
     "name": "#%%\n"
    }
   },
   "outputs": [],
   "source": [
    "airports = {}\n",
    "# bases = {}\n",
    "path = os.getcwd() + '\\instance1\\listOfBases.csv'\n",
    "with open(path) as csv_file:\n",
    "    reader = csv.reader(csv_file, delimiter=',')\n",
    "    first = True\n",
    "    for row in reader:\n",
    "        if not first:\n",
    "            a = Airport()\n",
    "            a.name = row[0].strip()\n",
    "            if int(row[1]):\n",
    "                a.is_base = True\n",
    "                # bases[a.name] = a\n",
    "            else:\n",
    "                a.is_base = False\n",
    "            airports[a.name] = a\n",
    "        else:\n",
    "            first = False\n"
   ]
  },
  {
   "cell_type": "code",
   "execution_count": null,
   "metadata": {
    "pycharm": {
     "name": "#%%\n"
    }
   },
   "outputs": [],
   "source": [
    "# g = Graph()\n",
    "g = nx.DiGraph()"
   ]
  },
  {
   "cell_type": "code",
   "execution_count": null,
   "metadata": {
    "pycharm": {
     "name": "#%%\n"
    }
   },
   "outputs": [],
   "source": [
    "for airport in airports.keys():\n",
    "    g.add_node(airport)\n"
   ]
  },
  {
   "cell_type": "code",
   "execution_count": null,
   "metadata": {
    "pycharm": {
     "name": "#%%\n"
    }
   },
   "outputs": [],
   "source": [
    "for flight in flights.items():\n",
    "    day = int(flight[1].legNo[4:6])\n",
    "    if not g.has_edge(flight[1].airport_departure, flight[1].airport_arrival):\n",
    "        g.add_edge(flight[1].airport_departure, flight[1].airport_arrival, flight_list = {f\"{flight[1].legNo}\": (flight[1], False, day)}, weight=flight[1].duration)\n",
    "    else:\n",
    "        orig = g[flight[1].airport_departure][flight[1].airport_arrival][\"flight_list\"]\n",
    "        orig[flight[1].legNo] = (flight[1], False, day)\n",
    "        new_attr = {(flight[1].airport_departure, flight[1].airport_arrival) : {\"flight_list\" : orig}}\n",
    "        nx.set_edge_attributes(g, new_attr)"
   ]
  },
  {
   "cell_type": "code",
   "execution_count": null,
   "metadata": {
    "pycharm": {
     "name": "#%%\n"
    }
   },
   "outputs": [],
   "source": [
    "[e for e in g.edges.data(\"flight_list\")]"
   ]
  },
  {
   "cell_type": "code",
   "execution_count": null,
   "metadata": {
    "pycharm": {
     "name": "#%%\n"
    }
   },
   "outputs": [],
   "source": [
    "pos = nx.circular_layout(g)\n",
    "# pos[\"AIR17\"] = [-0.5, 0.2]\n",
    "# pos[\"AIR1\"] = [0.07, -0.21901309]\n",
    "# pos[\"AIR22\"] = [0.65106971, -0.25]\n",
    "c_m = {}\n",
    "for item in airports.items():\n",
    "    if item[1].is_base:\n",
    "        c_m[item[1].name] = \"orange\"\n",
    "    else:\n",
    "        c_m[item[1].name] = \"blue\"\n",
    "colors = [c_m.get(node) for node in g.nodes()]\n",
    "plt.figure(figsize= (10,9))\n",
    "nx.draw_networkx(g, pos, node_size=1000, font_size=11, node_color=colors)"
   ]
  },
  {
   "cell_type": "code",
   "metadata": {
    "pycharm": {
     "name": "#%%\n"
    }
   },
   "source": [
    "for edge in g.in_edges:\n",
    "    print(edge)\n"
   ],
   "execution_count": null,
   "outputs": []
  },
  {
   "cell_type": "code",
   "execution_count": null,
   "metadata": {
    "pycharm": {
     "name": "#%%\n"
    }
   },
   "outputs": [],
   "source": [
    "def validPairing(curr: list[Flights]) -> tuple[int, int]:\n",
    "    kp = 1\n",
    "    ct = 1\n",
    "    length_curr = len(curr)\n",
    "    tempP = Pairings(curr)\n",
    "    if tempP.total_flying_time / tempP.total_duration * 100 < allowedRatio:\n",
    "        kp = 0\n",
    "        # if tempP.total_flying_time / tempP.total_duration * 100 < 20:\n",
    "        #     return 0, 0\n",
    "        # print(\"low ratio\")\n",
    "\n",
    "    if tempP.base_airport != curr[-1].airport_arrival:\n",
    "        kp = 0\n",
    "        # print(\"non base\")\n",
    "\n",
    "    if tempP.total_duration > 72:\n",
    "        # print(\"too long\")\n",
    "        return 0, 0\n",
    "\n",
    "    layover_timer = 0\n",
    "    for i, fl in enumerate(curr):\n",
    "        if length_curr != i+1:\n",
    "            flight_diff = calcDurationInHours(fl.date_time_arrival, curr[i+1].date_time_departure)\n",
    "            if flight_diff < 0.25:\n",
    "                # print(\"flight diff constraint violated\")\n",
    "                return 0, 0\n",
    "\n",
    "            layover_timer += calcDurationInHours(fl.date_time_departure, curr[i+1].date_time_departure)\n",
    "\n",
    "            if flight_diff >= 8:\n",
    "                layover_timer = 0\n",
    "            elif layover_timer > 8:\n",
    "                # print(\"layover constraint violated\")\n",
    "                return 0, 0\n",
    "\n",
    "\n",
    "    return kp, ct"
   ]
  },
  {
   "cell_type": "code",
   "execution_count": null,
   "metadata": {
    "pycharm": {
     "name": "#%%\n"
    }
   },
   "outputs": [],
   "source": [
    "def searchPairings(current: list[Flights], pairings: list[Pairings]) -> list[Pairings]:\n",
    "    keep, cont = validPairing(current)\n",
    "    if keep:\n",
    "        p = Pairings(copy.deepcopy(current))\n",
    "        pairings.append(p)\n",
    "    if cont:\n",
    "        first_leg = current[0]\n",
    "        last_leg = current[-1]\n",
    "        for ed in g.out_edges(last_leg.airport_arrival):\n",
    "            for fl_ed in g[ed[0]][ed[1]][\"flight_list\"].items():\n",
    "                f_inner : Flights = fl_ed[1][0]\n",
    "                if calcDurationInHours(first_leg.date_time_departure, f_inner.date_time_arrival) > 72:\n",
    "                    break\n",
    "                if calcDurationInHours(last_leg.date_time_arrival, f_inner.date_time_departure) >= 0.25:\n",
    "                    current.append(f_inner)\n",
    "                    pairings = searchPairings(current, pairings)\n",
    "                    current.remove(f_inner)\n",
    "    return pairings"
   ]
  },
  {
   "cell_type": "code",
   "execution_count": null,
   "metadata": {
    "pycharm": {
     "name": "#%%\n"
    }
   },
   "outputs": [],
   "source": [
    "all_pairings = []\n",
    "allowedRatio = 25\n",
    "for airport in airports.items():\n",
    "    air = airport[1]\n",
    "    air: Airport\n",
    "    if air.is_base:\n",
    "        print(air.name)\n",
    "        for edge in g.out_edges(air.name):\n",
    "            print(edge)\n",
    "            for flight in g[edge[0]][edge[1]][\"flight_list\"].items():\n",
    "                f : Flights = flight[1][0]\n",
    "                # print(f.legNo)\n",
    "\n",
    "                new_pairings = searchPairings([f], [])\n",
    "                print(len(new_pairings))\n",
    "                all_pairings.extend(new_pairings)\n",
    "            print(\"--\")"
   ]
  },
  {
   "cell_type": "code",
   "execution_count": null,
   "metadata": {
    "pycharm": {
     "name": "#%%\n"
    }
   },
   "outputs": [],
   "source": [
    "len(all_pairings)"
   ]
  },
  {
   "cell_type": "code",
   "execution_count": null,
   "metadata": {
    "pycharm": {
     "name": "#%%\n"
    }
   },
   "outputs": [],
   "source": [
    "def init_cover_list() -> dict:\n",
    "    cvrd = {}\n",
    "    for fl in flights:\n",
    "        cvrd[fl] = (False, 0)\n",
    "    return cvrd"
   ]
  },
  {
   "cell_type": "code",
   "execution_count": null,
   "metadata": {
    "pycharm": {
     "name": "#%%\n"
    }
   },
   "outputs": [],
   "source": [
    "def getNonCoveredFlights(cvrd) -> list[Flights]:\n",
    "    not_covered_flights = []\n",
    "    for cov in cvrd.items():\n",
    "        if not cov[1][0]:\n",
    "            print(cov)\n",
    "            not_covered_flights.append(cov)\n",
    "    return not_covered_flights"
   ]
  },
  {
   "cell_type": "code",
   "execution_count": null,
   "metadata": {
    "pycharm": {
     "name": "#%%\n"
    }
   },
   "outputs": [],
   "source": [
    "covered = init_cover_list()\n",
    "for pairing in all_pairings:\n",
    "    pairing : Pairings\n",
    "    for leg in pairing.legs:\n",
    "        covered[leg.legNo] = (True, covered[leg.legNo][1]+1)\n",
    "\n",
    "non_covrd = getNonCoveredFlights(covered)\n",
    "print(non_covrd)"
   ]
  },
  {
   "cell_type": "code",
   "execution_count": null,
   "metadata": {
    "pycharm": {
     "name": "#%%\n"
    }
   },
   "outputs": [],
   "source": [
    "\n",
    "while len(non_covrd) != 0:\n",
    "    list_of_non_cvrd = [e[0] for e in non_covrd]\n",
    "    allowedRatio = 25\n",
    "    for airport in airports.items():\n",
    "        air = airport[1]\n",
    "        air: Airport\n",
    "        if air.is_base:\n",
    "            print(air.name)\n",
    "            for edge in g.out_edges(air.name):\n",
    "                print(edge)\n",
    "                for flight in g[edge[0]][edge[1]][\"flight_list\"].items():\n",
    "                    delete = True\n",
    "                    f : Flights = flight[1][0]\n",
    "                    # print(f.legNo)\n",
    "\n",
    "                    new_pairings = searchPairings([f], [])\n",
    "                    temp_new_pairings = new_pairings[:]\n",
    "                    for pair in new_pairings:\n",
    "                        for leg in pair.legs:\n",
    "                            if leg.legNo in list_of_non_cvrd:\n",
    "                                delete = False\n",
    "                        if delete:\n",
    "                            temp_new_pairings.remove(pair)\n",
    "\n",
    "                    print(len(temp_new_pairings))\n",
    "                    all_pairings.extend(temp_new_pairings)\n",
    "                print(\"--\")\n",
    "    for pairing in all_pairings:\n",
    "        pairing : Pairings\n",
    "        for leg in pairing.legs:\n",
    "            covered[leg.legNo] = (True, covered[leg.legNo][1]+1)\n",
    "    non_covrd = getNonCoveredFlights(covered)\n",
    "    allowedRatio -= 5"
   ]
  },
  {
   "cell_type": "code",
   "execution_count": null,
   "metadata": {
    "pycharm": {
     "name": "#%%\n"
    }
   },
   "outputs": [],
   "source": [
    "msg = []\n",
    "pop_dict = {}\n",
    "for i, pairing in enumerate(all_pairings):\n",
    "    pairing: Pairings\n",
    "    display = \"\"\n",
    "    for leg in pairing.legs:\n",
    "        display += leg.legNo + \"->\"\n",
    "        if leg.legNo in pop_dict:\n",
    "            pop_dict[leg.legNo].append(pairing)\n",
    "        else:\n",
    "            pop_dict[leg.legNo] = [pairing]\n",
    "    msg.append(\"\".join([\"Pairing \", str(i + 1), \": \", display[:len(display) - 2]]))\n",
    "    msg.append(\"\".join([\"Total Time:\", str(pairing.total_duration)]))\n",
    "    msg.append(\"\".join([\"Total Flying Time:\", str(pairing.total_flying_time)]))\n",
    "    msg.append(\"--------------\")\n",
    "\n",
    "with open('pairings.txt', 'w', encoding='utf-8') as file:\n",
    "    file.write('\\n'.join(msg))\n",
    "\n",
    "print(\"Total Pairings:\", len(all_pairings))"
   ]
  },
  {
   "cell_type": "code",
   "execution_count": null,
   "metadata": {
    "pycharm": {
     "name": "#%%\n"
    }
   },
   "outputs": [],
   "source": [
    "# with open(\"covered.txt\", 'w') as file:\n",
    "#     for key, value in covered.items():\n",
    "#         file.write('%s:%s\\n' % (key, value))"
   ]
  },
  {
   "cell_type": "code",
   "execution_count": null,
   "metadata": {
    "pycharm": {
     "name": "#%%\n"
    }
   },
   "outputs": [],
   "source": [
    "# pairings_base_1 = {}\n",
    "# pairings_base_2 = {}\n",
    "# pairings_base_3 = {}\n",
    "# for i, pair in enumerate(all_pairings):\n",
    "#     if pair.base_airport == \"BASE1\":\n",
    "#         pairings_base_1[\"Pairing\" + str(i)] = pair\n",
    "#     elif pair.base_airport == \"BASE2\":\n",
    "#         pairings_base_2[\"Pairing\" + str(i)] = pair\n",
    "#     elif pair.base_airport == \"BASE3\":\n",
    "#         pairings_base_3[\"Pairing\" + str(i)] = pair\n",
    "#\n",
    "# print()"
   ]
  },
  {
   "cell_type": "code",
   "execution_count": null,
   "metadata": {
    "pycharm": {
     "name": "#%%\n"
    }
   },
   "outputs": [],
   "source": [
    "def checkSimilarity(cvd, t_pairing: Pairings) -> int:\n",
    "    total_legs = len(t_pairing.legs)\n",
    "    present_legs = 0\n",
    "    for Leg in t_pairing.legs:\n",
    "        if cvd[Leg.legNo][0]:\n",
    "            present_legs += 1\n",
    "    return present_legs/total_legs * 100"
   ]
  },
  {
   "cell_type": "code",
   "execution_count": null,
   "metadata": {
    "pycharm": {
     "name": "#%%\n"
    }
   },
   "outputs": [],
   "source": [
    "def checkCovered(cvd) -> bool:\n",
    "    covrd = True\n",
    "    counter = 0\n",
    "    for it in cvd.items():\n",
    "        if not it[1][1]:\n",
    "            covrd = False\n",
    "            break\n",
    "            # counter+=1\n",
    "    # print(counter)\n",
    "    return covrd"
   ]
  },
  {
   "cell_type": "code",
   "execution_count": null,
   "metadata": {
    "pycharm": {
     "name": "#%%\n"
    }
   },
   "outputs": [],
   "source": [
    "def correction_algortihm(solution, covered_flights):\n",
    "    non_covered = getNonCoveredFlights(covered_flights)\n",
    "    print(non_covered)\n",
    "    print(len(non_covered))\n",
    "    for to_cover in non_covered:\n",
    "        minimum_sim = (100, -1)\n",
    "        for j, itm in enumerate(pop_dict[flights[to_cover[0]].legNo]):\n",
    "            sim = checkSimilarity(covered_flights, itm)\n",
    "            if sim<minimum_sim[0]:\n",
    "                minimum_sim = (sim, j)\n",
    "        #\n",
    "        # if flights[to_cover[0]].legNo == \"LEG_01_12\":\n",
    "        #     print()\n",
    "\n",
    "        solution.append(pop_dict[flights[to_cover[0]].legNo][minimum_sim[1]])\n",
    "        for Leg in pop_dict[flights[to_cover[0]].legNo][minimum_sim[1]].legs:\n",
    "            covered_flights[Leg.legNo] = (True, covered_flights[Leg.legNo][1]+1)\n",
    "    return solution, covered_flights"
   ]
  },
  {
   "cell_type": "code",
   "execution_count": null,
   "metadata": {
    "pycharm": {
     "name": "#%%\n"
    }
   },
   "outputs": [],
   "source": [
    "def find_random_solution():\n",
    "    solution = []\n",
    "    covered_flights = init_cover_list()\n",
    "    temp_pairings = all_pairings[:]\n",
    "    # print(\"Copied!\")\n",
    "    not_covered = False\n",
    "    # iterations = 0\n",
    "    similarity = 0\n",
    "    not_found_in = 0\n",
    "    # print(\"similarity: 0\", end=\"\")\n",
    "    while not not_covered and similarity < 95:\n",
    "        # iterations+=1\n",
    "        index = random.randint(0, len(temp_pairings)-1)\n",
    "        if len(solution) == 0:\n",
    "            solution.append(temp_pairings[index])\n",
    "            for Leg in temp_pairings[index].legs:\n",
    "                covered_flights[Leg.legNo] = (True, covered_flights[Leg.legNo][1]+1)\n",
    "            del temp_pairings[index]\n",
    "            not_found_in = 0\n",
    "        else:\n",
    "            sim = checkSimilarity(covered_flights, temp_pairings[index])\n",
    "            if sim <= similarity:\n",
    "                solution.append(temp_pairings[index])\n",
    "                for Leg in temp_pairings[index].legs:\n",
    "                    covered_flights[Leg.legNo] = (True, covered_flights[Leg.legNo][1]+1)\n",
    "                del temp_pairings[index]\n",
    "                not_found_in = 0\n",
    "            else:\n",
    "                not_found_in += 1\n",
    "        if not_found_in >= len(temp_pairings)/2:\n",
    "            similarity += 5\n",
    "            # print(\", \", similarity, sep=\"\", end=\"\")\n",
    "            not_found_in = 0\n",
    "        not_covered = checkCovered(covered_flights)\n",
    "    # print()\n",
    "    if not not_covered:\n",
    "        solution, covered_flights = correction_algortihm(solution, covered_flights)\n",
    "    return solution, covered_flights"
   ]
  },
  {
   "cell_type": "code",
   "execution_count": null,
   "metadata": {
    "pycharm": {
     "name": "#%%\n"
    }
   },
   "outputs": [],
   "source": [
    "def calcDeadheadsFromCover(cov):\n",
    "    j = 0\n",
    "    for it in cov.items():\n",
    "        # print(item)\n",
    "        if it[1][1] > 1:\n",
    "            j+=(it[1][1]-1)\n",
    "    return j"
   ]
  },
  {
   "cell_type": "code",
   "execution_count": null,
   "metadata": {
    "pycharm": {
     "name": "#%%\n"
    }
   },
   "outputs": [],
   "source": [
    "def calcDeadheadsAlt(sol):\n",
    "    j = 0\n",
    "    cov = init_cover_list()\n",
    "    for pr in sol:\n",
    "        for Leg in pr.legs:\n",
    "            cov[Leg] = (True, cov[Leg][1]+1)\n",
    "    for it in cov.items():\n",
    "        # print(item)\n",
    "        if it[1][1] > 1:\n",
    "            j+=(it[1][1]-1)\n",
    "    return j"
   ]
  },
  {
   "cell_type": "code",
   "execution_count": null,
   "metadata": {
    "pycharm": {
     "name": "#%%\n"
    }
   },
   "outputs": [],
   "source": [
    "def calcDeadheadsFromSolution(sol):\n",
    "    j = 0\n",
    "    cov = init_cover_list()\n",
    "    for pr in sol:\n",
    "        for Leg in pr.legs:\n",
    "            cov[Leg.legNo] = (True, cov[Leg.legNo][1]+1)\n",
    "    for it in cov.items():\n",
    "        # print(item)\n",
    "        if it[1][1] > 1:\n",
    "            j+=(it[1][1]-1)\n",
    "    return j"
   ]
  },
  {
   "cell_type": "code",
   "execution_count": null,
   "metadata": {
    "pycharm": {
     "name": "#%%\n"
    }
   },
   "outputs": [],
   "source": [
    "solutions = {}\n",
    "covered_list = []\n",
    "\n",
    "for i in range(100):\n",
    "\n",
    "    solutions[i+1], covered_list = find_random_solution()\n",
    "    dh = calcDeadheadsFromCover(covered_list)\n",
    "    print(\"Solution\", i+1, sep=\" \", end=\"\\n\")\n",
    "    print(\"Deadheads:\", dh, \" out of \", len(flights), sep=\"\")\n",
    "    print(\"Solution Length: \", len(solutions[i+1]), sep=\"\")"
   ]
  },
  {
   "cell_type": "code",
   "execution_count": null,
   "metadata": {
    "pycharm": {
     "name": "#%%\n"
    }
   },
   "outputs": [],
   "source": [
    "def calcPairingCost(p_toCalc: Pairings) -> float:\n",
    "    # num_legs = len(pair.legs)\n",
    "    # TAFB = pair.total_duration\n",
    "    # total_duty_cost = max([0, TAFB * 4 / 7, pair.total_flying_time])\n",
    "    # c = max([num_legs * 5, TAFB * 2 / 7, total_duty_cost])\n",
    "    return math.floor(1000*p_toCalc.total_duration/p_toCalc.total_flying_time)"
   ]
  },
  {
   "cell_type": "code",
   "execution_count": null,
   "metadata": {
    "pycharm": {
     "name": "#%%\n"
    }
   },
   "outputs": [],
   "source": [
    "def calcSolutionCost(pairs: list[Pairings], deadheads:int) -> float:\n",
    "    c = 0\n",
    "    for pr in pairs:\n",
    "        c+=calcPairingCost(pr)\n",
    "    c+= deadheads*1000\n",
    "    return c"
   ]
  },
  {
   "cell_type": "code",
   "execution_count": null,
   "metadata": {
    "pycharm": {
     "name": "#%%\n"
    }
   },
   "outputs": [],
   "source": [
    "class Solution(object):\n",
    "    id = \"\"\n",
    "    solution_pairings = []\n",
    "    solution_cost = 0\n",
    "    deadheads = 0\n",
    "    gen_time = 0\n",
    "\n",
    "pre_population = []\n",
    "for i, item in enumerate(solutions.items()):\n",
    "    s = Solution()\n",
    "    s.id = i\n",
    "    s.solution_pairings = item[1]\n",
    "    s.deadheads = calcDeadheadsFromSolution(item[1])\n",
    "    s.solution_cost = calcSolutionCost(item[1], s.deadheads)\n",
    "\n",
    "    pre_population.append(s)\n",
    "\n",
    "# solution_costs = {}\n",
    "# for i, item in enumerate(solutions.items()):\n",
    "#     solution_costs[i] = calcSolutionCost(item[1], calcDeadheadsFromSolution(item[1]))"
   ]
  },
  {
   "cell_type": "code",
   "execution_count": null,
   "metadata": {
    "pycharm": {
     "name": "#%%\n"
    }
   },
   "outputs": [],
   "source": [
    "pre_population"
   ]
  },
  {
   "cell_type": "code",
   "execution_count": null,
   "metadata": {
    "pycharm": {
     "name": "#%%\n"
    }
   },
   "outputs": [],
   "source": [
    "class PairingAlt(object):\n",
    "    pairing_name = \"\"\n",
    "    base = \"\"\n",
    "    legs = {}\n",
    "    start_date = \"\"\n",
    "    start_time = \"\"\n",
    "    end_date = \"\"\n",
    "    end_time = \"\"\n",
    "    total_flying_time = \"\"\n",
    "    total_duration = 0\n",
    "\n",
    "    def __int__(self):\n",
    "        self.pairing_name = self.pairing_name\n",
    "        self.base = self.base\n",
    "        self.legs = self.legs\n",
    "        self.start_date = self.start_date\n",
    "        self.start_time = self.start_time\n",
    "        self.end_date = self.end_date\n",
    "        self.end_time = self.end_time\n",
    "        self.total_flying_time = self.total_flying_time\n",
    "        self.total_duration = self.total_duration\n"
   ]
  },
  {
   "cell_type": "code",
   "execution_count": null,
   "metadata": {
    "pycharm": {
     "name": "#%%\n"
    }
   },
   "outputs": [],
   "source": [
    "genesisPair = []\n",
    "path = os.getcwd() + '\\instance1\\initialSolution.in'\n",
    "with open(path) as csv_file:\n",
    "    reader = csv.reader(csv_file, delimiter=',')\n",
    "    for row in reader:\n",
    "        # print(row)\n",
    "        # print('----------------------------')\n",
    "        if not row:\n",
    "            continue\n",
    "        elif len(row[0]) <= 15:\n",
    "            #  Do not do anything if the row is does not contain pairing information\n",
    "            continue\n",
    "        else:\n",
    "            P = PairingAlt()\n",
    "            main_index = row[0].find(': Base')  # Setting the index as a limit on which to extract string of row\n",
    "            P.pairing_name = row[0][0: main_index - 1].strip()\n",
    "            # Setting the index as a limit on which to extract string of row\n",
    "            if 'TDH' in row[0]:\n",
    "                main_index = row[0].find(': TDH')\n",
    "            else:\n",
    "                main_index = row[0].find(': LEG')\n",
    "            sub_index = row[0].find('BASE')  # Getting starting index from which to extract\n",
    "            P.base = row[0][sub_index:main_index - 1].strip()\n",
    "            num = len(row[1:])\n",
    "\n",
    "            holder = [row[0][main_index + 1:].strip()]\n",
    "            for n in range(num):\n",
    "                if ';' in row[n + 1]:\n",
    "                    holder.append(row[n + 1][0:-1].strip())\n",
    "                else:\n",
    "                    holder.append(row[n + 1].strip())\n",
    "\n",
    "            P.legs = holder\n",
    "            key = str(P.pairing_name.strip())  # Key prefixed with instance number\n",
    "\n",
    "            #  Setting Key for flight search\n",
    "            first_leg = str(P.legs[0])\n",
    "            last_leg = str(P.legs[-1])\n",
    "\n",
    "            #  Removing TDH when searching for a Key\n",
    "            if 'TDH_' in first_leg:\n",
    "                first_leg = first_leg.replace(\"TDH_\", \"\")\n",
    "            P.start_date = flights[first_leg].date_departure\n",
    "            P.start_time = flights[first_leg].hour_departure\n",
    "            if 'TDH_' in last_leg:\n",
    "                last_leg = last_leg.replace(\"TDH_\", \"\")\n",
    "            P.end_date = flights[last_leg].date_arrival\n",
    "            P.end_time = flights[last_leg].hour_arrival\n",
    "\n",
    "            # Calculating the credited flying time for a pairing\n",
    "            total_flying_time = 0\n",
    "            for k, p in enumerate(P.legs):\n",
    "                    if 'TDH' in p:\n",
    "                        p = p.replace(\"TDH_\", \"\")\n",
    "                        P.legs[k] = p.replace(\"TDH_\", \"\")\n",
    "                    total_flying_time += flights[p].duration\n",
    "            P.total_flying_time = total_flying_time\n",
    "            P.total_duration = calcDurationInHours(flights[P.legs[0]].date_time_departure, flights[P.legs[-1]].date_time_arrival)\n",
    "\n",
    "            genesisPair.append(P)"
   ]
  },
  {
   "cell_type": "code",
   "execution_count": null,
   "metadata": {
    "pycharm": {
     "name": "#%%\n"
    }
   },
   "outputs": [],
   "source": [
    "# genesisPair\n",
    "# for pair in genesisPair:\n",
    "#     for k, l3g in enumerate(pair.legs):\n",
    "#         if 'TDH' in l3g:\n",
    "#             pair.legs[k] = l3g.replace(\"TDH_\", \"\")\n",
    "# # a_cost = 0\n",
    "# for pairing in genesisPair:\n",
    "print(calcSolutionCost(genesisPair, calcDeadheadsAlt(genesisPair)))\n"
   ]
  },
  {
   "cell_type": "code",
   "execution_count": null,
   "metadata": {
    "pycharm": {
     "name": "#%%\n"
    }
   },
   "outputs": [],
   "source": [
    "# GA generate 100 solutions randomly -- done\n",
    "# Genesis solution has to be one of the starting 100 -- can be done\n",
    "# Shall always use the best solutions for the following (The best 10 must ALWAYS go in)\n",
    "# have a way of determining if a solution is valid or not. //Genetic repair to fix it\n",
    "#   crossover operator - from the solution ex. you get one pairing from one and another and you star picking from one to another and you do it until a certain point you must repair it.\n",
    "# Genetic operators are SUPER important\n",
    "# fitness func use cost\n",
    "# take the init population and create another 500 from crossover, order them by cost, create another 100 and use prob tournament\n",
    "# take another population\n",
    "\n",
    "#VIMP -- Every solution has to be a unique code - to track if a solution makes it from solution to solution and how it was born and how it died. Some will survive but won't be the best and we must know this. -- solution object created\n",
    "\n",
    "# how many at each generation are new, average lifespan - lower the better as you are getting better ones."
   ]
  },
  {
   "cell_type": "code",
   "execution_count": null,
   "metadata": {
    "pycharm": {
     "name": "#%%\n"
    }
   },
   "outputs": [],
   "source": [
    "# sort_by_cost()\n",
    "# for item in population:\n",
    "#     print(item.solution_cost)"
   ]
  },
  {
   "cell_type": "code",
   "execution_count": null,
   "outputs": [],
   "source": [
    "class GeneticAlgorithm:\n",
    "    min_generations = 0\n",
    "    generation_num = 0\n",
    "    mutation_rate = 0\n",
    "    initial_GA_population = 100\n",
    "    population: list[Solution] = []\n",
    "    pop_copy: list[Solution] = []\n",
    "    threshold = -sys.maxsize\n",
    "    crossover_rate = 0\n",
    "    max_generations = 0\n",
    "\n",
    "    def __init__(self, min_generations, mutation_rate, initial_population, threshold, crossover_rate, max_generations):\n",
    "        self.min_generations = min_generations\n",
    "        self.mutation_rate = mutation_rate\n",
    "        self.population = initial_population\n",
    "        self.pop_copy = initial_population[:]\n",
    "        self.threshold = threshold\n",
    "        self.crossover_rate = crossover_rate\n",
    "        self.max_generations = max_generations"
   ],
   "metadata": {
    "collapsed": false,
    "pycharm": {
     "name": "#%%\n"
    }
   }
  },
  {
   "cell_type": "code",
   "execution_count": null,
   "outputs": [],
   "source": [
    "    %%add_to GeneticAlgorithm\n",
    "    def sort_by_cost(self):\n",
    "        self.population.sort(key=lambda x: x.solution_cost, reverse=False)\n"
   ],
   "metadata": {
    "collapsed": false,
    "pycharm": {
     "name": "#%%\n"
    }
   }
  },
  {
   "cell_type": "code",
   "execution_count": null,
   "outputs": [],
   "source": [
    "    %%add_to GeneticAlgorithm\n",
    "    def mutate(self, child):\n",
    "        pass"
   ],
   "metadata": {
    "collapsed": false,
    "pycharm": {
     "name": "#%%\n"
    }
   }
  },
  {
   "cell_type": "code",
   "execution_count": null,
   "outputs": [],
   "source": [
    "    %%add_to GeneticAlgorithm\n",
    "    def roulette_wheel_selection(self) -> Solution:\n",
    "        #reproduced from https://rocreguant.com/roulette-wheel-selection-python/2019/\n",
    "\n",
    "        # Computes the totallity of the population fitness\n",
    "        population_fitness = sum([chromosome.solution_cost for chromosome in self.population])\n",
    "\n",
    "        # Computes for each chromosome the probability\n",
    "        chromosome_probabilities = [chromosome.solution_cost/population_fitness for chromosome in self.population]\n",
    "\n",
    "        chromosome_probabilities = 1 - np.array(chromosome_probabilities)\n",
    "\n",
    "        # Selects one chromosome based on the computed probabilities\n",
    "        return np.random.choice(self.population, p=chromosome_probabilities)"
   ],
   "metadata": {
    "collapsed": false,
    "pycharm": {
     "name": "#%%\n"
    }
   }
  },
  {
   "cell_type": "code",
   "execution_count": null,
   "outputs": [],
   "source": [
    "    %%add_to GeneticAlgorithm\n",
    "    def crossover(self, parent1, parent2) -> Solution:\n",
    "        pass"
   ],
   "metadata": {
    "collapsed": false,
    "pycharm": {
     "name": "#%%\n"
    }
   }
  },
  {
   "cell_type": "markdown",
   "source": [],
   "metadata": {
    "collapsed": false
   }
  },
  {
   "cell_type": "code",
   "execution_count": null,
   "outputs": [],
   "source": [
    "def start(GA):\n",
    "    GA.sort_by_cost()\n",
    "    curr_gen = 0\n",
    "    cost_threshold = GA.population[0].solution_cost\n",
    "    lowest_cost_solution = GA.population[0]\n",
    "    while (curr_gen < GA.min_generations or GA.threshold > cost_threshold) and curr_gen < GA.max_generations:\n",
    "        curr_gen += 1\n",
    "        offspring_generate = round(len(GA.population)*GA.crossover_rate)\n",
    "        for j in range(offspring_generate):\n",
    "            parent1 = GA.roulette_wheel_selection()\n",
    "            GA.population.remove(parent1)\n",
    "            parent2 = GA.roulette_wheel_selection()\n",
    "            GA.population.append(parent1)\n",
    "\n",
    "            child = GA.crossover(parent1, parent2)\n",
    "            if j < 10:\n",
    "                child.id = int(str(curr_gen) + \"0\" + str(j))\n",
    "            else:\n",
    "                child.id = int(str(curr_gen) + str(j))\n",
    "\n",
    "            child.gen_time = curr_gen\n",
    "\n",
    "            if random.randint(0,100) < GA.mutation_rate:\n",
    "                child = GA.mutate(child)\n",
    "\n",
    "            child.deadheads = calcDeadheadsFromSolution(child)\n",
    "            child.solution_cost = calcSolutionCost(child.solution_pairings, child.deadheads)\n",
    "\n",
    "            if child.solution_cost < lowest_cost_solution.solution_cost:\n",
    "                lowest_cost_solution = child\n",
    "\n",
    "            GA.population.append(child)\n",
    "\n",
    "        GA.sort_by_cost()\n",
    "\n",
    "        for j in range(offspring_generate):\n",
    "            del GA.population[-1]\n",
    "\n",
    "        cost_threshold = GA.population[0].solution_cost\n",
    "\n",
    "        print(\"Generation: \", curr_gen, sep=\"\")\n",
    "        print(GA.population[0].solution_cost)\n",
    "\n",
    "        #print average lifespan\n",
    "        #\n",
    "\n",
    "    return GA.population[0]"
   ],
   "metadata": {
    "collapsed": false,
    "pycharm": {
     "name": "#%%\n"
    }
   }
  },
  {
   "cell_type": "code",
   "execution_count": null,
   "outputs": [],
   "source": [
    "Gen_Alg = GeneticAlgorithm(10, 1, pre_population, calcSolutionCost(genesisPair, calcDeadheadsAlt(genesisPair)), 0.4, 20)\n",
    "best_solution = start(Gen_Alg)"
   ],
   "metadata": {
    "collapsed": false,
    "pycharm": {
     "name": "#%%\n"
    }
   }
  },
  {
   "cell_type": "code",
   "execution_count": null,
   "outputs": [],
   "source": [
    "print(best_solution)"
   ],
   "metadata": {
    "collapsed": false,
    "pycharm": {
     "name": "#%%\n"
    }
   }
  }
 ],
 "metadata": {
  "kernelspec": {
   "display_name": "Python 3 (ipykernel)",
   "language": "python",
   "name": "python3"
  },
  "language_info": {
   "codemirror_mode": {
    "name": "ipython",
    "version": 3
   },
   "file_extension": ".py",
   "mimetype": "text/x-python",
   "name": "python",
   "nbconvert_exporter": "python",
   "pygments_lexer": "ipython3",
   "version": "3.10.3"
  }
 },
 "nbformat": 4,
 "nbformat_minor": 1
}