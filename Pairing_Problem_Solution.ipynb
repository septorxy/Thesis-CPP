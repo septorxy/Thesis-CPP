{
 "cells": [
  {
   "cell_type": "markdown",
   "metadata": {
    "pycharm": {
     "name": "#%% md\n"
    }
   },
   "source": [
    "# Imports"
   ]
  },
  {
   "cell_type": "code",
   "execution_count": null,
   "metadata": {
    "pycharm": {
     "name": "#%%\n"
    }
   },
   "outputs": [],
   "source": [
    "import copy as cp\n",
    "import csv\n",
    "import math\n",
    "import os\n",
    "import sys\n",
    "from datetime import datetime\n",
    "import matplotlib\n",
    "import numpy as np\n",
    "import matplotlib.pyplot as plt\n",
    "import random\n",
    "import networkx as nx\n",
    "import jdc\n",
    "import time\n",
    "from statistics import mean\n",
    "import pickle\n",
    "import itertools\n",
    "from csv import writer\n",
    "from easygui import *"
   ]
  },
  {
   "cell_type": "markdown",
   "metadata": {
    "pycharm": {
     "name": "#%% md\n"
    }
   },
   "source": [
    "# Utility Methods"
   ]
  },
  {
   "cell_type": "code",
   "execution_count": null,
   "metadata": {
    "pycharm": {
     "name": "#%%\n"
    }
   },
   "outputs": [],
   "source": [
    "def calcDurationInHours(starting_time, ending_time):\n",
    "    return (ending_time - starting_time).total_seconds() / 60 / 60"
   ]
  },
  {
   "cell_type": "code",
   "execution_count": null,
   "metadata": {
    "pycharm": {
     "name": "#%%\n"
    }
   },
   "outputs": [],
   "source": [
    "def time_convert(sec):\n",
    "    mins = sec // 60\n",
    "    sec = sec % 60\n",
    "    hours = mins // 60\n",
    "    mins = mins % 60\n",
    "    print(\"Time Lapsed = {0}:{1}:{2}\".format(int(hours),int(mins),sec))"
   ]
  },
  {
   "cell_type": "markdown",
   "metadata": {
    "pycharm": {
     "name": "#%% md\n"
    }
   },
   "source": [
    "# Objects"
   ]
  },
  {
   "cell_type": "code",
   "execution_count": null,
   "metadata": {
    "pycharm": {
     "name": "#%%\n"
    }
   },
   "outputs": [],
   "source": [
    "class Flights(object):\n",
    "    __slots__ = 'legNo', 'airport_departure', 'date_departure', 'hour_departure', 'airport_arrival', 'date_arrival', 'hour_arrival', 'date_time_arrival', 'date_time_departure', 'duration'\n",
    "    def __int__(self):\n",
    "        self.legNo = self.legNo\n",
    "        self.airport_departure = self.airport_departure\n",
    "        self.date_departure = self.date_departure\n",
    "        self.hour_departure = self.hour_departure\n",
    "        self.airport_arrival = self.airport_arrival\n",
    "        self.date_arrival = self.date_arrival\n",
    "        self.hour_arrival = self.hour_arrival\n",
    "        self.date_time_departure = self.date_time_departure\n",
    "        self.date_time_arrival = self.date_time_arrival\n",
    "        self.duration = self.duration\n",
    "        # self.pairing_relation = self.pairing_relation\n",
    "\n",
    "    def setDateTime(self):\n",
    "        self.date_time_departure = datetime.strptime(str(self.date_departure + ' ' + self.hour_departure), \"%Y-%m-%d \"\n",
    "                                                                                                           \"%H:%M\")\n",
    "        self.date_time_arrival = datetime.strptime(str(self.date_arrival + ' ' + self.hour_arrival), \"%Y-%m-%d %H:%M\")\n",
    "        diff = self.date_time_arrival - self.date_time_departure\n",
    "        seconds_in_hours = diff.seconds / 60 / 60\n",
    "        days_in_hours = diff.days * 24\n",
    "        self.duration = seconds_in_hours + days_in_hours\n",
    "\n",
    "    def __eq__(self, other):\n",
    "        return self.legNo == other.legNo\n",
    "\n",
    "    def __hash__(self):\n",
    "        return hash(('legNo', self.legNo))"
   ]
  },
  {
   "cell_type": "code",
   "execution_count": null,
   "metadata": {
    "pycharm": {
     "name": "#%%\n"
    }
   },
   "outputs": [],
   "source": [
    "# class Duties(object):\n",
    "#     id = 0\n",
    "#     newId = itertools.count()\n",
    "#     legs: list[Flights] = []\n",
    "#     start_date_time = None\n",
    "#     end_date_time = None\n",
    "#     starting_airport = \"\"\n",
    "#     ending_airport = \"\"\n",
    "#     total_flying_time = 0\n",
    "#     total_duration = 0\n",
    "#\n",
    "#     def __init__(self, legs: list[Flights]):\n",
    "#         self.id = next(self.newId)\n",
    "#         dur = 0\n",
    "#         self.legs = legs\n",
    "#         self.start_date_time = legs[0].date_time_departure\n",
    "#         self.end_date_time = legs[-1].date_time_arrival\n",
    "#         self.starting_airport = legs[0].airport_departure\n",
    "#         self.ending_airport = legs[-1].airport_arrival\n",
    "#         for l3g in legs:\n",
    "#             dur += (l3g.date_time_arrival-l3g.date_time_departure).total_seconds()/60/60\n",
    "#         self.total_flying_time = dur\n",
    "#         self.total_duration = (self.end_date_time - self.start_date_time).total_seconds() / 60 / 60"
   ]
  },
  {
   "cell_type": "code",
   "execution_count": null,
   "metadata": {
    "pycharm": {
     "name": "#%%\n"
    }
   },
   "outputs": [],
   "source": [
    "class Pairings(object):\n",
    "\n",
    "    __slots__ = \"legs\" , \"total_flying_time\", \"set_flights\", \"start_date_time\", 'end_date_time', 'id', 'base_airport', 'total_duration', 'pairing_string', 'cost'\n",
    "\n",
    "    def __init__(self, fls: list[Flights]):\n",
    "        self.legs = []\n",
    "        self.cost = -1\n",
    "        self.id = -1\n",
    "        self.legs = fls\n",
    "        temp_flying_time = 0\n",
    "        for l3g in self.legs:\n",
    "            temp_flying_time += calcDurationInHours(l3g.date_time_departure, l3g.date_time_arrival)\n",
    "        self.total_flying_time = temp_flying_time\n",
    "\n",
    "        self.set_flights = set([l3g.legNo for l3g in self.legs])\n",
    "\n",
    "        # self.total_flying_time += dty.total_flying_time\n",
    "        self.start_date_time = self.legs[0].date_time_departure\n",
    "        self.end_date_time = self.legs[-1].date_time_arrival\n",
    "        self.base_airport = self.legs[0].airport_departure\n",
    "        # self.total_flying_time = reduce(mul, [x.total_flying_time for x in duties])\n",
    "        self.total_duration = calcDurationInHours(self.start_date_time, self.end_date_time)\n",
    "        disp = \"\"\n",
    "        for l3g in self.legs:\n",
    "            disp += l3g.legNo + \" , \"\n",
    "        self.pairing_string = disp[:len(disp) - 3]\n",
    "\n",
    "    def __eq__(self, other):\n",
    "        return self.pairing_string == other.pairing_string\n",
    "\n",
    "    def __hash__(self):\n",
    "        return hash(('pairing_string', self.pairing_string))"
   ]
  },
  {
   "cell_type": "code",
   "execution_count": null,
   "metadata": {
    "pycharm": {
     "name": "#%%\n"
    }
   },
   "outputs": [],
   "source": [
    "class Airport(object):\n",
    "    name = \"\"\n",
    "    is_base = None\n",
    "\n",
    "    def __init__(self):\n",
    "        self.name = self.name\n",
    "        self.is_base = self.is_base"
   ]
  },
  {
   "cell_type": "code",
   "execution_count": null,
   "metadata": {
    "pycharm": {
     "name": "#%%\n"
    }
   },
   "outputs": [],
   "source": [
    "class PairingAlt(object):\n",
    "    pairing_name = \"\"\n",
    "    base = \"\"\n",
    "    legs = {}\n",
    "    start_date = \"\"\n",
    "    start_time = \"\"\n",
    "    end_date = \"\"\n",
    "    end_time = \"\"\n",
    "    total_flying_time = \"\"\n",
    "    total_duration = 0\n",
    "\n",
    "    def __int__(self):\n",
    "        self.pairing_name = self.pairing_name\n",
    "        self.base = self.base\n",
    "        self.legs = self.legs\n",
    "        self.start_date = self.start_date\n",
    "        self.start_time = self.start_time\n",
    "        self.end_date = self.end_date\n",
    "        self.end_time = self.end_time\n",
    "        self.total_flying_time = self.total_flying_time\n",
    "        self.total_duration = self.total_duration"
   ]
  },
  {
   "cell_type": "code",
   "execution_count": null,
   "metadata": {
    "pycharm": {
     "name": "#%%\n"
    }
   },
   "outputs": [],
   "source": [
    "class Solution(object):\n",
    "    id = \"\"\n",
    "    solution_pairings = []\n",
    "    solution_cost = 0\n",
    "    deadheads = 0\n",
    "    gen_time = 0\n",
    "    died_time = 0\n",
    "    generationMethod = -1\n",
    "\n",
    "    solution_encoding = []\n",
    "    parents = []\n",
    "\n",
    "    def __init__(self):\n",
    "        self.id = -1\n",
    "        self.solution_pairings = []\n",
    "        self.solution_cost = 0\n",
    "        self.deadheads = 0\n",
    "        self.gen_time = 0\n",
    "        self.solution_encoding = []\n",
    "        self.parents = []\n",
    "        self.generationMethod = \"Random Generation\""
   ]
  },
  {
   "cell_type": "markdown",
   "metadata": {
    "pycharm": {
     "name": "#%% md\n"
    }
   },
   "source": [
    "# Input"
   ]
  },
  {
   "cell_type": "code",
   "execution_count": null,
   "metadata": {
    "pycharm": {
     "name": "#%%\n"
    }
   },
   "outputs": [],
   "source": [
    "instanceNum = 0\n",
    "allowedRatio = 0\n",
    "err = True\n",
    "while err:\n",
    "\n",
    "    try:\n",
    "        instanceNum = int(input(\"Which instance would you like to use? (Allowed are 1 or 2)\"))\n",
    "        allowedRatio = float(input(\"What is the allowed ratio of flight time : total time (in percent) Recommend is 0\"))\n",
    "        if instanceNum < 1 or instanceNum > 2 or allowedRatio < 0 or allowedRatio > 100:\n",
    "            err=True\n",
    "        else:\n",
    "            err=False\n",
    "    except:\n",
    "        err = True\n",
    "\n",
    "    if err:\n",
    "        print(\"Instance Number  1 or 2, both included and allowed ratio must be greater than 0 and smaller that 100\")\n",
    "        instanceNum = 0\n",
    "    # elif instanceNum > 2:\n",
    "    #     try:\n",
    "    #         checker = int(input(\"WARNING! While it would work this will take a long time. in the FYP only 1 - 2. 1 can be run in an hour or less while 2 can be run in 5 hours. Please enter 1 if you would like to continue anyway or 0 if you would like to re-enter the instance number and ratio.\"))\n",
    "    #\n",
    "    #         if checker == 0:\n",
    "    #             err = True\n",
    "    #     except:\n",
    "    #         err = True\n"
   ]
  },
  {
   "cell_type": "markdown",
   "metadata": {
    "pycharm": {
     "name": "#%% md\n"
    }
   },
   "source": [
    "# File Reading"
   ]
  },
  {
   "cell_type": "code",
   "execution_count": null,
   "metadata": {
    "pycharm": {
     "name": "#%%\n"
    }
   },
   "outputs": [],
   "source": [
    "flights = {}\n",
    "tempFlights = []\n",
    "for day in range(31):\n",
    "    path = os.getcwd() + '\\instance'+ str(instanceNum) + '\\day_' + str(day + 1) + '.csv'\n",
    "    first = True\n",
    "    with open(path) as csv_file:\n",
    "        reader = csv.reader(csv_file, delimiter=',')\n",
    "        for row in reader:\n",
    "            if not row:\n",
    "                continue\n",
    "            elif first:\n",
    "                first = False\n",
    "                continue\n",
    "            elif len(row) <= 6:\n",
    "                continue\n",
    "            else:\n",
    "                f = Flights()\n",
    "                f.legNo = row[0].strip()\n",
    "                f.airport_departure = row[1].strip()\n",
    "                f.date_departure = row[2].strip()\n",
    "                f.hour_departure = row[3].strip()\n",
    "                f.airport_arrival = row[4].strip()\n",
    "                f.date_arrival = row[5].strip()\n",
    "                f.hour_arrival = row[6].strip()\n",
    "                key = str(f.legNo.strip())\n",
    "                # covered[key] = (False, 0)\n",
    "                f.setDateTime()\n",
    "                tempFlights.append(f)\n",
    "\n",
    "\n",
    "# Taken from Zammit (2019)'s Solution as this was the value he used to fill in the missing part of the dataset\n",
    "if instanceNum == 3:\n",
    "    new_flight = Flights()\n",
    "    new_flight.legNo = 'LEG_31_38'\n",
    "    new_flight.airport_departure = 'BASE1'\n",
    "    new_flight.date_departure = '2000-01-30'\n",
    "    new_flight.hour_departure = '01:20'\n",
    "    new_flight.airport_arrival = 'AIR30'\n",
    "    new_flight.date_arrival = '2000-01-30'\n",
    "    new_flight.hour_arrival = '02:33'\n",
    "    new_flight.setDateTime()\n",
    "    tempFlights.append(new_flight)\n",
    "\n",
    "tempFlights.sort(key=lambda x: x.date_time_arrival, reverse=False)\n",
    "for flight in tempFlights:\n",
    "    flights[flight.legNo] = flight"
   ]
  },
  {
   "cell_type": "code",
   "execution_count": null,
   "metadata": {
    "pycharm": {
     "name": "#%%\n"
    }
   },
   "outputs": [],
   "source": [
    "genesisPair = []\n",
    "path = os.getcwd() + '\\instance'+ str(instanceNum) + '\\initialSolution.in'\n",
    "with open(path) as csv_file:\n",
    "    reader = csv.reader(csv_file, delimiter=',')\n",
    "    for row in reader:\n",
    "        # print(row)\n",
    "        # print('----------------------------')\n",
    "        if not row:\n",
    "            continue\n",
    "        elif len(row[0]) <= 15:\n",
    "            #  Do not do anything if the row is does not contain pairing information\n",
    "            continue\n",
    "        else:\n",
    "            P = PairingAlt()\n",
    "            main_index = row[0].find(': Base')  # Setting the index as a limit on which to extract string of row\n",
    "            P.pairing_name = row[0][0: main_index - 1].strip()\n",
    "            # Setting the index as a limit on which to extract string of row\n",
    "            if 'TDH' in row[0]:\n",
    "                main_index = row[0].find(': TDH')\n",
    "            else:\n",
    "                main_index = row[0].find(': LEG')\n",
    "            sub_index = row[0].find('BASE')  # Getting starting index from which to extract\n",
    "            P.base = row[0][sub_index:main_index - 1].strip()\n",
    "            num = len(row[1:])\n",
    "\n",
    "            holder = [row[0][main_index + 1:].strip()]\n",
    "            for n in range(num):\n",
    "                if ';' in row[n + 1]:\n",
    "                    holder.append(row[n + 1][0:-1].strip())\n",
    "                else:\n",
    "                    holder.append(row[n + 1].strip())\n",
    "\n",
    "            P.legs = holder\n",
    "            key = str(P.pairing_name.strip())  # Key prefixed with instance number\n",
    "\n",
    "            #  Setting Key for flight search\n",
    "            firstLeg = str(P.legs[0])\n",
    "            lastLeg = str(P.legs[-1])\n",
    "\n",
    "            #  Removing TDH when searching for a Key\n",
    "            if 'TDH_' in firstLeg:\n",
    "                firstLeg = firstLeg.replace(\"TDH_\", \"\")\n",
    "            P.start_date = flights[firstLeg].date_departure\n",
    "            P.start_time = flights[firstLeg].hour_departure\n",
    "            if 'TDH_' in lastLeg:\n",
    "                lastLeg = lastLeg.replace(\"TDH_\", \"\")\n",
    "            P.end_date = flights[lastLeg].date_arrival\n",
    "            P.end_time = flights[lastLeg].hour_arrival\n",
    "\n",
    "            # Calculating the credited flying time for a pairing\n",
    "            total_flying_time = 0\n",
    "            for k, p in enumerate(P.legs):\n",
    "                if 'TDH' in p:\n",
    "                    p = p.replace(\"TDH_\", \"\")\n",
    "                    P.legs[k] = p.replace(\"TDH_\", \"\")\n",
    "                total_flying_time += flights[p].duration\n",
    "            P.total_flying_time = total_flying_time\n",
    "            P.total_duration = calcDurationInHours(flights[P.legs[0]].date_time_departure, flights[P.legs[-1]].date_time_arrival)\n",
    "\n",
    "            genesisPair.append(P)\n",
    "            print(P.legs)"
   ]
  },
  {
   "cell_type": "code",
   "execution_count": null,
   "metadata": {
    "pycharm": {
     "name": "#%%\n"
    }
   },
   "outputs": [],
   "source": [
    "airports = {}\n",
    "path = os.getcwd() + '\\instance' + str(instanceNum) + '\\listOfBases.csv'\n",
    "with open(path) as csv_file:\n",
    "    reader = csv.reader(csv_file, delimiter=',')\n",
    "    first = True\n",
    "    for row in reader:\n",
    "        if not first:\n",
    "            a = Airport()\n",
    "            a.name = row[0].strip()\n",
    "            if int(row[1]):\n",
    "                a.is_base = True\n",
    "                # bases[a.name] = a\n",
    "            else:\n",
    "                a.is_base = False\n",
    "            airports[a.name] = a\n",
    "        else:\n",
    "            first = False"
   ]
  },
  {
   "cell_type": "markdown",
   "metadata": {
    "pycharm": {
     "name": "#%% md\n"
    }
   },
   "source": [
    "# Graph"
   ]
  },
  {
   "cell_type": "code",
   "execution_count": null,
   "metadata": {
    "pycharm": {
     "name": "#%%\n"
    }
   },
   "outputs": [],
   "source": [
    "g = nx.DiGraph()"
   ]
  },
  {
   "cell_type": "code",
   "execution_count": null,
   "metadata": {
    "pycharm": {
     "name": "#%%\n"
    }
   },
   "outputs": [],
   "source": [
    "for airport in airports.keys():\n",
    "    g.add_node(airport)"
   ]
  },
  {
   "cell_type": "code",
   "execution_count": null,
   "metadata": {
    "pycharm": {
     "name": "#%%\n"
    }
   },
   "outputs": [],
   "source": [
    "for flight in flights.items():\n",
    "    day = int(flight[1].legNo[4:6])\n",
    "    if not g.has_edge(flight[1].airport_departure, flight[1].airport_arrival):\n",
    "        g.add_edge(flight[1].airport_departure, flight[1].airport_arrival, flight_list = {f\"{flight[1].legNo}\": (flight[1], False, day)}, weight=flight[1].duration)\n",
    "    else:\n",
    "        orig = g[flight[1].airport_departure][flight[1].airport_arrival][\"flight_list\"]\n",
    "        orig[flight[1].legNo] = (flight[1], False, day)\n",
    "        new_attr = {(flight[1].airport_departure, flight[1].airport_arrival) : {\"flight_list\" : orig}}\n",
    "        nx.set_edge_attributes(g, new_attr)"
   ]
  },
  {
   "cell_type": "code",
   "execution_count": null,
   "metadata": {
    "pycharm": {
     "name": "#%%\n"
    }
   },
   "outputs": [],
   "source": [
    "pos = nx.circular_layout(g)\n",
    "c_m = {}\n",
    "for item in airports.items():\n",
    "    if item[1].is_base:\n",
    "        c_m[item[1].name] = \"orange\"\n",
    "    else:\n",
    "        c_m[item[1].name] = \"blue\"\n",
    "colors = [c_m.get(node) for node in g.nodes()]\n",
    "plt.figure(figsize= (10,9))\n",
    "nx.draw_networkx(g, pos, node_size=1000, font_size=11, node_color=colors)"
   ]
  },
  {
   "cell_type": "markdown",
   "metadata": {
    "pycharm": {
     "name": "#%% md\n"
    }
   },
   "source": [
    "# Covering Flights Code"
   ]
  },
  {
   "cell_type": "code",
   "execution_count": null,
   "metadata": {
    "pycharm": {
     "name": "#%%\n"
    }
   },
   "outputs": [],
   "source": [
    "def init_cover_list() -> dict:\n",
    "    cvrd = {}\n",
    "    for fl in flights:\n",
    "        cvrd[fl] = (False, 0)\n",
    "    return cvrd"
   ]
  },
  {
   "cell_type": "code",
   "execution_count": null,
   "metadata": {
    "pycharm": {
     "name": "#%%\n"
    }
   },
   "outputs": [],
   "source": [
    "def getNonCoveredFlights(cvrd) -> list[Flights]:\n",
    "    not_covered_flights = []\n",
    "    for cov in cvrd.items():\n",
    "        if not cov[1][0]:\n",
    "            not_covered_flights.append(cov)\n",
    "    return not_covered_flights"
   ]
  },
  {
   "cell_type": "code",
   "execution_count": null,
   "metadata": {
    "pycharm": {
     "name": "#%%\n"
    }
   },
   "outputs": [],
   "source": [
    "def checkCovered(cvd) -> bool:\n",
    "    covrd = True\n",
    "    for it in cvd.items():\n",
    "        if not it[1][1]:\n",
    "            covrd = False\n",
    "            break\n",
    "\n",
    "    return covrd"
   ]
  },
  {
   "cell_type": "markdown",
   "metadata": {},
   "source": [
    "# Pairing Generation"
   ]
  },
  {
   "cell_type": "code",
   "execution_count": null,
   "metadata": {
    "pycharm": {
     "name": "#%%\n"
    }
   },
   "outputs": [],
   "source": [
    "def validPairing(curr: list[Flights]) -> tuple[int, int]:\n",
    "    kp = 1\n",
    "    ct = 1\n",
    "\n",
    "    tempP = Pairings(curr)\n",
    "\n",
    "\n",
    "    if list_of_non_cvrd is not None:\n",
    "        continueSearching = False\n",
    "        for fl in list_of_non_cvrd:\n",
    "            if -72 < calcDurationInHours(curr[0].date_time_departure, flights[fl].date_time_arrival) < 72:\n",
    "                continueSearching = True\n",
    "        if not continueSearching:\n",
    "            return 0,0\n",
    "\n",
    "\n",
    "    if tempP.total_flying_time / tempP.total_duration * 100 < allowedRatio and len(curr) > 2:\n",
    "        return 0,0\n",
    "\n",
    "    if tempP.base_airport != curr[-1].airport_arrival:\n",
    "        kp = 0\n",
    "\n",
    "    if tempP.total_duration > 72:\n",
    "        return 0, 0\n",
    "\n",
    "    dateTimer = 0\n",
    "    flightTimer = 0\n",
    "\n",
    "    reversedCurr = [curr[j] for j in range(len(curr) - 1, -1, -1)]\n",
    "    for j, fl in enumerate(reversedCurr):\n",
    "        flightTimer += fl.duration\n",
    "        dateTimer += fl.duration\n",
    "\n",
    "        if j != 0:\n",
    "            flight_diff = calcDurationInHours(fl.date_time_arrival, reversedCurr[j-1].date_time_departure)\n",
    "            if flight_diff < 0.25:\n",
    "                return 0,0\n",
    "\n",
    "\n",
    "            if dateTimer + flight_diff > 14 and flight_diff < 10:\n",
    "                return 0,0\n",
    "            elif flight_diff > 10:\n",
    "                break\n",
    "            else:\n",
    "                dateTimer += flight_diff\n",
    "\n",
    "            # if dateTimer + flight_diff > 14:\n",
    "            #     if flight_diff < 10:\n",
    "            #         return 0, 0\n",
    "            #     else:\n",
    "            #         break\n",
    "            # else:\n",
    "            #     dateTimer += flight_diff\n",
    "\n",
    "        if flightTimer > 8:\n",
    "            return 0,0\n",
    "\n",
    "    return kp, ct"
   ]
  },
  {
   "cell_type": "code",
   "execution_count": null,
   "metadata": {
    "pycharm": {
     "name": "#%%\n"
    }
   },
   "outputs": [],
   "source": [
    "def searchPairings(current: list[Flights], pairings: list[Pairings]) -> list[Pairings]:\n",
    "    keep, cont = validPairing(current)\n",
    "    if keep:\n",
    "        pair = Pairings(cp.deepcopy(current))\n",
    "        pairings.append(pair)\n",
    "    if cont:\n",
    "        first_leg = current[0]\n",
    "        last_leg = current[-1]\n",
    "        for ed in g.out_edges(last_leg.airport_arrival):\n",
    "            for fl_ed in g[ed[0]][ed[1]][\"flight_list\"].items():\n",
    "                f_inner : Flights = fl_ed[1][0]\n",
    "                if calcDurationInHours(first_leg.date_time_departure, f_inner.date_time_arrival) > 72:\n",
    "                    break\n",
    "                if calcDurationInHours(last_leg.date_time_arrival, f_inner.date_time_departure) >= 0.25:\n",
    "                    current.append(f_inner)\n",
    "                    pairings = searchPairings(current, pairings)\n",
    "                    current.remove(f_inner)\n",
    "    return pairings"
   ]
  },
  {
   "cell_type": "code",
   "execution_count": null,
   "metadata": {
    "pycharm": {
     "name": "#%%\n"
    }
   },
   "outputs": [],
   "source": [
    "def calcPairingCost(p_toCalc: Pairings) -> float:\n",
    "    return math.floor(1000*p_toCalc.total_duration/p_toCalc.total_flying_time)"
   ]
  },
  {
   "cell_type": "code",
   "execution_count": null,
   "outputs": [],
   "source": [
    "\n",
    "\n",
    "load = ynbox(\"Would you like to load pairings from storage?\\n!!WARNING!!\\nChoosing No will result in new pairings being generated.\", \"Load Pairings\")\n",
    "genesisAddition =ynbox(\"Would you like to add the genesis mutations?\", \"Genesis Addition\")\n",
    "\n",
    "print(load, genesisAddition)"
   ],
   "metadata": {
    "collapsed": false,
    "pycharm": {
     "name": "#%%\n"
    }
   }
  },
  {
   "cell_type": "code",
   "execution_count": null,
   "metadata": {
    "pycharm": {
     "name": "#%%\n"
    }
   },
   "outputs": [],
   "source": [
    "if not load:\n",
    "    all_pairings = []\n",
    "\n",
    "    list_of_non_cvrd = None\n",
    "    for airport in airports.items():\n",
    "        air = airport[1]\n",
    "        air: Airport\n",
    "        if air.is_base:\n",
    "            print(\"Base: \", air.name, sep=\"\")\n",
    "            for edge in g.out_edges(air.name):\n",
    "                print(\"Generating pairings for \", edge, sep=\"\")\n",
    "                beforeNew = len(all_pairings)\n",
    "                for flight in g[edge[0]][edge[1]][\"flight_list\"].items():\n",
    "                    f : Flights = flight[1][0]\n",
    "                    new_pairings = searchPairings([f], [])\n",
    "\n",
    "                    all_pairings.extend(new_pairings)\n",
    "\n",
    "                if beforeNew == len(all_pairings):\n",
    "                    tempRatio = allowedRatio\n",
    "                    allowedRatio = 0\n",
    "                    for flight in g[edge[0]][edge[1]][\"flight_list\"].items():\n",
    "                        f : Flights = flight[1][0]\n",
    "                        new_pairings = searchPairings([f], [])\n",
    "                        all_pairings.extend(new_pairings)\n",
    "                    allowedRatio = tempRatio\n",
    "                print(\"Pairings Generated = \", len(all_pairings) - beforeNew, sep=\"\")\n",
    "            print(\"---------------\")\n",
    "else:\n",
    "    with open('PairingObjects/PairingObjects'+ str(instanceNum) +'.txt', 'rb') as pairings_file:\n",
    "        all_pairings = pickle.load(pairings_file)"
   ]
  },
  {
   "cell_type": "code",
   "execution_count": null,
   "metadata": {
    "collapsed": true,
    "pycharm": {
     "name": "#%%\n"
    }
   },
   "outputs": [],
   "source": [
    "len(all_pairings)"
   ]
  },
  {
   "cell_type": "code",
   "execution_count": null,
   "metadata": {
    "pycharm": {
     "name": "#%%\n"
    }
   },
   "outputs": [],
   "source": [
    "covered = init_cover_list()\n",
    "empty_covered = {}\n",
    "\n",
    "for pairing in all_pairings:\n",
    "    intersec = pairing.set_flights.intersection(empty_covered)\n",
    "    if len(intersec) != len(pairing.legs):\n",
    "        for f in pairing.legs:\n",
    "            if f.legNo not in empty_covered:\n",
    "                empty_covered[f.legNo] = (True, 1)\n",
    "    if len(empty_covered) == len(flights):\n",
    "        break\n",
    "\n",
    "for item in covered.items():\n",
    "    if item[0] in empty_covered:\n",
    "        covered[item[0]] = (True, 1)\n",
    "\n",
    "non_covrd = getNonCoveredFlights(empty_covered)\n",
    "if len(non_covrd) != 0:\n",
    "    print(non_covrd)\n",
    "    list_of_non_cvrd = [e[0] for e in non_covrd]\n",
    "    allowedRatio = 0\n",
    "    for airport in airports.items():\n",
    "        air = airport[1]\n",
    "        air: Airport\n",
    "        if air.is_base:\n",
    "            print(air.name)\n",
    "            for edge in g.out_edges(air.name):\n",
    "                print(edge)\n",
    "                beforeNew = len(all_pairings)\n",
    "                for flight in g[edge[0]][edge[1]][\"flight_list\"].items():\n",
    "                    delete = True\n",
    "                    f : Flights = flight[1][0]\n",
    "\n",
    "                    new_pairings = searchPairings([f], [])\n",
    "                    temp_new_pairings = new_pairings[:]\n",
    "                    for p in new_pairings:\n",
    "                        for leg in p.legs:\n",
    "                            if leg.legNo in list_of_non_cvrd:\n",
    "                                delete = False\n",
    "                        if delete:\n",
    "                            temp_new_pairings.remove(p)\n",
    "                    all_pairings.extend(temp_new_pairings)\n",
    "                print(\"Pairings Generated = \", len(all_pairings) - beforeNew, sep=\"\")\n",
    "                print(\"--\")\n",
    "    for pairing in all_pairings:\n",
    "        pairing : Pairings\n",
    "        for leg in pairing.legs:\n",
    "            covered[leg.legNo] = (True, covered[leg.legNo][1]+1)\n",
    "    non_covrd = getNonCoveredFlights(covered)\n",
    "\n",
    "if len(non_covrd) != 0:\n",
    "    print(\"Parameters are impossible\")"
   ]
  },
  {
   "cell_type": "code",
   "execution_count": null,
   "metadata": {
    "pycharm": {
     "name": "#%%\n"
    }
   },
   "outputs": [],
   "source": [
    "flight_pairings : {str:list[Pairings]} = {}\n",
    "\n",
    "for i, obj in enumerate(all_pairings):\n",
    "    all_pairings[i].cost = calcPairingCost(obj)\n",
    "    for f in obj.legs:\n",
    "        if f.legNo in flight_pairings:\n",
    "            flight_pairings[f.legNo].append(obj)\n",
    "        else:\n",
    "            flight_pairings[f.legNo] = [obj]\n",
    "\n",
    "\n",
    "print(\"Total Pairings Generated: \", len(all_pairings), sep=\"\")"
   ]
  },
  {
   "cell_type": "code",
   "execution_count": null,
   "metadata": {
    "pycharm": {
     "name": "#%%\n"
    }
   },
   "outputs": [],
   "source": [
    "# invalid = 0\n",
    "# for p in all_pairings:\n",
    "#     full_timer = 0\n",
    "#     flight_timer = 0\n",
    "#     flightDiff = 0\n",
    "#     for i, f in enumerate(p.legs):\n",
    "#         full_timer += f.duration\n",
    "#         flight_timer += f.duration\n",
    "#\n",
    "#\n",
    "#         if i != 0:\n",
    "#             flightDiff = calcDurationInHours(p.legs[i-1].date_time_arrival, f.date_time_departure)\n",
    "#             full_timer += flightDiff\n",
    "#\n",
    "#         if flightDiff < 10 and full_timer > 14:\n",
    "#             invalid += 1\n",
    "#             print(p.pairing_string)\n",
    "#         elif flightDiff > 10:\n",
    "#             full_timer = 0\n",
    "#             flight_timer = 0\n"
   ]
  },
  {
   "cell_type": "code",
   "execution_count": null,
   "metadata": {
    "pycharm": {
     "name": "#%%\n"
    }
   },
   "outputs": [],
   "source": [
    "for plst in flight_pairings.items():\n",
    "    flight_pairings[plst[0]] = set(plst[1])"
   ]
  },
  {
   "cell_type": "code",
   "execution_count": null,
   "metadata": {
    "pycharm": {
     "name": "#%%\n"
    }
   },
   "outputs": [],
   "source": [
    "# avg = mean([item.cost for item in all_pairings])\n",
    "new_pairings = []\n",
    "if not load:\n",
    "    counter = 0\n",
    "    temp_new_pairings = all_pairings[:]\n",
    "    # all_pairings = []\n",
    "    temp_new_pairings.sort(key=lambda x:x.cost, reverse=True)\n",
    "\n",
    "    for i, p in enumerate(temp_new_pairings):\n",
    "        rem = True\n",
    "        count = min([len(flight_pairings[f.legNo]) for f in p.legs])\n",
    "        if count < 100:\n",
    "            rem = False\n",
    "\n",
    "        if rem:\n",
    "            counter += 1\n",
    "            for f in p.legs:\n",
    "                flight_pairings[f.legNo].remove(p)\n",
    "        else:\n",
    "            new_pairings.append(p)"
   ]
  },
  {
   "cell_type": "code",
   "execution_count": null,
   "metadata": {
    "pycharm": {
     "name": "#%%\n"
    }
   },
   "outputs": [],
   "source": [
    "if not load:\n",
    "    new_pairings.sort(key=lambda x:x.cost, reverse=False)\n",
    "    all_pairings = new_pairings"
   ]
  },
  {
   "cell_type": "code",
   "execution_count": null,
   "metadata": {
    "pycharm": {
     "name": "#%%\n"
    }
   },
   "outputs": [],
   "source": [
    "len(new_pairings)"
   ]
  },
  {
   "cell_type": "code",
   "execution_count": null,
   "metadata": {
    "pycharm": {
     "name": "#%%\n"
    }
   },
   "outputs": [],
   "source": [
    "for p in all_pairings:\n",
    "    p.cost = calcPairingCost(p)\n",
    "all_pairings.sort(key=lambda xt: xt.cost, reverse=False)\n",
    "\n",
    "for i, p in enumerate(all_pairings):\n",
    "    p.id = i"
   ]
  },
  {
   "cell_type": "code",
   "execution_count": null,
   "metadata": {
    "pycharm": {
     "name": "#%%\n"
    }
   },
   "outputs": [],
   "source": [
    "genesisPairActual = Solution()\n",
    "update = False\n",
    "for P in genesisPair:\n",
    "    match_length = len(P.legs)\n",
    "    set_legs = set(P.legs)\n",
    "\n",
    "    find = False\n",
    "    for item in flight_pairings[P.legs[0]]:\n",
    "        if len(set(P.legs).intersection(item.set_flights)) == match_length and len(item.set_flights) == len(P.legs):\n",
    "            find = True\n",
    "            genesisPairActual.solution_pairings.append(item)\n",
    "    if not find:\n",
    "        ls = [flights[leg] for leg in P.legs]\n",
    "        all_pairings.append(Pairings(ls))\n",
    "        genesisPairActual.solution_pairings.append(all_pairings[-1])\n",
    "        update = True\n",
    "\n",
    "if update:\n",
    "    for p in all_pairings:\n",
    "        p.cost = calcPairingCost(p)\n",
    "    all_pairings.sort(key=lambda xt: xt.cost, reverse=False)\n",
    "\n",
    "    for i, p in enumerate(all_pairings):\n",
    "        p.id = i\n",
    "\n",
    "    flight_pairings = {}\n",
    "    for p in all_pairings:\n",
    "        for f in p.legs:\n",
    "            if f.legNo in flight_pairings:\n",
    "                flight_pairings[f.legNo].append(p)\n",
    "            else:\n",
    "                flight_pairings[f.legNo] = [p]\n"
   ]
  },
  {
   "cell_type": "code",
   "execution_count": null,
   "metadata": {
    "pycharm": {
     "name": "#%%\n"
    }
   },
   "outputs": [],
   "source": [
    "with open('PairingObjects/PairingObjects'+ str(instanceNum) +'.txt', 'wb') as pairings_file:\n",
    "    pickle.dump(all_pairings, pairings_file)"
   ]
  },
  {
   "cell_type": "markdown",
   "metadata": {
    "pycharm": {
     "name": "#%% md\n"
    }
   },
   "source": [
    "# Initial Population Code"
   ]
  },
  {
   "cell_type": "code",
   "execution_count": null,
   "metadata": {
    "pycharm": {
     "name": "#%%\n"
    }
   },
   "outputs": [],
   "source": [
    "def checkSimilarity(cvd, t_pairing: Pairings) -> int:\n",
    "    total_legs = len(t_pairing.legs)\n",
    "    present_legs = 0\n",
    "    for Leg in t_pairing.legs:\n",
    "        if cvd[Leg.legNo][0]:\n",
    "            present_legs += 1\n",
    "    return present_legs/total_legs * 100"
   ]
  },
  {
   "cell_type": "code",
   "execution_count": null,
   "metadata": {
    "pycharm": {
     "name": "#%%\n"
    }
   },
   "outputs": [],
   "source": [
    "def returnFeasibleSolution(curr_sol: Solution):\n",
    "    if len(curr_sol.solution_pairings) == 0:\n",
    "        curr_sol.solution_pairings = convertFromBinaryToPairings(to_convert=curr_sol.solution_encoding)\n",
    "    cov = init_cover_list()\n",
    "    for pair in curr_sol.solution_pairings:\n",
    "        for fl in pair.legs:\n",
    "            cov[fl.legNo] = (True, cov[fl.legNo][1]+1)\n",
    "    non_covered = getNonCoveredFlights(cov)\n",
    "    list_of_non_covered =[e[0] for e in non_covered]\n",
    "    set_of_non_covered = set(list_of_non_covered)\n",
    "\n",
    "\n",
    "    for fl in list_of_non_covered:\n",
    "        if fl in set_of_non_covered:\n",
    "            candidates = []\n",
    "            temp_pairings = list(flight_pairings[fl])\n",
    "            for pair in temp_pairings:\n",
    "                potential_cover = len(set_of_non_covered.intersection(pair.set_flights))\n",
    "                candidates.append((pair, 1.0*pair.cost/potential_cover))\n",
    "            candidates.sort(key=lambda x: x[1], reverse=False)\n",
    "            curr_sol.solution_pairings.append(candidates[0][0])\n",
    "            if len(curr_sol.solution_encoding)!= 0:\n",
    "                curr_sol.solution_encoding[candidates[0][0].id] = 1\n",
    "            for l3g in candidates[0][0].legs:\n",
    "                if l3g.legNo in set_of_non_covered:\n",
    "                    set_of_non_covered.remove(l3g.legNo)\n",
    "\n",
    "    curr_sol = clearUnusedPairings(curr_sol)\n",
    "    return curr_sol"
   ]
  },
  {
   "cell_type": "code",
   "execution_count": null,
   "metadata": {
    "pycharm": {
     "name": "#%%\n"
    }
   },
   "outputs": [],
   "source": [
    "def clearUnusedPairings(curr_sol) -> Solution:\n",
    "    cov = init_cover_list()\n",
    "    curr_sol.solution_pairings.sort(key=lambda xt: xt.cost, reverse=False)\n",
    "    new_list = []\n",
    "    for j, pair in enumerate(curr_sol.solution_pairings):\n",
    "        remove = True\n",
    "        for fl in pair.legs:\n",
    "            if cov[fl.legNo][0] is False:\n",
    "                remove = False\n",
    "                cov[fl.legNo] = (True, None)\n",
    "        if remove:\n",
    "            # curr_sol.solution_pairings.remove(pair)\n",
    "            if len(curr_sol.solution_encoding)!= 0:\n",
    "                curr_sol.solution_encoding[pair.id] = 0\n",
    "        else:\n",
    "            new_list.append(pair)\n",
    "    curr_sol.solution_pairings = new_list\n",
    "    return curr_sol"
   ]
  },
  {
   "cell_type": "code",
   "execution_count": null,
   "metadata": {
    "pycharm": {
     "name": "#%%\n"
    }
   },
   "outputs": [],
   "source": [
    "def find_random_solution():\n",
    "    solution = Solution()\n",
    "    covered_flights = init_cover_list()\n",
    "    temp_pairings = all_pairings[:]\n",
    "    while len(temp_pairings)!= 0:\n",
    "        index = random.randint(0, len(temp_pairings)-1)\n",
    "        if len(solution.solution_pairings) == 0:\n",
    "            solution.solution_pairings.append(temp_pairings[index])\n",
    "            for Leg in temp_pairings[index].legs:\n",
    "                covered_flights[Leg.legNo] = (True, covered_flights[Leg.legNo][1]+1)\n",
    "        else:\n",
    "            sim = checkSimilarity(covered_flights, temp_pairings[index])\n",
    "            if sim == 0:\n",
    "                solution.solution_pairings.append(temp_pairings[index])\n",
    "                for Leg in temp_pairings[index].legs:\n",
    "                    covered_flights[Leg.legNo] = (True, covered_flights[Leg.legNo][1]+1)\n",
    "        del temp_pairings[index]\n",
    "    return returnFeasibleSolution(solution)"
   ]
  },
  {
   "cell_type": "code",
   "execution_count": null,
   "metadata": {
    "pycharm": {
     "name": "#%%\n"
    }
   },
   "outputs": [],
   "source": [
    "def calcDeadheadsFromCover(cov):\n",
    "    j = 0\n",
    "    for it in cov.items():\n",
    "        # print(item)\n",
    "        if it[1][1] > 1:\n",
    "            j+=(it[1][1]-1)\n",
    "    return j"
   ]
  },
  {
   "cell_type": "code",
   "execution_count": null,
   "metadata": {
    "pycharm": {
     "name": "#%%\n"
    }
   },
   "outputs": [],
   "source": [
    "def calcDeadheadsAlt(sol):\n",
    "    j = 0\n",
    "    cov = init_cover_list()\n",
    "    for pr in sol:\n",
    "        for Leg in pr.legs:\n",
    "            cov[Leg] = (True, cov[Leg][1]+1)\n",
    "    for it in cov.items():\n",
    "        # print(item)\n",
    "        if it[1][1] > 1:\n",
    "            j+=(it[1][1]-1)\n",
    "    return j"
   ]
  },
  {
   "cell_type": "code",
   "execution_count": null,
   "metadata": {
    "pycharm": {
     "name": "#%%\n"
    }
   },
   "outputs": [],
   "source": [
    "def calcDeadheadsFromSolution(sol: list[Pairings]):\n",
    "    j = 0\n",
    "    cov = init_cover_list()\n",
    "    for pr in sol:\n",
    "        for Leg in pr.legs:\n",
    "            cov[Leg.legNo] = (True, cov[Leg.legNo][1]+1)\n",
    "    for it in cov.items():\n",
    "        # print(item)\n",
    "        if it[1][1] > 1:\n",
    "            j+=(it[1][1]-1)\n",
    "    return j"
   ]
  },
  {
   "cell_type": "code",
   "execution_count": null,
   "metadata": {
    "pycharm": {
     "name": "#%%\n"
    }
   },
   "outputs": [],
   "source": [
    "def calcSolutionCost(pairs: list[Pairings], deadheads:int) -> float:\n",
    "    c = 0\n",
    "    for pr in pairs:\n",
    "        c+=calcPairingCost(pr)\n",
    "    c+= deadheads*1000\n",
    "    return c"
   ]
  },
  {
   "cell_type": "code",
   "execution_count": null,
   "metadata": {
    "pycharm": {
     "name": "#%%\n"
    }
   },
   "outputs": [],
   "source": [
    "def generatePop(num_of_Solutions: int, prnt=True):\n",
    "    temp_solutions = []\n",
    "    for j in range(num_of_Solutions):\n",
    "        if prnt:\n",
    "            print(\"Solution\", j+1, sep=\" \", end= \"\\n\")\n",
    "        s = find_random_solution()\n",
    "        s.id = j\n",
    "        s.deadheads = calcDeadheadsFromSolution(s.solution_pairings)\n",
    "        s.solution_cost = calcSolutionCost(s.solution_pairings, s.deadheads)\n",
    "        if prnt:\n",
    "            print(\"Deadheads: \", s.deadheads, sep=\"\")\n",
    "            print(\"Solution Length: \", len(s.solution_pairings), sep=\"\")\n",
    "            print(\"Solution Cost: \", s.solution_cost, sep=\"\")\n",
    "        temp_solutions.append(s)\n",
    "        \n",
    "    return temp_solutions\n",
    "if genesisAddition:\n",
    "    pre_population = generatePop(100)\n",
    "else:\n",
    "    pre_population = generatePop(200)\n"
   ]
  },
  {
   "cell_type": "code",
   "execution_count": null,
   "metadata": {
    "pycharm": {
     "name": "#%%\n"
    }
   },
   "outputs": [],
   "source": [
    "# GA generate 100 solutions randomly -- done\n",
    "# Genesis solution has to be one of the starting 100 -- can be done\n",
    "# Shall always use the best solutions for the following (The best 10 must ALWAYS go in)\n",
    "# have a way of determining if a solution is valid or not. //Genetic repair to fix it\n",
    "#   crossover operator - from the solution ex. you get one pairing from one and another and you star picking from one to another and you do it until a certain point you must repair it.\n",
    "# Genetic operators are SUPER important\n",
    "# fitness func use cost\n",
    "# take the init population and create another 500 from crossover, order them by cost, create another 100 and use prob tournament\n",
    "# take another population\n",
    "\n",
    "#VIMP -- Every solution has to be a unique code - to track if a solution makes it from solution to solution and how it was born and how it died. Some will survive but won't be the best and we must know this. -- solution object created\n",
    "\n",
    "# how many at each generation are new, average lifespan - lower the better as you are getting better ones."
   ]
  },
  {
   "cell_type": "markdown",
   "metadata": {
    "pycharm": {
     "name": "#%% md\n"
    }
   },
   "source": [
    "## Genetic Algorithm"
   ]
  },
  {
   "cell_type": "code",
   "execution_count": null,
   "metadata": {
    "pycharm": {
     "name": "#%%\n"
    }
   },
   "outputs": [],
   "source": [
    "def convertFromPopulationToBinary(pop):\n",
    "    blank_gene = [0 for _ in all_pairings]\n",
    "\n",
    "    for sol in pop:\n",
    "        sol.solution_encoding = blank_gene[:]\n",
    "        for pair in sol.solution_pairings:\n",
    "            #Just in case assignment went wrong\n",
    "            if not hasattr(pair, \"id\"):\n",
    "                hold = None\n",
    "                found = False\n",
    "                for searcher in all_pairings:\n",
    "                    if pair.end_date_time == searcher.end_date_time and searcher.cost == pair.cost and searcher.start_date_time == pair.start_date_time:\n",
    "                        if not found:\n",
    "                            hold = searcher\n",
    "                            found = True\n",
    "                        else:\n",
    "                            found= False\n",
    "                            break\n",
    "                if found:\n",
    "                    sol.solution_encoding[hold.id] = 1\n",
    "                else:\n",
    "                    print(\"Fatal error\")\n",
    "            else:\n",
    "                sol.solution_encoding[pair.id] = 1"
   ]
  },
  {
   "cell_type": "code",
   "execution_count": null,
   "metadata": {
    "pycharm": {
     "name": "#%%\n"
    }
   },
   "outputs": [],
   "source": [
    "def convertFromBinaryToPairings(to_convert : list[int]):\n",
    "    temp_sol = []\n",
    "    for j, binary in enumerate(to_convert):\n",
    "        if binary == 1:\n",
    "            temp_sol.append(all_pairings[j])\n",
    "    return temp_sol"
   ]
  },
  {
   "cell_type": "code",
   "execution_count": null,
   "metadata": {
    "pycharm": {
     "name": "#%%\n"
    }
   },
   "outputs": [],
   "source": [
    "class GeneticAlgorithm:\n",
    "    min_generations = 0\n",
    "    generation_num = 0\n",
    "    mutation_rate = 0\n",
    "    initial_GA_population = 100\n",
    "    population: list[Solution] = []\n",
    "    pop_copy: list[Solution] = []\n",
    "    threshold = -sys.maxsize\n",
    "    max_generations = 0\n",
    "    curr_gen = 0\n",
    "\n",
    "\n",
    "    def __init__(self, min_generations, mutation_rate, initial_population, threshold, max_generations):\n",
    "        self.min_generations = min_generations\n",
    "        self.mutation_rate = mutation_rate\n",
    "        self.population = initial_population[:]\n",
    "        self.pop_copy = initial_population[:]\n",
    "        self.threshold = threshold\n",
    "        self.max_generations = max_generations\n",
    "        self.curr_gen = 0\n"
   ]
  },
  {
   "cell_type": "code",
   "execution_count": null,
   "metadata": {
    "pycharm": {
     "name": "#%%\n"
    }
   },
   "outputs": [],
   "source": [
    "    %%add_to GeneticAlgorithm\n",
    "    def sort_by_cost(self):\n",
    "        self.population.sort(key=lambda x: x.solution_cost, reverse=False)\n",
    "        self.pop_copy.sort(key=lambda x: x.solution_cost, reverse=False)\n"
   ]
  },
  {
   "cell_type": "code",
   "execution_count": null,
   "metadata": {
    "pycharm": {
     "name": "#%%\n"
    }
   },
   "outputs": [],
   "source": [
    "def mutate(child : Solution, rate, pre_run=False):\n",
    "    if rate > len(child.solution_encoding):\n",
    "        rate = len(child.solution_encoding)\n",
    "    reciprocal = rate/len(child.solution_encoding)\n",
    "    mutations = (random.choices([0,1], [1-reciprocal, reciprocal], k=len(child.solution_encoding))).count(1)\n",
    "    for j in range(mutations):\n",
    "        indx = random.randint(0, len(child.solution_encoding)-1)\n",
    "        binary = child.solution_encoding[indx]\n",
    "        if binary:\n",
    "            child.solution_encoding[indx] = 0\n",
    "        else:\n",
    "            child.solution_encoding[indx] = 1\n",
    "    if mutations != 0 and not pre_run:\n",
    "        child.generationMethod = \"Crossover and Mutation\"\n",
    "    return child"
   ]
  },
  {
   "cell_type": "markdown",
   "metadata": {},
   "source": []
  },
  {
   "cell_type": "code",
   "execution_count": null,
   "metadata": {
    "pycharm": {
     "name": "#%%\n"
    }
   },
   "outputs": [],
   "source": [
    "def roulette_wheel_selection(GA) -> Solution:\n",
    "    #reproduced from https://rocreguant.com/roulette-wheel-selection-python/2019/\n",
    "    population_fitness = sum([chromosome.solution_cost for chromosome in GA.pop_copy])\n",
    "    chromosome_probabilities = [chromosome.solution_cost/population_fitness for chromosome in GA.pop_copy]\n",
    "    chromosome_probabilities.reverse()\n",
    "\n",
    "    return np.random.choice(GA.pop_copy, p=chromosome_probabilities)"
   ]
  },
  {
   "cell_type": "code",
   "execution_count": null,
   "metadata": {
    "pycharm": {
     "name": "#%%\n"
    }
   },
   "outputs": [],
   "source": [
    "#redundant\n",
    "def fusion_crossover(parent1: Solution, parent2: Solution) -> Solution:\n",
    "    curr_child: Solution = Solution()\n",
    "    curr_child.solution_encoding = []\n",
    "    if parent1.solution_cost <= parent2.solution_cost:\n",
    "        fitter_parent = parent1\n",
    "        other_parent = parent2\n",
    "    else:\n",
    "        fitter_parent = parent2\n",
    "        other_parent = parent1\n",
    "\n",
    "    probability = fitter_parent.solution_cost/(fitter_parent.solution_cost+other_parent.solution_cost)\n",
    "\n",
    "    for fp,op in zip(fitter_parent.solution_encoding, other_parent.solution_encoding):\n",
    "        if fp == 1 and op == 1:\n",
    "            curr_child.solution_encoding.append(1)\n",
    "        elif fp == 1 and op == 0 or fp == 0 and op == 1:\n",
    "            curr_child.solution_encoding.append(random.choices([fp,op], weights=[1-probability, probability], k=1)[0])\n",
    "        else:\n",
    "            curr_child.solution_encoding.append(0)\n",
    "\n",
    "    return curr_child\n"
   ]
  },
  {
   "cell_type": "code",
   "execution_count": null,
   "metadata": {
    "pycharm": {
     "name": "#%%\n"
    }
   },
   "outputs": [],
   "source": [
    "# redundant\n",
    "def uniform_crossover(parent1: Solution, parent2: Solution) -> Solution:\n",
    "    curr_child: Solution = Solution()\n",
    "    curr_child.solution_encoding = []\n",
    "    for p1,p2 in zip(parent1.solution_encoding, parent2.solution_encoding):\n",
    "        if p1 == 1 and p2 == 1:\n",
    "            curr_child.solution_encoding.append(1)\n",
    "        elif p1 == 1 and p2 == 0 or p1 == 0 and p2 == 1:\n",
    "            chance = random.randint(1,100)\n",
    "            if chance <= 50:\n",
    "                curr_child.solution_encoding.append(1)\n",
    "            else:\n",
    "                curr_child.solution_encoding.append(0)\n",
    "        else:\n",
    "            curr_child.solution_encoding.append(0)\n",
    "\n",
    "    return curr_child"
   ]
  },
  {
   "cell_type": "code",
   "execution_count": null,
   "metadata": {
    "pycharm": {
     "name": "#%%\n"
    }
   },
   "outputs": [],
   "source": [
    "def single_point_crossover(parent1: Solution, parent2: Solution, crossover_point=None) -> (Solution, Solution):\n",
    "    if crossover_point is None:\n",
    "        min_point = len(parent1.solution_encoding)\n",
    "        max_point = 0\n",
    "        first_binary = True\n",
    "        for j,b1,b2 in enumerate(zip(parent1.solution_encoding,parent2.solution_encoding)):\n",
    "            if first_binary and b1 != b2:\n",
    "                min_point = j\n",
    "                first_binary = False\n",
    "            elif b1 != b2 and not first_binary:\n",
    "                max_point = j\n",
    "        crossover_point = random.randint(min_point, max_point)\n",
    "    curr_child_1 = Solution()\n",
    "    curr_child_2 = Solution()\n",
    "    curr_child_1.solution_encoding = parent1.solution_encoding[:]\n",
    "    curr_child_2.solution_encoding = parent2.solution_encoding[:]\n",
    "\n",
    "    for j in range(crossover_point,len(parent1.solution_encoding)):\n",
    "        curr_child_1.solution_encoding[i],curr_child_2.solution_encoding[i] = curr_child_2.solution_encoding[i],curr_child_1.solution_encoding[i]\n",
    "\n",
    "    return curr_child_1,curr_child_2\n"
   ]
  },
  {
   "cell_type": "code",
   "execution_count": null,
   "metadata": {
    "pycharm": {
     "name": "#%%\n"
    }
   },
   "outputs": [],
   "source": [
    "def two_point_crossover(parent1: Solution, parent2: Solution) -> (Solution, Solution):\n",
    "    min_point_1 = parent1.solution_encoding.index(1)\n",
    "    min_point_2 = parent2.solution_encoding.index(1)\n",
    "\n",
    "    # reversed_list_1 = parent1.solution_encoding[::-1]\n",
    "\n",
    "    reversed_list_1 = [parent1.solution_encoding[j] for j in range(len(parent1.solution_encoding) - 1, -1, -1)]\n",
    "    first_index_in_reversed_1 = reversed_list_1.index(1)\n",
    "    last_index_1 = len(parent1.solution_encoding) -1 - first_index_in_reversed_1\n",
    "\n",
    "    reversed_list_2 = [parent1.solution_encoding[j] for j in range(len(parent1.solution_encoding) - 1, -1, -1)]\n",
    "    first_index_in_reversed_2 = reversed_list_2.index(1)\n",
    "    last_index_2 = len(parent2.solution_encoding) -1 - first_index_in_reversed_2\n",
    "\n",
    "    if min_point_1 < min_point_2:\n",
    "        min_point = min_point_1\n",
    "    else:\n",
    "        min_point = min_point_2\n",
    "\n",
    "    if last_index_1 > last_index_2:\n",
    "        max_point = last_index_1\n",
    "    else:\n",
    "        max_point = last_index_2\n",
    "\n",
    "    crossover_points = []\n",
    "    while len(set(crossover_points)) < 2:\n",
    "        try:\n",
    "            crossover_points = random.choices(list(range(min_point, max_point)), k=2)\n",
    "        except:\n",
    "            crossover_points = random.choices(list(range(0, len(parent1.solution_encoding))), k=2)\n",
    "    curr_child_1 = Solution()\n",
    "    curr_child_2 = Solution()\n",
    "    curr_child_1.solution_encoding = parent1.solution_encoding[:]\n",
    "    curr_child_2.solution_encoding = parent2.solution_encoding[:]\n",
    "\n",
    "    for j in crossover_points:\n",
    "        curr_child_1,curr_child_2 = single_point_crossover(curr_child_1, curr_child_2, j)\n",
    "    return curr_child_1, curr_child_2\n"
   ]
  },
  {
   "cell_type": "code",
   "execution_count": null,
   "metadata": {
    "pycharm": {
     "name": "#%%\n"
    }
   },
   "outputs": [],
   "source": [
    "def prepare_offspring(child_1, child_2) -> (Solution, Solution):\n",
    "    child_1 = mutate(child_1, Gen_Alg.mutation_rate)\n",
    "    child_2 = mutate(child_2, Gen_Alg.mutation_rate)\n",
    "\n",
    "    child_1 = returnFeasibleSolution(child_1)\n",
    "    child_2 = returnFeasibleSolution(child_2)\n",
    "\n",
    "    child_1.deadheads = calcDeadheadsFromSolution(child_1.solution_pairings)\n",
    "    child_1.solution_cost = calcSolutionCost(child_1.solution_pairings, child_1.deadheads)\n",
    "    child_2.deadheads = calcDeadheadsFromSolution(child_2.solution_pairings)\n",
    "    child_2.solution_cost = calcSolutionCost(child_2.solution_pairings, child_2.deadheads)\n",
    "\n",
    "    return child_1, child_2"
   ]
  },
  {
   "cell_type": "code",
   "execution_count": null,
   "metadata": {
    "pycharm": {
     "name": "#%%\n"
    }
   },
   "outputs": [],
   "source": [
    "def start(GA):\n",
    "    GA.sort_by_cost()\n",
    "    cost_threshold = GA.population[0].solution_cost\n",
    "    lowest_cost_solution = GA.population[0]\n",
    "    with open('Trackers/Tracker'+ str(instanceNum) +'.csv', 'r+') as f_object:\n",
    "        next(f_object)\n",
    "        f_object.truncate()\n",
    "        f_object.write(\"\\n\")\n",
    "    with open('Trackers/HighLow'+ str(instanceNum) +'.csv', 'r+') as f_object:\n",
    "        next(f_object)\n",
    "        f_object.truncate()\n",
    "        f_object.write(\"\\n\")\n",
    "\n",
    "    with open('Trackers/HighLow'+ str(instanceNum) +'.csv', 'a') as f_object:\n",
    "        writer_object = writer(f_object)\n",
    "\n",
    "        writer_object.writerow([0, GA.population[0].solution_cost, GA.population[-1].solution_cost])\n",
    "\n",
    "        f_object.close()\n",
    "\n",
    "\n",
    "    try:\n",
    "        while GA.threshold*95/100 < cost_threshold and GA.max_generations != GA.curr_gen:\n",
    "            encoding_dict = {}\n",
    "\n",
    "            for sol in GA.population:\n",
    "                encoding_dict[str(sol.solution_encoding)] = True\n",
    "\n",
    "            GA.curr_gen += 1\n",
    "            removeChildren = 0\n",
    "            offspring_generate = 500\n",
    "            best_two_crossed = False\n",
    "            final_id = -1\n",
    "            t1_start = time.process_time()\n",
    "            for j in range(offspring_generate):\n",
    "                parent1 = roulette_wheel_selection(GA)\n",
    "                parent2 = roulette_wheel_selection(GA)\n",
    "                while parent2.id == parent1.id:\n",
    "                    parent2 = roulette_wheel_selection(GA)\n",
    "\n",
    "\n",
    "                if (parent1.id == GA.pop_copy[0].id and parent2.id == GA.pop_copy[1].id) or (parent2.id == GA.pop_copy[0].id and parent1.id == GA.pop_copy[1].id):\n",
    "                    best_two_crossed = True\n",
    "\n",
    "                child_1,child_2 = two_point_crossover(parent1, parent2)\n",
    "\n",
    "                child_1,child_2 = prepare_offspring(child_1, child_2)\n",
    "\n",
    "                if child_1.solution_cost < lowest_cost_solution.solution_cost:\n",
    "                    lowest_cost_solution = child_1\n",
    "                if child_2.solution_cost < lowest_cost_solution.solution_cost:\n",
    "                    lowest_cost_solution = child_2\n",
    "                child_1.gen_time = GA.curr_gen\n",
    "                child_2.gen_time = GA.curr_gen\n",
    "\n",
    "                if j*2 < 10:\n",
    "                    child_1.id = int(str(GA.curr_gen) + \"0\" + str(j))\n",
    "                    child_2.id = int(str(GA.curr_gen) + \"0\" + str(j+1))\n",
    "                else:\n",
    "                    child_1.id = int(str(GA.curr_gen) + str(j))\n",
    "                    child_2.id = int(str(GA.curr_gen) + str(j+1))\n",
    "\n",
    "                if not (str(child_1.solution_encoding) in encoding_dict):\n",
    "                    child_1.parents= [parent1.id, parent2.id]\n",
    "                    GA.population.append(child_1)\n",
    "                    removeChildren += 1\n",
    "                    encoding_dict[str(child_1.solution_encoding)] = True\n",
    "\n",
    "\n",
    "                if not (str(child_2.solution_encoding) in encoding_dict):\n",
    "                    child_2.parents= [parent1.id, parent2.id]\n",
    "                    GA.population.append(child_2)\n",
    "                    removeChildren +=1\n",
    "                    encoding_dict[str(child_2.solution_encoding)] = True\n",
    "\n",
    "\n",
    "                final_id = child_2.id\n",
    "\n",
    "            t1_end = time.process_time()\n",
    "            print(\"Total Offspring generation done: \", t1_end-t1_start,\"s\", sep=\"\")\n",
    "\n",
    "            if not best_two_crossed:\n",
    "                parent1 = GA.pop_copy[0]\n",
    "                parent2 = GA.pop_copy[1]\n",
    "                child_1, child_2 = two_point_crossover(parent1, parent2)\n",
    "\n",
    "                child_1.generationMethod = \"Crossover\"\n",
    "                child_2.generationMethod = \"Crossover\"\n",
    "\n",
    "                child_1, child_2 = prepare_offspring(child_1, child_2)\n",
    "\n",
    "                if child_1.solution_cost < lowest_cost_solution.solution_cost:\n",
    "                    lowest_cost_solution = child_1\n",
    "                if child_2.solution_cost < lowest_cost_solution.solution_cost:\n",
    "                    lowest_cost_solution = child_2\n",
    "\n",
    "                child_1.gen_time = GA.curr_gen\n",
    "                child_2.gen_time = GA.curr_gen\n",
    "\n",
    "                child_1.id = final_id + 1\n",
    "                child_2.id = final_id + 2\n",
    "\n",
    "\n",
    "                if not (str(child_1.solution_encoding) in encoding_dict):\n",
    "                    child_1.parents= [parent1.id, parent2.id]\n",
    "                    GA.population.append(child_1)\n",
    "                    encoding_dict[str(child_1.solution_encoding)] = True\n",
    "\n",
    "                if not (str(child_2.solution_encoding) in encoding_dict):\n",
    "                    child_2.parents= [parent1.id, parent2.id]\n",
    "                    GA.population.append(child_2)\n",
    "                    encoding_dict[str(child_2.solution_encoding)] = True\n",
    "\n",
    "\n",
    "            GA.sort_by_cost()\n",
    "            lowest_cost_solution = GA.population[0]\n",
    "\n",
    "            delObj = []\n",
    "            while len(GA.population) != 150:\n",
    "                delObj.append([GA.population[-1].id, GA.population[-1].solution_cost, GA.population[-1].gen_time, GA.curr_gen, GA.population[-1].generationMethod])\n",
    "                del GA.population[-1]\n",
    "\n",
    "\n",
    "            with open('Trackers/HighLow'+ str(instanceNum) +'.csv', 'a') as f_object:\n",
    "                writer_object = writer(f_object)\n",
    "\n",
    "                writer_object.writerow([GA.curr_gen, GA.population[0].solution_cost, GA.population[-1].solution_cost])\n",
    "\n",
    "                f_object.close()\n",
    "\n",
    "\n",
    "            kept = 0\n",
    "            for pair in GA.population:\n",
    "                if pair.gen_time == GA.curr_gen:\n",
    "                    kept += 1\n",
    "\n",
    "            refreshPop = generatePop(50, False)\n",
    "            for a_child in refreshPop:\n",
    "                a_child.id = final_id+3\n",
    "                final_id+=1\n",
    "                a_child.gen_time = GA.curr_gen\n",
    "\n",
    "            convertFromPopulationToBinary(refreshPop)\n",
    "            GA.population.extend(refreshPop)\n",
    "\n",
    "            GA.sort_by_cost()\n",
    "            lowest_cost_solution = GA.population[0]\n",
    "\n",
    "            with open('Trackers/Tracker'+ str(instanceNum) +'.csv', 'a') as f_object:\n",
    "                writer_object = writer(f_object)\n",
    "\n",
    "                for rowObj in delObj:\n",
    "                    writer_object.writerow(rowObj)\n",
    "\n",
    "                f_object.close()\n",
    "\n",
    "            cost_threshold = GA.population[0].solution_cost\n",
    "\n",
    "            print(\"Generation: \", GA.curr_gen, sep=\"\")\n",
    "            print(GA.population[0].solution_cost)\n",
    "\n",
    "            print(\"Children kept:\", kept)\n",
    "\n",
    "            if kept == 0 and GA.mutation_rate<len(GA.pop_copy[0].solution_encoding)/2:\n",
    "                GA.mutation_rate += 1\n",
    "\n",
    "            GA.pop_copy = GA.population[:]\n",
    "\n",
    "            print(\"----\")\n",
    "    except KeyboardInterrupt:\n",
    "        return lowest_cost_solution\n",
    "\n",
    "    return GA.population[0]"
   ]
  },
  {
   "cell_type": "code",
   "execution_count": null,
   "metadata": {
    "pycharm": {
     "name": "#%%\n"
    }
   },
   "outputs": [],
   "source": [
    "genesisPairActual.deadheads = calcDeadheadsFromSolution(genesisPairActual.solution_pairings)\n",
    "genesisPairActual.solution_cost = calcSolutionCost(genesisPairActual.solution_pairings, genesisPairActual.deadheads)\n",
    "\n",
    "if genesisAddition:\n",
    "    genesisPairActual.id = 101\n",
    "    genesisPairActual.generationMethod = \"Genesis Pair\"\n",
    "\n",
    "    convertFromPopulationToBinary([genesisPairActual])\n",
    "\n",
    "    genesisPairsPop = [genesisPairActual]\n",
    "    counter = genesisPairActual.id\n",
    "\n",
    "    while len(genesisPairsPop) != 200:\n",
    "        mutated_copy = cp.deepcopy(genesisPairActual)\n",
    "        mutated_copy = mutate(mutated_copy, 15, True)\n",
    "        mutated_copy.solution_pairings = convertFromBinaryToPairings(mutated_copy.solution_encoding)\n",
    "        mutated_copy = returnFeasibleSolution(mutated_copy)\n",
    "        add = True\n",
    "        for p in genesisPairsPop:\n",
    "            if mutated_copy.solution_encoding == p.solution_encoding:\n",
    "                add = False\n",
    "                break\n",
    "        if add:\n",
    "            counter+=1\n",
    "            mutated_copy.id = counter\n",
    "            mutated_copy.deadheads = calcDeadheadsFromSolution(mutated_copy.solution_pairings)\n",
    "            mutated_copy.solution_cost = calcSolutionCost(mutated_copy.solution_pairings, mutated_copy.deadheads)\n",
    "            mutated_copy.generationMethod = \"Genesis Mutation\"\n",
    "            genesisPairsPop.append(mutated_copy)\n",
    "    # print()\n",
    "    pre_population.extend(genesisPairsPop)"
   ]
  },
  {
   "cell_type": "code",
   "execution_count": null,
   "outputs": [],
   "source": [
    "convertFromPopulationToBinary(pre_population)\n",
    "Gen_Alg = GeneticAlgorithm(10, 5, pre_population[:], calcSolutionCost(genesisPairActual.solution_pairings, calcDeadheadsAlt(genesisPair)), 255)\n",
    "best_solution = start(Gen_Alg)"
   ],
   "metadata": {
    "collapsed": false,
    "pycharm": {
     "name": "#%%\n"
    }
   }
  },
  {
   "cell_type": "code",
   "execution_count": null,
   "metadata": {
    "pycharm": {
     "name": "#%%\n"
    }
   },
   "outputs": [],
   "source": [
    "best_solution"
   ]
  },
  {
   "cell_type": "code",
   "execution_count": null,
   "metadata": {
    "pycharm": {
     "name": "#%%\n"
    }
   },
   "outputs": [],
   "source": [
    "covered = init_cover_list()\n",
    "\n",
    "\n",
    "for pairing in best_solution.solution_pairings:\n",
    "    pairing : Pairings\n",
    "    for leg in pairing.legs:\n",
    "        covered[leg.legNo] = (True, covered[leg.legNo][1]+1)\n",
    "best_solution.solution_cost"
   ]
  },
  {
   "cell_type": "code",
   "execution_count": null,
   "metadata": {
    "pycharm": {
     "name": "#%%\n"
    }
   },
   "outputs": [],
   "source": [
    "msg = f\"ID: {best_solution.id}, Cost: {best_solution.solution_cost}, Deadheads: {best_solution.deadheads}, Gen Time: {best_solution.gen_time}\\n\"\n",
    "\n",
    "msg+=\"\\n\\nSolution = {\\n\\n\"\n",
    "for i, pairing in enumerate(best_solution.solution_pairings):\n",
    "    msg+= \"Pairing \"+str(i)+\" : Base \"+ pairing.base_airport +\" : \" + pairing.pairing_string.strip() +\";\\n\\n\"\n",
    "msg += \"};\"\n",
    "with open('Best_Solutions/bestSol'+str(instanceNum)+'.txt', 'w', encoding='utf-8') as file:\n",
    "    file.write(msg)"
   ]
  }
 ],
 "metadata": {
  "kernelspec": {
   "display_name": "Python 3 (ipykernel)",
   "language": "python",
   "name": "python3"
  },
  "language_info": {
   "codemirror_mode": {
    "name": "ipython",
    "version": 3
   },
   "file_extension": ".py",
   "mimetype": "text/x-python",
   "name": "python",
   "nbconvert_exporter": "python",
   "pygments_lexer": "ipython3",
   "version": "3.10.3"
  }
 },
 "nbformat": 4,
 "nbformat_minor": 1
}