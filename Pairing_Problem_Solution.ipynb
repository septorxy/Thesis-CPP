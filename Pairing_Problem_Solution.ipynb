{
 "cells": [
  {
   "cell_type": "markdown",
   "metadata": {
    "pycharm": {
     "name": "#%% md\n"
    }
   },
   "source": [
    "# Imports"
   ]
  },
  {
   "cell_type": "code",
   "execution_count": 1,
   "metadata": {
    "pycharm": {
     "name": "#%%\n"
    }
   },
   "outputs": [],
   "source": [
    "import copy as cp\n",
    "import csv\n",
    "import math\n",
    "import os\n",
    "import sys\n",
    "from datetime import datetime\n",
    "import matplotlib\n",
    "import numpy as np\n",
    "import matplotlib.pyplot as plt\n",
    "import random\n",
    "import networkx as nx\n",
    "import jdc\n",
    "import time\n",
    "from statistics import mean\n",
    "import pickle\n",
    "import itertools\n",
    "from csv import writer"
   ]
  },
  {
   "cell_type": "markdown",
   "metadata": {
    "pycharm": {
     "name": "#%% md\n"
    }
   },
   "source": [
    "# Utility Methods"
   ]
  },
  {
   "cell_type": "code",
   "execution_count": 2,
   "metadata": {
    "pycharm": {
     "name": "#%%\n"
    }
   },
   "outputs": [],
   "source": [
    "def calcDurationInHours(starting_time, ending_time):\n",
    "    return (ending_time - starting_time).total_seconds() / 60 / 60"
   ]
  },
  {
   "cell_type": "code",
   "execution_count": 3,
   "metadata": {
    "pycharm": {
     "name": "#%%\n"
    }
   },
   "outputs": [],
   "source": [
    "def time_convert(sec):\n",
    "    mins = sec // 60\n",
    "    sec = sec % 60\n",
    "    hours = mins // 60\n",
    "    mins = mins % 60\n",
    "    print(\"Time Lapsed = {0}:{1}:{2}\".format(int(hours),int(mins),sec))"
   ]
  },
  {
   "cell_type": "markdown",
   "metadata": {
    "pycharm": {
     "name": "#%% md\n"
    }
   },
   "source": [
    "# Objects"
   ]
  },
  {
   "cell_type": "code",
   "execution_count": 4,
   "metadata": {
    "pycharm": {
     "name": "#%%\n"
    }
   },
   "outputs": [],
   "source": [
    "class Flights(object):\n",
    "    __slots__ = 'legNo', 'airport_departure', 'date_departure', 'hour_departure', 'airport_arrival', 'date_arrival', 'hour_arrival', 'date_time_arrival', 'date_time_departure', 'duration'\n",
    "    def __int__(self):\n",
    "        self.legNo = self.legNo\n",
    "        self.airport_departure = self.airport_departure\n",
    "        self.date_departure = self.date_departure\n",
    "        self.hour_departure = self.hour_departure\n",
    "        self.airport_arrival = self.airport_arrival\n",
    "        self.date_arrival = self.date_arrival\n",
    "        self.hour_arrival = self.hour_arrival\n",
    "        self.date_time_departure = self.date_time_departure\n",
    "        self.date_time_arrival = self.date_time_arrival\n",
    "        self.duration = self.duration\n",
    "        # self.pairing_relation = self.pairing_relation\n",
    "\n",
    "    def setDateTime(self):\n",
    "        self.date_time_departure = datetime.strptime(str(self.date_departure + ' ' + self.hour_departure), \"%Y-%m-%d \"\n",
    "                                                                                                           \"%H:%M\")\n",
    "        self.date_time_arrival = datetime.strptime(str(self.date_arrival + ' ' + self.hour_arrival), \"%Y-%m-%d %H:%M\")\n",
    "        diff = self.date_time_arrival - self.date_time_departure\n",
    "        seconds_in_hours = diff.seconds / 60 / 60\n",
    "        days_in_hours = diff.days * 24\n",
    "        self.duration = seconds_in_hours + days_in_hours\n",
    "\n",
    "    def __eq__(self, other):\n",
    "        return self.legNo == other.legNo\n",
    "\n",
    "    def __hash__(self):\n",
    "        return hash(('legNo', self.legNo))"
   ]
  },
  {
   "cell_type": "code",
   "execution_count": 5,
   "metadata": {
    "pycharm": {
     "name": "#%%\n"
    }
   },
   "outputs": [],
   "source": [
    "# class Duties(object):\n",
    "#     id = 0\n",
    "#     newId = itertools.count()\n",
    "#     legs: list[Flights] = []\n",
    "#     start_date_time = None\n",
    "#     end_date_time = None\n",
    "#     starting_airport = \"\"\n",
    "#     ending_airport = \"\"\n",
    "#     total_flying_time = 0\n",
    "#     total_duration = 0\n",
    "#\n",
    "#     def __init__(self, legs: list[Flights]):\n",
    "#         self.id = next(self.newId)\n",
    "#         dur = 0\n",
    "#         self.legs = legs\n",
    "#         self.start_date_time = legs[0].date_time_departure\n",
    "#         self.end_date_time = legs[-1].date_time_arrival\n",
    "#         self.starting_airport = legs[0].airport_departure\n",
    "#         self.ending_airport = legs[-1].airport_arrival\n",
    "#         for l3g in legs:\n",
    "#             dur += (l3g.date_time_arrival-l3g.date_time_departure).total_seconds()/60/60\n",
    "#         self.total_flying_time = dur\n",
    "#         self.total_duration = (self.end_date_time - self.start_date_time).total_seconds() / 60 / 60"
   ]
  },
  {
   "cell_type": "code",
   "execution_count": 6,
   "metadata": {
    "pycharm": {
     "name": "#%%\n"
    }
   },
   "outputs": [],
   "source": [
    "class Pairings(object):\n",
    "\n",
    "    __slots__ = \"legs\" , \"total_flying_time\", \"set_flights\", \"start_date_time\", 'end_date_time', 'id', 'base_airport', 'total_duration', 'pairing_string', 'cost'\n",
    "\n",
    "    def __init__(self, fls: list[Flights]):\n",
    "        self.legs = []\n",
    "        self.cost = -1\n",
    "        self.id = -1\n",
    "        self.legs = fls\n",
    "        temp_flying_time = 0\n",
    "        for l3g in self.legs:\n",
    "            temp_flying_time += calcDurationInHours(l3g.date_time_departure, l3g.date_time_arrival)\n",
    "        self.total_flying_time = temp_flying_time\n",
    "\n",
    "        self.set_flights = set([l3g.legNo for l3g in self.legs])\n",
    "\n",
    "        # self.total_flying_time += dty.total_flying_time\n",
    "        self.start_date_time = self.legs[0].date_time_departure\n",
    "        self.end_date_time = self.legs[-1].date_time_arrival\n",
    "        self.base_airport = self.legs[0].airport_departure\n",
    "        # self.total_flying_time = reduce(mul, [x.total_flying_time for x in duties])\n",
    "        self.total_duration = calcDurationInHours(self.start_date_time, self.end_date_time)\n",
    "        disp = \"\"\n",
    "        for l3g in self.legs:\n",
    "            disp += l3g.legNo + \" , \"\n",
    "        self.pairing_string = disp[:len(disp) - 3]\n",
    "\n",
    "    def __eq__(self, other):\n",
    "        return self.pairing_string == other.pairing_string\n",
    "\n",
    "    def __hash__(self):\n",
    "        return hash(('pairing_string', self.pairing_string))"
   ]
  },
  {
   "cell_type": "code",
   "execution_count": 7,
   "metadata": {
    "pycharm": {
     "name": "#%%\n"
    }
   },
   "outputs": [],
   "source": [
    "class Airport(object):\n",
    "    name = \"\"\n",
    "    is_base = None\n",
    "\n",
    "    def __init__(self):\n",
    "        self.name = self.name\n",
    "        self.is_base = self.is_base"
   ]
  },
  {
   "cell_type": "code",
   "execution_count": 8,
   "metadata": {
    "pycharm": {
     "name": "#%%\n"
    }
   },
   "outputs": [],
   "source": [
    "class PairingAlt(object):\n",
    "    pairing_name = \"\"\n",
    "    base = \"\"\n",
    "    legs = {}\n",
    "    start_date = \"\"\n",
    "    start_time = \"\"\n",
    "    end_date = \"\"\n",
    "    end_time = \"\"\n",
    "    total_flying_time = \"\"\n",
    "    total_duration = 0\n",
    "\n",
    "    def __int__(self):\n",
    "        self.pairing_name = self.pairing_name\n",
    "        self.base = self.base\n",
    "        self.legs = self.legs\n",
    "        self.start_date = self.start_date\n",
    "        self.start_time = self.start_time\n",
    "        self.end_date = self.end_date\n",
    "        self.end_time = self.end_time\n",
    "        self.total_flying_time = self.total_flying_time\n",
    "        self.total_duration = self.total_duration"
   ]
  },
  {
   "cell_type": "code",
   "execution_count": 9,
   "metadata": {
    "pycharm": {
     "name": "#%%\n"
    }
   },
   "outputs": [],
   "source": [
    "class Solution(object):\n",
    "    id = \"\"\n",
    "    solution_pairings = []\n",
    "    solution_cost = 0\n",
    "    deadheads = 0\n",
    "    gen_time = 0\n",
    "    died_time = 0\n",
    "    generationMethod = -1\n",
    "\n",
    "    solution_encoding = []\n",
    "    parents = []\n",
    "\n",
    "    def __init__(self):\n",
    "        self.id = -1\n",
    "        self.solution_pairings = []\n",
    "        self.solution_cost = 0\n",
    "        self.deadheads = 0\n",
    "        self.gen_time = 0\n",
    "        self.solution_encoding = []\n",
    "        self.parents = []\n",
    "        self.generationMethod = \"Random Generation\""
   ]
  },
  {
   "cell_type": "markdown",
   "source": [
    "# Input"
   ],
   "metadata": {
    "collapsed": false,
    "pycharm": {
     "name": "#%% md\n"
    }
   }
  },
  {
   "cell_type": "code",
   "execution_count": 10,
   "outputs": [],
   "source": [
    "instanceNum = 0\n",
    "allowedRatio = 0\n",
    "err = True\n",
    "while err:\n",
    "\n",
    "    try:\n",
    "        instanceNum = int(input(\"Which instance would you like to use?\"))\n",
    "        allowedRatio = float(input(\"What is the allowed ratio of flight time : total time (in percent)\"))\n",
    "        if 8 > instanceNum > 0 >= allowedRatio >= 100:\n",
    "            err = True\n",
    "        else:\n",
    "            err = False\n",
    "    except:\n",
    "        err = True\n",
    "\n",
    "    if err:\n",
    "        print(\"Instance Number between 1 and 7, both included and allowed ratio must be greater than 0 and smaller that 100\")\n",
    "        instanceNum = 0\n"
   ],
   "metadata": {
    "collapsed": false,
    "pycharm": {
     "name": "#%%\n"
    }
   }
  },
  {
   "cell_type": "markdown",
   "metadata": {
    "pycharm": {
     "name": "#%% md\n"
    }
   },
   "source": [
    "# File Reading"
   ]
  },
  {
   "cell_type": "code",
   "execution_count": 11,
   "metadata": {
    "pycharm": {
     "name": "#%%\n"
    }
   },
   "outputs": [],
   "source": [
    "flights = {}\n",
    "tempFlights = []\n",
    "for day in range(31):\n",
    "    path = os.getcwd() + '\\instance'+ str(instanceNum) + '\\day_' + str(day + 1) + '.csv'\n",
    "    first = True\n",
    "    with open(path) as csv_file:\n",
    "        reader = csv.reader(csv_file, delimiter=',')\n",
    "        for row in reader:\n",
    "            if not row:\n",
    "                continue\n",
    "            elif first:\n",
    "                first = False\n",
    "                continue\n",
    "            elif len(row) <= 6:\n",
    "                continue\n",
    "            else:\n",
    "                f = Flights()\n",
    "                f.legNo = row[0].strip()\n",
    "                f.airport_departure = row[1].strip()\n",
    "                f.date_departure = row[2].strip()\n",
    "                f.hour_departure = row[3].strip()\n",
    "                f.airport_arrival = row[4].strip()\n",
    "                f.date_arrival = row[5].strip()\n",
    "                f.hour_arrival = row[6].strip()\n",
    "                key = str(f.legNo.strip())\n",
    "                # covered[key] = (False, 0)\n",
    "                f.setDateTime()\n",
    "                tempFlights.append(f)\n",
    "\n",
    "\n",
    "# Taken from Zammit (2019)'s Solution as this was the value he used to fill in the missing part of the dataset\n",
    "if instanceNum == 3:\n",
    "    new_flight = Flights()\n",
    "    new_flight.legNo = 'LEG_31_38'\n",
    "    new_flight.airport_departure = 'BASE1'\n",
    "    new_flight.date_departure = '2000-01-30'\n",
    "    new_flight.hour_departure = '01:20'\n",
    "    new_flight.airport_arrival = 'AIR30'\n",
    "    new_flight.date_arrival = '2000-01-30'\n",
    "    new_flight.hour_arrival = '02:33'\n",
    "    new_flight.setDateTime()\n",
    "    tempFlights.append(new_flight)\n",
    "\n",
    "tempFlights.sort(key=lambda x: x.date_time_arrival, reverse=False)\n",
    "for flight in tempFlights:\n",
    "    flights[flight.legNo] = flight"
   ]
  },
  {
   "cell_type": "code",
   "execution_count": 12,
   "metadata": {
    "pycharm": {
     "name": "#%%\n"
    }
   },
   "outputs": [
    {
     "name": "stdout",
     "output_type": "stream",
     "text": [
      "['LEG_11_12', 'LEG_12_4', 'LEG_12_16', 'LEG_12_46', 'LEG_12_2', 'LEG_12_9', 'LEG_13_51', 'LEG_13_6', 'LEG_13_11']\n",
      "['LEG_17_22', 'LEG_17_26', 'LEG_17_24', 'LEG_17_36', 'LEG_18_37', 'LEG_18_0', 'LEG_18_14', 'LEG_18_13', 'LEG_19_21', 'LEG_19_18', 'LEG_19_5', 'LEG_19_42', 'LEG_20_4', 'LEG_20_15', 'LEG_20_18', 'LEG_20_21', 'LEG_20_20', 'LEG_20_23']\n",
      "['LEG_17_40', 'LEG_17_41', 'LEG_18_54', 'LEG_18_55', 'LEG_18_40', 'LEG_18_41', 'LEG_19_46', 'LEG_19_49', 'LEG_19_40', 'LEG_20_45', 'LEG_20_3', 'LEG_20_5']\n",
      "['LEG_17_28', 'LEG_17_33', 'LEG_17_31', 'LEG_17_42', 'LEG_17_62']\n",
      "['LEG_17_63', 'LEG_17_8']\n",
      "['LEG_17_5', 'LEG_17_61']\n",
      "['LEG_17_46', 'LEG_17_43']\n",
      "['LEG_17_58', 'LEG_17_18']\n",
      "['LEG_01_5', 'LEG_01_9', 'LEG_01_10', 'LEG_02_1', 'LEG_02_21', 'LEG_02_28', 'LEG_03_21', 'LEG_03_26', 'LEG_03_24', 'LEG_03_36', 'LEG_04_37', 'LEG_04_16', 'LEG_04_25']\n",
      "['LEG_01_14', 'LEG_01_23', 'LEG_01_24', 'LEG_01_22', 'LEG_01_32', 'LEG_02_36']\n",
      "['LEG_13_13', 'LEG_14_35', 'LEG_14_34', 'LEG_14_17', 'LEG_14_7', 'LEG_14_11']\n",
      "['LEG_05_17', 'LEG_05_5', 'LEG_05_42', 'LEG_06_4', 'LEG_06_15', 'LEG_06_18', 'LEG_06_21', 'LEG_06_20', 'LEG_06_29', 'LEG_07_37', 'LEG_07_7', 'LEG_07_11']\n",
      "['LEG_31_10', 'LEG_31_25']\n",
      "['LEG_31_24', 'LEG_31_26']\n",
      "['LEG_19_20', 'LEG_19_27', 'LEG_19_30', 'LEG_19_1', 'LEG_20_36', 'LEG_20_1', 'LEG_20_47', 'LEG_20_52', 'LEG_21_38', 'LEG_21_39', 'LEG_21_21', 'LEG_21_0', 'LEG_21_14']\n",
      "['LEG_24_42', 'LEG_24_62', 'LEG_25_54', 'LEG_25_57', 'LEG_25_3', 'LEG_26_5', 'LEG_26_41', 'LEG_26_43', 'LEG_26_49', 'LEG_27_48', 'LEG_27_23', 'LEG_27_36']\n",
      "['LEG_24_28', 'LEG_24_33', 'LEG_24_31', 'LEG_24_3', 'LEG_25_2', 'LEG_25_53', 'LEG_25_55', 'LEG_25_32', 'LEG_26_32', 'LEG_26_33', 'LEG_26_31']\n",
      "['LEG_24_38', 'LEG_24_39', 'LEG_24_56', 'LEG_25_51', 'LEG_25_44', 'LEG_25_49']\n",
      "['LEG_24_46', 'LEG_24_43']\n",
      "['LEG_24_5', 'LEG_24_61']\n",
      "['LEG_01_26', 'LEG_01_31', 'LEG_01_29', 'LEG_01_30', 'LEG_02_47', 'LEG_02_49', 'LEG_02_46', 'LEG_02_15', 'LEG_04_27', 'LEG_04_44', 'LEG_04_49']\n",
      "['LEG_01_55', 'LEG_01_16', 'LEG_01_19', 'LEG_01_0', 'LEG_01_12', 'LEG_02_13', 'LEG_03_35', 'LEG_03_34', 'LEG_03_17', 'LEG_03_7', 'LEG_03_11', 'LEG_03_13', 'LEG_04_35', 'LEG_04_31', 'LEG_04_42', 'LEG_04_62']\n",
      "['LEG_01_34', 'LEG_01_35', 'LEG_01_53', 'LEG_02_50', 'LEG_02_43', 'LEG_02_48', 'LEG_02_55', 'LEG_03_51', 'LEG_03_44', 'LEG_03_49']\n",
      "['LEG_01_50', 'LEG_01_57', 'LEG_01_53', 'LEG_01_54', 'LEG_01_2', 'LEG_02_2', 'LEG_02_52', 'LEG_02_54', 'LEG_02_31', 'LEG_03_48', 'LEG_03_4', 'LEG_03_6']\n",
      "['LEG_01_48', 'LEG_01_45', 'LEG_01_13', 'LEG_03_27', 'LEG_03_52', 'LEG_03_60']\n",
      "['LEG_01_36', 'LEG_01_6', 'LEG_01_41', 'LEG_01_59', 'LEG_02_53', 'LEG_02_54', 'LEG_02_4', 'LEG_02_6']\n",
      "['LEG_01_43', 'LEG_01_47', 'LEG_01_39', 'LEG_01_40']\n",
      "['LEG_01_7', 'LEG_01_8', 'LEG_01_56', 'LEG_01_44']\n",
      "['LEG_01_37', 'LEG_01_38', 'LEG_01_17', 'LEG_01_18']\n",
      "['LEG_01_51', 'LEG_01_52', 'LEG_01_3', 'LEG_01_4']\n",
      "['LEG_01_20', 'LEG_01_21', 'LEG_01_28', 'LEG_01_27']\n",
      "['LEG_18_22', 'LEG_18_23', 'LEG_18_30', 'LEG_18_36', 'LEG_19_25', 'LEG_19_28', 'LEG_19_41', 'LEG_19_26', 'LEG_20_35']\n",
      "['LEG_18_63', 'LEG_18_8']\n",
      "['LEG_18_5', 'LEG_18_61']\n",
      "['LEG_18_46', 'LEG_18_43']\n",
      "['LEG_18_58', 'LEG_18_18']\n",
      "['LEG_18_9', 'LEG_18_10', 'LEG_18_59', 'LEG_18_45']\n",
      "['LEG_15_49', 'LEG_15_46', 'LEG_15_15', 'LEG_17_27', 'LEG_17_52', 'LEG_17_60', 'LEG_17_56', 'LEG_18_51', 'LEG_18_44', 'LEG_18_49']\n",
      "['LEG_15_57', 'LEG_15_18', 'LEG_15_52', 'LEG_16_51', 'LEG_16_44', 'LEG_16_49', 'LEG_16_56', 'LEG_17_51', 'LEG_17_44', 'LEG_17_49']\n",
      "['LEG_15_37', 'LEG_15_38', 'LEG_15_22', 'LEG_15_23', 'LEG_15_29', 'LEG_16_16', 'LEG_16_25', 'LEG_16_26', 'LEG_16_24', 'LEG_16_29']\n",
      "['LEG_15_9', 'LEG_15_10', 'LEG_15_58', 'LEG_15_44']\n",
      "['LEG_15_62', 'LEG_15_8']\n",
      "['LEG_15_5', 'LEG_15_60']\n",
      "['LEG_15_45', 'LEG_15_42']\n",
      "['LEG_27_30', 'LEG_27_31', 'LEG_27_3', 'LEG_27_4', 'LEG_28_40', 'LEG_28_48', 'LEG_28_28', 'LEG_28_47', 'LEG_28_46', 'LEG_29_44', 'LEG_29_45', 'LEG_30_36', 'LEG_30_51', 'LEG_30_42']\n",
      "['LEG_27_6', 'LEG_28_10', 'LEG_28_25', 'LEG_29_10', 'LEG_29_25', 'LEG_30_38', 'LEG_30_32']\n",
      "['LEG_27_8', 'LEG_27_19', 'LEG_28_23', 'LEG_28_24', 'LEG_28_26', 'LEG_28_6', 'LEG_29_3', 'LEG_29_51', 'LEG_29_42']\n",
      "['LEG_27_45', 'LEG_27_25', 'LEG_27_28', 'LEG_27_13', 'LEG_28_53', 'LEG_28_50', 'LEG_28_37', 'LEG_28_39', 'LEG_28_43', 'LEG_28_41']\n",
      "['LEG_03_3', 'LEG_04_2', 'LEG_04_19', 'LEG_04_20', 'LEG_04_32', 'LEG_05_35', 'LEG_05_48', 'LEG_06_46', 'LEG_06_37', 'LEG_06_41']\n",
      "['LEG_03_38', 'LEG_03_39', 'LEG_03_56', 'LEG_04_51', 'LEG_04_28', 'LEG_04_33', 'LEG_05_19', 'LEG_05_25', 'LEG_05_22', 'LEG_05_23']\n",
      "['LEG_03_58', 'LEG_03_18', 'LEG_03_50', 'LEG_03_47']\n",
      "['LEG_03_22', 'LEG_03_23', 'LEG_03_30', 'LEG_03_29']\n",
      "['LEG_03_28', 'LEG_03_33', 'LEG_03_31', 'LEG_03_42', 'LEG_03_62']\n",
      "['LEG_03_9', 'LEG_03_10', 'LEG_03_59', 'LEG_03_45']\n",
      "['LEG_03_63', 'LEG_03_8']\n",
      "['LEG_03_46', 'LEG_03_43']\n",
      "['LEG_03_5', 'LEG_03_61']\n",
      "['LEG_12_20', 'LEG_12_28', 'LEG_12_34', 'LEG_12_1', 'LEG_13_36', 'LEG_13_1', 'LEG_13_47', 'LEG_14_51', 'LEG_14_28', 'LEG_14_33']\n",
      "['LEG_16_3', 'LEG_17_2', 'LEG_17_19', 'LEG_17_20', 'LEG_17_32', 'LEG_18_48', 'LEG_18_50', 'LEG_18_47', 'LEG_18_15', 'LEG_19_14', 'LEG_19_23', 'LEG_19_9']\n",
      "['LEG_16_42', 'LEG_16_62', 'LEG_17_54', 'LEG_17_57', 'LEG_17_3', 'LEG_18_2', 'LEG_18_32', 'LEG_19_35', 'LEG_19_36', 'LEG_19_34']\n",
      "['LEG_16_22', 'LEG_16_23', 'LEG_16_30', 'LEG_16_36', 'LEG_17_37', 'LEG_17_16', 'LEG_17_25', 'LEG_17_23', 'LEG_17_30', 'LEG_18_7', 'LEG_18_11', 'LEG_18_12', 'LEG_19_4']\n",
      "['LEG_16_28', 'LEG_16_33', 'LEG_16_31', 'LEG_16_32', 'LEG_17_48', 'LEG_17_50', 'LEG_17_47', 'LEG_17_15', 'LEG_19_14', 'LEG_19_38', 'LEG_19_39']\n",
      "['LEG_16_50', 'LEG_16_47', 'LEG_16_15', 'LEG_18_27', 'LEG_18_52', 'LEG_18_60', 'LEG_18_56', 'LEG_19_44', 'LEG_19_45', 'LEG_19_47']\n",
      "['LEG_16_58', 'LEG_16_18']\n",
      "['LEG_16_46', 'LEG_16_43']\n",
      "['LEG_16_63', 'LEG_16_8']\n",
      "['LEG_16_5', 'LEG_16_61']\n",
      "['LEG_21_29', 'LEG_22_20', 'LEG_22_25', 'LEG_22_23', 'LEG_22_27', 'LEG_23_21', 'LEG_23_26', 'LEG_23_24', 'LEG_23_36', 'LEG_24_37']\n",
      "['LEG_21_16', 'LEG_21_25', 'LEG_21_26', 'LEG_21_24', 'LEG_21_36', 'LEG_22_35', 'LEG_22_16', 'LEG_22_24']\n",
      "['LEG_23_13', 'LEG_24_35', 'LEG_24_34', 'LEG_24_17', 'LEG_24_7', 'LEG_24_11']\n",
      "['LEG_08_27', 'LEG_08_32', 'LEG_08_30', 'LEG_08_31', 'LEG_09_48', 'LEG_09_50', 'LEG_09_47', 'LEG_09_15', 'LEG_11_27', 'LEG_11_9', 'LEG_11_10']\n",
      "['LEG_08_51', 'LEG_08_59', 'LEG_08_55', 'LEG_08_56', 'LEG_08_3', 'LEG_09_2', 'LEG_09_22', 'LEG_10_16', 'LEG_10_25', 'LEG_10_26', 'LEG_10_24', 'LEG_10_29']\n",
      "['LEG_08_57', 'LEG_08_18', 'LEG_08_52', 'LEG_09_51', 'LEG_09_44', 'LEG_09_49', 'LEG_09_56', 'LEG_10_51', 'LEG_10_28', 'LEG_10_33', 'LEG_10_31']\n",
      "['LEG_08_49', 'LEG_08_46', 'LEG_08_15', 'LEG_10_27']\n",
      "['LEG_08_37', 'LEG_08_38', 'LEG_08_22', 'LEG_08_23', 'LEG_08_29', 'LEG_09_16', 'LEG_09_25', 'LEG_09_23', 'LEG_09_30', 'LEG_09_29']\n",
      "['LEG_08_9', 'LEG_08_10', 'LEG_08_41', 'LEG_08_61']\n",
      "['LEG_08_5', 'LEG_08_60']\n",
      "['LEG_08_45', 'LEG_08_42']\n",
      "['LEG_08_62', 'LEG_08_8']\n",
      "['LEG_07_13', 'LEG_08_34', 'LEG_08_33', 'LEG_08_17', 'LEG_08_7', 'LEG_08_11']\n",
      "['LEG_14_40', 'LEG_14_41', 'LEG_15_53', 'LEG_15_54', 'LEG_15_39', 'LEG_15_40', 'LEG_16_54', 'LEG_16_55', 'LEG_16_4', 'LEG_16_6']\n",
      "['LEG_14_52', 'LEG_14_60', 'LEG_14_56', 'LEG_14_57', 'LEG_14_3', 'LEG_15_2', 'LEG_15_19', 'LEG_15_20', 'LEG_15_31', 'LEG_16_48', 'LEG_16_40', 'LEG_16_41']\n",
      "['LEG_14_58', 'LEG_14_18', 'LEG_14_53', 'LEG_15_50', 'LEG_15_43', 'LEG_15_48']\n",
      "['LEG_14_9', 'LEG_14_10', 'LEG_14_59', 'LEG_14_45']\n",
      "['LEG_14_5', 'LEG_14_61']\n",
      "['LEG_14_46', 'LEG_14_43']\n",
      "['LEG_14_63', 'LEG_14_8']\n",
      "['LEG_21_12', 'LEG_22_1', 'LEG_22_26', 'LEG_22_31', 'LEG_22_29', 'LEG_22_40', 'LEG_22_60', 'LEG_23_28', 'LEG_23_33', 'LEG_23_31', 'LEG_23_42', 'LEG_23_62', 'LEG_24_58', 'LEG_24_18', 'LEG_24_21', 'LEG_24_0', 'LEG_24_14']\n",
      "['LEG_21_13', 'LEG_22_33', 'LEG_22_32', 'LEG_23_17', 'LEG_23_7', 'LEG_23_11']\n",
      "['LEG_13_54', 'LEG_13_44', 'LEG_13_19', 'LEG_13_24', 'LEG_13_29', 'LEG_14_37', 'LEG_14_16', 'LEG_14_25', 'LEG_14_26', 'LEG_14_24', 'LEG_15_0', 'LEG_15_14', 'LEG_15_12', 'LEG_16_1']\n",
      "['LEG_13_42', 'LEG_13_40', 'LEG_13_16', 'LEG_16_27', 'LEG_16_52', 'LEG_16_60']\n",
      "['LEG_13_22', 'LEG_13_27', 'LEG_13_25', 'LEG_13_26', 'LEG_14_48', 'LEG_14_50', 'LEG_14_47', 'LEG_14_15', 'LEG_16_27', 'LEG_16_9', 'LEG_16_10']\n",
      "['LEG_13_9', 'LEG_13_10', 'LEG_13_8', 'LEG_13_31']\n",
      "['LEG_13_34', 'LEG_13_28']\n",
      "['LEG_13_39', 'LEG_13_43', 'LEG_13_53', 'LEG_13_38']\n",
      "['LEG_22_0', 'LEG_22_14', 'LEG_22_13', 'LEG_23_35', 'LEG_23_34', 'LEG_23_17']\n",
      "['LEG_20_22', 'LEG_20_27', 'LEG_20_25', 'LEG_20_26', 'LEG_21_48', 'LEG_21_50', 'LEG_21_47', 'LEG_21_15', 'LEG_23_27', 'LEG_23_9', 'LEG_23_10']\n",
      "['LEG_20_16', 'LEG_23_27', 'LEG_23_44', 'LEG_23_49']\n",
      "['LEG_20_48', 'LEG_20_49', 'LEG_20_32', 'LEG_20_33', 'LEG_21_54', 'LEG_21_55', 'LEG_21_42', 'LEG_21_62']\n",
      "['LEG_20_39', 'LEG_20_43', 'LEG_20_53', 'LEG_20_38']\n",
      "['LEG_20_9', 'LEG_20_10', 'LEG_20_8', 'LEG_20_31']\n",
      "['LEG_20_34', 'LEG_20_28']\n",
      "['LEG_30_33', 'LEG_30_35', 'LEG_30_34', 'LEG_30_15', 'LEG_31_53', 'LEG_31_50', 'LEG_31_37', 'LEG_31_39', 'LEG_31_43', 'LEG_31_41']\n",
      "['LEG_30_4', 'LEG_30_5', 'LEG_31_40', 'LEG_31_48', 'LEG_31_28', 'LEG_31_47']\n",
      "['LEG_10_52', 'LEG_10_60', 'LEG_10_56', 'LEG_10_57', 'LEG_10_3', 'LEG_11_2', 'LEG_11_53', 'LEG_11_55', 'LEG_11_32', 'LEG_12_38', 'LEG_12_51', 'LEG_13_46', 'LEG_13_37', 'LEG_13_41']\n",
      "['LEG_10_58', 'LEG_10_18', 'LEG_10_53', 'LEG_11_51', 'LEG_11_52', 'LEG_11_60', 'LEG_11_56', 'LEG_12_47', 'LEG_12_12', 'LEG_12_13']\n",
      "['LEG_10_46', 'LEG_10_43']\n",
      "['LEG_10_63', 'LEG_10_8']\n",
      "['LEG_10_5', 'LEG_10_61']\n",
      "['LEG_10_9', 'LEG_10_10', 'LEG_10_59', 'LEG_10_45']\n",
      "['LEG_10_42', 'LEG_10_62']\n",
      "['LEG_05_43', 'LEG_05_2', 'LEG_05_8', 'LEG_06_51']\n",
      "['LEG_11_16', 'LEG_11_25', 'LEG_11_23', 'LEG_11_30', 'LEG_11_29', 'LEG_12_36', 'LEG_12_40', 'LEG_12_10', 'LEG_13_30', 'LEG_13_3', 'LEG_13_5', 'LEG_14_38', 'LEG_14_39', 'LEG_14_21']\n",
      "['LEG_19_43', 'LEG_19_2', 'LEG_19_8', 'LEG_20_51']\n",
      "['LEG_02_0', 'LEG_02_14', 'LEG_02_12', 'LEG_03_1', 'LEG_03_53', 'LEG_03_57', 'LEG_03_15', 'LEG_05_13', 'LEG_05_15']\n",
      "['LEG_02_16', 'LEG_02_25', 'LEG_02_26', 'LEG_02_24', 'LEG_02_35', 'LEG_03_37', 'LEG_03_16', 'LEG_03_25']\n",
      "['LEG_28_13', 'LEG_29_29', 'LEG_29_11', 'LEG_29_54', 'LEG_29_8', 'LEG_29_22', 'LEG_30_23', 'LEG_30_6', 'LEG_31_3', 'LEG_31_7', 'LEG_31_0', 'LEG_31_14']\n",
      "['LEG_28_30', 'LEG_28_20']\n",
      "['LEG_07_22', 'LEG_07_23', 'LEG_07_30', 'LEG_07_36', 'LEG_08_36', 'LEG_08_16', 'LEG_08_25', 'LEG_08_26', 'LEG_08_24', 'LEG_09_0', 'LEG_09_14', 'LEG_09_12', 'LEG_10_1']\n",
      "['LEG_07_46', 'LEG_07_43']\n",
      "['LEG_07_63', 'LEG_07_8']\n",
      "['LEG_07_5', 'LEG_07_61']\n",
      "['LEG_07_44', 'LEG_07_49', 'LEG_07_4', 'LEG_07_6']\n",
      "['LEG_07_28', 'LEG_07_33', 'LEG_07_31', 'LEG_07_42', 'LEG_07_62']\n",
      "['LEG_07_9', 'LEG_07_10', 'LEG_07_59', 'LEG_07_45']\n",
      "['LEG_07_58', 'LEG_07_18']\n",
      "['LEG_16_12', 'LEG_17_1', 'LEG_17_53', 'LEG_17_55', 'LEG_17_4', 'LEG_17_6', 'LEG_18_28', 'LEG_18_33', 'LEG_18_31', 'LEG_18_42', 'LEG_18_62', 'LEG_19_17', 'LEG_19_19']\n",
      "['LEG_16_13', 'LEG_17_35', 'LEG_17_34', 'LEG_17_17', 'LEG_17_7', 'LEG_17_11']\n",
      "['LEG_19_12', 'LEG_19_13', 'LEG_19_10', 'LEG_20_30', 'LEG_20_42', 'LEG_20_40', 'LEG_20_2', 'LEG_21_2', 'LEG_21_53', 'LEG_22_49', 'LEG_22_42', 'LEG_22_47']\n",
      "['LEG_19_22', 'LEG_19_24', 'LEG_19_48', 'LEG_20_46', 'LEG_20_37', 'LEG_20_41', 'LEG_20_50', 'LEG_21_51', 'LEG_21_44', 'LEG_21_49']\n",
      "['LEG_19_52', 'LEG_19_11']\n",
      "['LEG_19_7', 'LEG_19_51']\n",
      "['LEG_19_32', 'LEG_19_29']\n",
      "['LEG_28_55', 'LEG_28_27', 'LEG_28_17', 'LEG_29_36', 'LEG_29_7', 'LEG_30_10', 'LEG_30_25', 'LEG_31_38', 'LEG_31_32']\n",
      "['LEG_28_51', 'LEG_28_42', 'LEG_28_4', 'LEG_28_5']\n",
      "['LEG_28_45', 'LEG_28_58', 'LEG_28_18', 'LEG_29_16', 'LEG_29_49', 'LEG_29_19', 'LEG_29_57', 'LEG_30_56', 'LEG_30_28', 'LEG_30_47', 'LEG_30_18', 'LEG_31_16', 'LEG_31_17', 'LEG_31_58']\n",
      "['LEG_21_40', 'LEG_21_41', 'LEG_22_52', 'LEG_22_53', 'LEG_22_57', 'LEG_22_43', 'LEG_23_54', 'LEG_23_55', 'LEG_23_4', 'LEG_23_6', 'LEG_24_63', 'LEG_24_60', 'LEG_24_59', 'LEG_24_45']\n",
      "['LEG_21_28', 'LEG_21_33', 'LEG_21_31', 'LEG_21_32', 'LEG_22_46', 'LEG_22_48', 'LEG_22_45', 'LEG_22_15', 'LEG_24_27', 'LEG_24_9', 'LEG_24_10']\n",
      "['LEG_21_52', 'LEG_21_60', 'LEG_21_56', 'LEG_21_57', 'LEG_21_3', 'LEG_22_2', 'LEG_22_18', 'LEG_22_19', 'LEG_22_30', 'LEG_23_48', 'LEG_23_59', 'LEG_23_45']\n",
      "['LEG_21_58', 'LEG_21_18', 'LEG_21_22', 'LEG_21_23', 'LEG_21_30', 'LEG_22_7', 'LEG_22_11', 'LEG_22_12', 'LEG_23_1']\n",
      "['LEG_21_63', 'LEG_21_8']\n",
      "['LEG_21_46', 'LEG_21_43']\n",
      "['LEG_21_5', 'LEG_21_61']\n",
      "['LEG_21_9', 'LEG_21_10', 'LEG_21_59', 'LEG_21_45']\n",
      "['LEG_06_9', 'LEG_06_10', 'LEG_06_16', 'LEG_09_27', 'LEG_09_9', 'LEG_09_10']\n",
      "['LEG_06_22', 'LEG_06_27', 'LEG_06_25', 'LEG_06_26', 'LEG_07_48', 'LEG_07_50', 'LEG_07_47', 'LEG_07_15', 'LEG_09_27', 'LEG_09_52', 'LEG_09_60']\n",
      "['LEG_06_32', 'LEG_06_33', 'LEG_07_54', 'LEG_07_55', 'LEG_07_40', 'LEG_07_41', 'LEG_08_53', 'LEG_08_54', 'LEG_08_39', 'LEG_08_40', 'LEG_09_54', 'LEG_09_55', 'LEG_09_4', 'LEG_09_6']\n",
      "['LEG_06_54', 'LEG_06_44', 'LEG_06_23']\n",
      "['LEG_06_34', 'LEG_06_28']\n",
      "['LEG_06_39', 'LEG_06_43', 'LEG_06_53', 'LEG_06_38']\n",
      "['LEG_27_20', 'LEG_27_22', 'LEG_27_5', 'LEG_28_3', 'LEG_28_49', 'LEG_28_19', 'LEG_28_57', 'LEG_29_56', 'LEG_29_4', 'LEG_29_5', 'LEG_30_55', 'LEG_30_27', 'LEG_30_17', 'LEG_30_26']\n",
      "['LEG_27_26', 'LEG_28_12', 'LEG_28_21', 'LEG_28_52', 'LEG_28_31', 'LEG_29_12', 'LEG_29_21', 'LEG_29_52', 'LEG_29_1', 'LEG_29_2']\n",
      "['LEG_17_12', 'LEG_18_1', 'LEG_18_19', 'LEG_18_20', 'LEG_18_4', 'LEG_18_6', 'LEG_19_3', 'LEG_19_0', 'LEG_19_15', 'LEG_20_7', 'LEG_20_17', 'LEG_20_0', 'LEG_20_14']\n",
      "['LEG_23_0', 'LEG_23_14', 'LEG_23_12', 'LEG_24_1', 'LEG_24_53', 'LEG_24_57', 'LEG_24_15', 'LEG_26_10', 'LEG_26_13']\n",
      "['LEG_23_29', 'LEG_24_22', 'LEG_24_23', 'LEG_24_30', 'LEG_24_36', 'LEG_25_37', 'LEG_25_16', 'LEG_25_25']\n",
      "['LEG_15_28', 'LEG_16_19', 'LEG_16_20', 'LEG_16_59', 'LEG_16_45', 'LEG_17_9', 'LEG_17_10', 'LEG_17_59', 'LEG_17_45', 'LEG_18_38', 'LEG_18_39', 'LEG_18_21']\n",
      "['LEG_23_40', 'LEG_23_41', 'LEG_24_54', 'LEG_24_55', 'LEG_24_4', 'LEG_24_6', 'LEG_25_63', 'LEG_25_60', 'LEG_25_50', 'LEG_25_47', 'LEG_25_15', 'LEG_26_10', 'LEG_26_35', 'LEG_26_36']\n",
      "['LEG_23_58', 'LEG_23_18', 'LEG_23_53', 'LEG_24_51', 'LEG_24_52', 'LEG_25_8', 'LEG_25_52', 'LEG_25_60', 'LEG_25_56', 'LEG_26_40', 'LEG_26_30', 'LEG_26_34']\n",
      "['LEG_23_50', 'LEG_23_47', 'LEG_23_15', 'LEG_25_27', 'LEG_25_9', 'LEG_25_10']\n",
      "['LEG_23_63', 'LEG_23_8']\n",
      "['LEG_23_46', 'LEG_23_43']\n",
      "['LEG_23_5', 'LEG_23_61']\n",
      "['LEG_18_16', 'LEG_18_25', 'LEG_18_26', 'LEG_18_24', 'LEG_18_29', 'LEG_19_33', 'LEG_19_37', 'LEG_19_50', 'LEG_19_31', 'LEG_20_54', 'LEG_20_44', 'LEG_20_19', 'LEG_20_24', 'LEG_20_29', 'LEG_21_37']\n",
      "['LEG_02_51', 'LEG_02_59', 'LEG_02_55', 'LEG_02_56', 'LEG_02_3', 'LEG_03_2', 'LEG_03_19', 'LEG_03_20', 'LEG_03_32', 'LEG_04_48', 'LEG_04_50', 'LEG_04_47', 'LEG_04_15', 'LEG_05_13', 'LEG_05_38', 'LEG_05_39']\n",
      "['LEG_02_57', 'LEG_02_18', 'LEG_02_22', 'LEG_02_23', 'LEG_02_29', 'LEG_03_0', 'LEG_03_14', 'LEG_03_12', 'LEG_04_1']\n",
      "['LEG_02_39', 'LEG_02_40', 'LEG_03_54', 'LEG_03_55', 'LEG_03_40', 'LEG_03_41', 'LEG_04_54', 'LEG_04_55', 'LEG_04_4', 'LEG_04_6']\n",
      "['LEG_02_9', 'LEG_02_10', 'LEG_02_58', 'LEG_02_44']\n",
      "['LEG_02_5', 'LEG_02_60']\n",
      "['LEG_02_27', 'LEG_02_32', 'LEG_02_30', 'LEG_02_41', 'LEG_02_61']\n",
      "['LEG_02_62', 'LEG_02_8']\n",
      "['LEG_02_37', 'LEG_02_38', 'LEG_02_19', 'LEG_02_20']\n",
      "['LEG_02_45', 'LEG_02_42']\n",
      "['LEG_22_4', 'LEG_22_6', 'LEG_23_63', 'LEG_23_60', 'LEG_23_56', 'LEG_23_57', 'LEG_23_3', 'LEG_24_2', 'LEG_24_19', 'LEG_24_20', 'LEG_24_32', 'LEG_25_48', 'LEG_25_4', 'LEG_25_6']\n",
      "['LEG_22_56', 'LEG_22_17', 'LEG_22_51', 'LEG_23_51', 'LEG_23_52', 'LEG_24_8', 'LEG_24_44', 'LEG_24_49', 'LEG_24_50', 'LEG_24_47']\n",
      "['LEG_22_21', 'LEG_22_22', 'LEG_22_28', 'LEG_22_34', 'LEG_23_37', 'LEG_23_16', 'LEG_23_25', 'LEG_23_23', 'LEG_23_30', 'LEG_24_16', 'LEG_24_25', 'LEG_24_26', 'LEG_24_24', 'LEG_24_29']\n",
      "['LEG_22_50', 'LEG_22_58', 'LEG_22_54', 'LEG_22_55', 'LEG_22_3', 'LEG_23_2', 'LEG_23_19', 'LEG_23_20', 'LEG_23_32', 'LEG_24_48', 'LEG_24_40', 'LEG_24_41']\n",
      "['LEG_22_5', 'LEG_22_59']\n",
      "['LEG_22_44', 'LEG_22_41']\n",
      "['LEG_22_61', 'LEG_22_8']\n",
      "['LEG_22_36', 'LEG_22_37']\n",
      "['LEG_26_23', 'LEG_26_38', 'LEG_26_37', 'LEG_27_9', 'LEG_27_18', 'LEG_27_40', 'LEG_27_41', 'LEG_27_42']\n",
      "['LEG_29_0', 'LEG_29_14', 'LEG_29_13', 'LEG_30_29', 'LEG_30_11', 'LEG_30_54', 'LEG_30_8', 'LEG_30_22', 'LEG_31_23']\n",
      "['LEG_29_38', 'LEG_29_32', 'LEG_30_40', 'LEG_30_48', 'LEG_30_49', 'LEG_30_19', 'LEG_30_57', 'LEG_31_56', 'LEG_31_9', 'LEG_31_1', 'LEG_31_2']\n",
      "['LEG_25_0', 'LEG_25_14', 'LEG_25_13', 'LEG_26_18', 'LEG_26_17', 'LEG_26_22', 'LEG_26_44', 'LEG_26_45', 'LEG_27_2', 'LEG_27_1', 'LEG_27_14', 'LEG_27_50', 'LEG_27_15', 'LEG_28_16', 'LEG_28_9', 'LEG_28_1', 'LEG_28_2']\n",
      "['LEG_25_36', 'LEG_26_19']\n",
      "['LEG_05_11', 'LEG_05_12', 'LEG_05_9', 'LEG_06_30', 'LEG_06_50', 'LEG_06_52', 'LEG_06_2', 'LEG_07_2', 'LEG_07_19', 'LEG_07_20', 'LEG_07_32', 'LEG_08_47', 'LEG_08_58', 'LEG_08_44']\n",
      "['LEG_05_3', 'LEG_05_0', 'LEG_05_14', 'LEG_06_7', 'LEG_06_47', 'LEG_07_51', 'LEG_07_52', 'LEG_07_60', 'LEG_07_56', 'LEG_08_50', 'LEG_08_43', 'LEG_08_48']\n",
      "['LEG_05_36', 'LEG_05_34', 'LEG_05_40', 'LEG_06_45', 'LEG_06_3', 'LEG_06_5']\n",
      "['LEG_05_7', 'LEG_05_51']\n",
      "['LEG_05_52', 'LEG_05_10']\n",
      "['LEG_05_32', 'LEG_05_28']\n",
      "['LEG_05_16', 'LEG_05_18', 'LEG_05_17']\n",
      "['LEG_04_34', 'LEG_04_17', 'LEG_04_7', 'LEG_04_11', 'LEG_04_13', 'LEG_05_20']\n",
      "['LEG_26_14', 'LEG_26_16', 'LEG_26_15', 'LEG_26_47', 'LEG_27_37', 'LEG_27_38', 'LEG_27_16', 'LEG_27_49', 'LEG_28_56', 'LEG_28_34', 'LEG_28_15', 'LEG_29_53', 'LEG_29_50', 'LEG_29_37', 'LEG_29_39', 'LEG_29_43', 'LEG_29_41']\n",
      "['LEG_26_8', 'LEG_26_9', 'LEG_26_46', 'LEG_26_28']\n",
      "['LEG_26_6', 'LEG_26_48']\n",
      "['LEG_26_50', 'LEG_26_7']\n",
      "['LEG_26_29', 'LEG_26_25']\n",
      "['LEG_13_0', 'LEG_13_14', 'LEG_13_12', 'LEG_14_1', 'LEG_14_22', 'LEG_14_23', 'LEG_14_30', 'LEG_14_36', 'LEG_15_36', 'LEG_15_16', 'LEG_15_25']\n",
      "['LEG_25_40', 'LEG_25_41', 'LEG_26_42', 'LEG_26_43', 'LEG_26_20', 'LEG_26_21', 'LEG_27_17', 'LEG_27_10', 'LEG_27_27', 'LEG_27_29', 'LEG_27_35', 'LEG_28_44', 'LEG_28_33', 'LEG_28_35']\n",
      "['LEG_25_58', 'LEG_25_18', 'LEG_25_21', 'LEG_25_23', 'LEG_25_30', 'LEG_26_39', 'LEG_26_2', 'LEG_27_24', 'LEG_27_44', 'LEG_27_39', 'LEG_27_33', 'LEG_27_34', 'LEG_27_32']\n",
      "['LEG_25_38', 'LEG_25_39']\n",
      "['LEG_25_46', 'LEG_25_43']\n",
      "['LEG_25_5', 'LEG_25_61']\n",
      "['LEG_25_28', 'LEG_25_33', 'LEG_25_31', 'LEG_25_42', 'LEG_25_62']\n",
      "['LEG_25_19', 'LEG_25_20', 'LEG_25_59', 'LEG_25_45']\n",
      "['LEG_14_31', 'LEG_14_42', 'LEG_14_62', 'LEG_15_27', 'LEG_15_32', 'LEG_15_30', 'LEG_15_41', 'LEG_15_61', 'LEG_16_38', 'LEG_16_39', 'LEG_16_21', 'LEG_16_0', 'LEG_16_14']\n",
      "['LEG_14_13', 'LEG_15_34', 'LEG_15_33', 'LEG_15_17', 'LEG_15_7', 'LEG_15_11']\n",
      "['LEG_28_38', 'LEG_28_32', 'LEG_29_40', 'LEG_29_48', 'LEG_29_28', 'LEG_29_47', 'LEG_29_18', 'LEG_30_16', 'LEG_30_9', 'LEG_30_1', 'LEG_30_2']\n",
      "['LEG_14_0', 'LEG_14_14', 'LEG_14_12', 'LEG_15_1', 'LEG_15_51', 'LEG_15_59', 'LEG_15_55', 'LEG_15_56', 'LEG_15_3', 'LEG_16_2', 'LEG_16_53', 'LEG_16_57', 'LEG_17_38', 'LEG_17_39', 'LEG_17_21']\n",
      "['LEG_14_29', 'LEG_15_21', 'LEG_15_26', 'LEG_15_24', 'LEG_15_35', 'LEG_16_37']\n",
      "['LEG_10_13', 'LEG_11_35', 'LEG_11_34', 'LEG_11_17', 'LEG_11_7', 'LEG_11_11', 'LEG_11_13', 'LEG_12_21']\n",
      "['LEG_15_13', 'LEG_16_35', 'LEG_16_34', 'LEG_16_17', 'LEG_16_7', 'LEG_16_11']\n",
      "['LEG_30_24', 'LEG_30_58', 'LEG_30_46', 'LEG_31_44', 'LEG_31_45', 'LEG_31_54', 'LEG_31_8']\n",
      "['LEG_30_31', 'LEG_31_12', 'LEG_31_21', 'LEG_31_52']\n",
      "['LEG_06_0', 'LEG_06_14', 'LEG_06_12', 'LEG_07_1', 'LEG_07_53', 'LEG_07_57', 'LEG_07_3', 'LEG_08_2', 'LEG_08_21']\n",
      "['LEG_06_6', 'LEG_06_11', 'LEG_06_13', 'LEG_07_35', 'LEG_07_34', 'LEG_07_17']\n",
      "['LEG_01_11', 'LEG_02_34', 'LEG_02_33', 'LEG_02_17', 'LEG_02_7', 'LEG_02_11']\n",
      "['LEG_08_28', 'LEG_09_19', 'LEG_09_20', 'LEG_09_59', 'LEG_09_45', 'LEG_10_22', 'LEG_10_23', 'LEG_10_30', 'LEG_10_36', 'LEG_11_37']\n",
      "['LEG_08_0', 'LEG_08_14', 'LEG_08_12', 'LEG_09_1', 'LEG_09_21', 'LEG_09_26', 'LEG_09_24', 'LEG_09_36', 'LEG_10_37']\n",
      "['LEG_08_35', 'LEG_09_37']\n",
      "['LEG_12_48', 'LEG_12_52', 'LEG_12_43', 'LEG_13_45', 'LEG_13_50', 'LEG_13_52', 'LEG_13_2', 'LEG_14_2', 'LEG_14_19', 'LEG_14_20', 'LEG_14_32', 'LEG_15_47', 'LEG_15_4', 'LEG_15_6']\n",
      "['LEG_12_25', 'LEG_12_31', 'LEG_12_39', 'LEG_12_37']\n",
      "['LEG_12_54', 'LEG_12_11']\n",
      "['LEG_12_35', 'LEG_12_33']\n",
      "['LEG_12_8', 'LEG_12_53']\n",
      "['LEG_31_30', 'LEG_31_20']\n",
      "['LEG_31_55', 'LEG_31_27', 'LEG_31_49', 'LEG_31_19']\n",
      "['LEG_31_33', 'LEG_31_35', 'LEG_31_4', 'LEG_31_5']\n",
      "['LEG_11_40', 'LEG_11_41', 'LEG_12_49', 'LEG_12_50', 'LEG_12_24', 'LEG_12_26', 'LEG_13_48', 'LEG_13_49', 'LEG_13_32', 'LEG_13_33', 'LEG_14_54', 'LEG_14_55', 'LEG_14_4', 'LEG_14_6']\n",
      "['LEG_11_15', 'LEG_14_27', 'LEG_14_44', 'LEG_14_49']\n",
      "['LEG_11_22', 'LEG_11_26', 'LEG_11_24', 'LEG_11_36', 'LEG_12_23', 'LEG_12_32', 'LEG_12_44', 'LEG_12_27', 'LEG_13_35']\n",
      "['LEG_11_58', 'LEG_11_18', 'LEG_11_21', 'LEG_11_0', 'LEG_11_14', 'LEG_12_18', 'LEG_12_6', 'LEG_12_45', 'LEG_13_4', 'LEG_13_15', 'LEG_13_18', 'LEG_13_21', 'LEG_13_20', 'LEG_13_23']\n",
      "['LEG_11_28', 'LEG_11_33', 'LEG_11_31', 'LEG_11_42', 'LEG_11_62']\n",
      "['LEG_11_5', 'LEG_11_61']\n",
      "['LEG_11_46', 'LEG_11_43']\n",
      "['LEG_11_63', 'LEG_11_8']\n",
      "['LEG_11_38', 'LEG_11_39']\n",
      "['LEG_20_13', 'LEG_21_35', 'LEG_21_34', 'LEG_21_17', 'LEG_21_7', 'LEG_21_11']\n",
      "['LEG_30_30', 'LEG_30_20']\n",
      "['LEG_20_6', 'LEG_20_11', 'LEG_20_12', 'LEG_21_1', 'LEG_21_19', 'LEG_21_20', 'LEG_21_4', 'LEG_21_6', 'LEG_22_9', 'LEG_22_10', 'LEG_22_38', 'LEG_22_39', 'LEG_23_38', 'LEG_23_39', 'LEG_23_22']\n",
      "['LEG_09_40', 'LEG_09_41', 'LEG_10_54', 'LEG_10_55', 'LEG_10_40', 'LEG_10_41', 'LEG_11_54', 'LEG_11_57', 'LEG_11_3', 'LEG_12_7', 'LEG_12_22', 'LEG_12_30', 'LEG_12_5', 'LEG_12_29']\n",
      "['LEG_09_28', 'LEG_09_33', 'LEG_09_31', 'LEG_09_32', 'LEG_10_48', 'LEG_10_50', 'LEG_10_47', 'LEG_10_15', 'LEG_12_14', 'LEG_12_41', 'LEG_12_42']\n",
      "['LEG_09_3', 'LEG_10_2', 'LEG_10_19', 'LEG_10_20', 'LEG_10_32', 'LEG_11_48', 'LEG_11_50', 'LEG_11_47']\n",
      "['LEG_09_5', 'LEG_09_61']\n",
      "['LEG_09_46', 'LEG_09_43']\n",
      "['LEG_09_63', 'LEG_09_8']\n",
      "['LEG_09_58', 'LEG_09_18']\n",
      "['LEG_24_12', 'LEG_25_1', 'LEG_25_22', 'LEG_25_26', 'LEG_25_24', 'LEG_25_29', 'LEG_26_24', 'LEG_26_27', 'LEG_26_26', 'LEG_26_1', 'LEG_26_11', 'LEG_27_21', 'LEG_27_0', 'LEG_27_12']\n",
      "['LEG_24_13', 'LEG_25_35', 'LEG_25_34', 'LEG_25_17', 'LEG_25_7', 'LEG_25_11']\n",
      "['LEG_27_11', 'LEG_28_29', 'LEG_28_11', 'LEG_28_54', 'LEG_28_8', 'LEG_28_22', 'LEG_29_23', 'LEG_29_24', 'LEG_29_26', 'LEG_29_6', 'LEG_30_3', 'LEG_30_7', 'LEG_30_0', 'LEG_30_14']\n",
      "['LEG_04_0', 'LEG_04_14', 'LEG_04_12', 'LEG_05_4', 'LEG_05_27', 'LEG_05_30', 'LEG_05_29', 'LEG_05_1', 'LEG_06_36', 'LEG_06_1', 'LEG_06_42', 'LEG_06_40', 'LEG_07_38', 'LEG_07_39', 'LEG_07_21']\n",
      "['LEG_08_13', 'LEG_09_35', 'LEG_09_34', 'LEG_09_17', 'LEG_09_7', 'LEG_09_11']\n",
      "['LEG_17_29', 'LEG_18_53', 'LEG_18_57', 'LEG_18_3', 'LEG_19_6', 'LEG_19_16']\n",
      "['LEG_17_0', 'LEG_17_14', 'LEG_17_13', 'LEG_18_35', 'LEG_18_34', 'LEG_18_17']\n",
      "['LEG_09_31', 'LEG_09_42', 'LEG_09_62', 'LEG_10_44', 'LEG_10_49', 'LEG_10_4', 'LEG_10_6', 'LEG_11_44', 'LEG_11_49', 'LEG_11_4', 'LEG_11_6', 'LEG_12_17', 'LEG_12_19']\n",
      "['LEG_09_13', 'LEG_10_35', 'LEG_10_34', 'LEG_10_17', 'LEG_10_7', 'LEG_10_11']\n",
      "['LEG_25_12', 'LEG_26_4', 'LEG_26_3', 'LEG_26_0', 'LEG_26_12', 'LEG_27_43', 'LEG_27_46', 'LEG_27_47', 'LEG_27_7', 'LEG_27_19', 'LEG_28_36', 'LEG_28_7', 'LEG_28_0', 'LEG_28_14']\n",
      "['LEG_04_21', 'LEG_04_26', 'LEG_04_24', 'LEG_04_36', 'LEG_05_21', 'LEG_05_26', 'LEG_05_41', 'LEG_05_24', 'LEG_06_35', 'LEG_06_17', 'LEG_06_19', 'LEG_06_24', 'LEG_07_16', 'LEG_07_25', 'LEG_07_26', 'LEG_07_24', 'LEG_07_29']\n",
      "['LEG_04_40', 'LEG_04_41', 'LEG_05_46', 'LEG_05_47', 'LEG_05_50', 'LEG_05_31', 'LEG_06_48', 'LEG_06_49', 'LEG_06_8', 'LEG_06_31']\n",
      "['LEG_04_52', 'LEG_04_60', 'LEG_04_56', 'LEG_04_57', 'LEG_04_3', 'LEG_05_6', 'LEG_05_45', 'LEG_05_49']\n",
      "['LEG_04_58', 'LEG_04_18', 'LEG_04_53', 'LEG_05_44', 'LEG_05_33', 'LEG_05_37']\n",
      "['LEG_04_46', 'LEG_04_43']\n",
      "['LEG_04_63', 'LEG_04_8']\n",
      "['LEG_04_5', 'LEG_04_61']\n",
      "['LEG_04_9', 'LEG_04_10', 'LEG_04_59', 'LEG_04_45']\n",
      "['LEG_04_22', 'LEG_04_23', 'LEG_04_30', 'LEG_04_29']\n",
      "['LEG_04_38', 'LEG_04_39']\n",
      "['LEG_07_0', 'LEG_07_14', 'LEG_07_12', 'LEG_08_1', 'LEG_08_19', 'LEG_08_20', 'LEG_08_4', 'LEG_08_6', 'LEG_09_38', 'LEG_09_39', 'LEG_09_53', 'LEG_09_57', 'LEG_10_38', 'LEG_10_39', 'LEG_10_21']\n",
      "['LEG_10_0', 'LEG_10_14', 'LEG_10_12', 'LEG_11_1', 'LEG_11_19', 'LEG_11_20', 'LEG_11_59', 'LEG_11_45', 'LEG_12_3', 'LEG_12_0', 'LEG_12_15', 'LEG_13_7', 'LEG_13_17']\n",
      "['LEG_29_30', 'LEG_29_20']\n",
      "['LEG_29_55', 'LEG_29_27', 'LEG_29_17', 'LEG_29_58', 'LEG_29_46', 'LEG_30_44', 'LEG_30_45', 'LEG_31_29', 'LEG_31_11', 'LEG_31_54']\n",
      "['LEG_29_33', 'LEG_29_35', 'LEG_29_34', 'LEG_29_15', 'LEG_30_53', 'LEG_30_50', 'LEG_30_37', 'LEG_30_39', 'LEG_30_43', 'LEG_30_41']\n",
      "['LEG_29_9', 'LEG_29_31', 'LEG_30_12', 'LEG_30_21', 'LEG_30_52', 'LEG_30_0', 'LEG_30_14', 'LEG_30_13', 'LEG_31_36', 'LEG_31_51', 'LEG_31_42', 'LEG_31_34', 'LEG_31_15']\n"
     ]
    }
   ],
   "source": [
    "genesisPair = []\n",
    "path = os.getcwd() + '\\instance'+ str(instanceNum) + '\\initialSolution.in'\n",
    "with open(path) as csv_file:\n",
    "    reader = csv.reader(csv_file, delimiter=',')\n",
    "    for row in reader:\n",
    "        # print(row)\n",
    "        # print('----------------------------')\n",
    "        if not row:\n",
    "            continue\n",
    "        elif len(row[0]) <= 15:\n",
    "            #  Do not do anything if the row is does not contain pairing information\n",
    "            continue\n",
    "        else:\n",
    "            P = PairingAlt()\n",
    "            main_index = row[0].find(': Base')  # Setting the index as a limit on which to extract string of row\n",
    "            P.pairing_name = row[0][0: main_index - 1].strip()\n",
    "            # Setting the index as a limit on which to extract string of row\n",
    "            if 'TDH' in row[0]:\n",
    "                main_index = row[0].find(': TDH')\n",
    "            else:\n",
    "                main_index = row[0].find(': LEG')\n",
    "            sub_index = row[0].find('BASE')  # Getting starting index from which to extract\n",
    "            P.base = row[0][sub_index:main_index - 1].strip()\n",
    "            num = len(row[1:])\n",
    "\n",
    "            holder = [row[0][main_index + 1:].strip()]\n",
    "            for n in range(num):\n",
    "                if ';' in row[n + 1]:\n",
    "                    holder.append(row[n + 1][0:-1].strip())\n",
    "                else:\n",
    "                    holder.append(row[n + 1].strip())\n",
    "\n",
    "            P.legs = holder\n",
    "            key = str(P.pairing_name.strip())  # Key prefixed with instance number\n",
    "\n",
    "            #  Setting Key for flight search\n",
    "            firstLeg = str(P.legs[0])\n",
    "            lastLeg = str(P.legs[-1])\n",
    "\n",
    "            #  Removing TDH when searching for a Key\n",
    "            if 'TDH_' in firstLeg:\n",
    "                firstLeg = firstLeg.replace(\"TDH_\", \"\")\n",
    "            P.start_date = flights[firstLeg].date_departure\n",
    "            P.start_time = flights[firstLeg].hour_departure\n",
    "            if 'TDH_' in lastLeg:\n",
    "                lastLeg = lastLeg.replace(\"TDH_\", \"\")\n",
    "            P.end_date = flights[lastLeg].date_arrival\n",
    "            P.end_time = flights[lastLeg].hour_arrival\n",
    "\n",
    "            # Calculating the credited flying time for a pairing\n",
    "            total_flying_time = 0\n",
    "            for k, p in enumerate(P.legs):\n",
    "                if 'TDH' in p:\n",
    "                    p = p.replace(\"TDH_\", \"\")\n",
    "                    P.legs[k] = p.replace(\"TDH_\", \"\")\n",
    "                total_flying_time += flights[p].duration\n",
    "            P.total_flying_time = total_flying_time\n",
    "            P.total_duration = calcDurationInHours(flights[P.legs[0]].date_time_departure, flights[P.legs[-1]].date_time_arrival)\n",
    "\n",
    "            genesisPair.append(P)\n",
    "            print(P.legs)"
   ]
  },
  {
   "cell_type": "code",
   "execution_count": 13,
   "metadata": {
    "pycharm": {
     "name": "#%%\n"
    }
   },
   "outputs": [],
   "source": [
    "airports = {}\n",
    "path = os.getcwd() + '\\instance' + str(instanceNum) + '\\listOfBases.csv'\n",
    "with open(path) as csv_file:\n",
    "    reader = csv.reader(csv_file, delimiter=',')\n",
    "    first = True\n",
    "    for row in reader:\n",
    "        if not first:\n",
    "            a = Airport()\n",
    "            a.name = row[0].strip()\n",
    "            if int(row[1]):\n",
    "                a.is_base = True\n",
    "                # bases[a.name] = a\n",
    "            else:\n",
    "                a.is_base = False\n",
    "            airports[a.name] = a\n",
    "        else:\n",
    "            first = False"
   ]
  },
  {
   "cell_type": "markdown",
   "metadata": {
    "pycharm": {
     "name": "#%% md\n"
    }
   },
   "source": [
    "# Graph"
   ]
  },
  {
   "cell_type": "code",
   "execution_count": 14,
   "metadata": {
    "pycharm": {
     "name": "#%%\n"
    }
   },
   "outputs": [],
   "source": [
    "g = nx.DiGraph()"
   ]
  },
  {
   "cell_type": "code",
   "execution_count": 15,
   "metadata": {
    "pycharm": {
     "name": "#%%\n"
    }
   },
   "outputs": [],
   "source": [
    "for airport in airports.keys():\n",
    "    g.add_node(airport)"
   ]
  },
  {
   "cell_type": "code",
   "execution_count": 16,
   "metadata": {
    "pycharm": {
     "name": "#%%\n"
    }
   },
   "outputs": [],
   "source": [
    "for flight in flights.items():\n",
    "    day = int(flight[1].legNo[4:6])\n",
    "    if not g.has_edge(flight[1].airport_departure, flight[1].airport_arrival):\n",
    "        g.add_edge(flight[1].airport_departure, flight[1].airport_arrival, flight_list = {f\"{flight[1].legNo}\": (flight[1], False, day)}, weight=flight[1].duration)\n",
    "    else:\n",
    "        orig = g[flight[1].airport_departure][flight[1].airport_arrival][\"flight_list\"]\n",
    "        orig[flight[1].legNo] = (flight[1], False, day)\n",
    "        new_attr = {(flight[1].airport_departure, flight[1].airport_arrival) : {\"flight_list\" : orig}}\n",
    "        nx.set_edge_attributes(g, new_attr)"
   ]
  },
  {
   "cell_type": "code",
   "execution_count": 17,
   "metadata": {
    "pycharm": {
     "name": "#%%\n"
    }
   },
   "outputs": [
    {
     "data": {
      "text/plain": "<Figure size 720x648 with 1 Axes>",
      "image/png": "[encoded data removed]"
     },
     "metadata": {},
     "output_type": "display_data"
    }
   ],
   "source": [
    "pos = nx.circular_layout(g)\n",
    "c_m = {}\n",
    "for item in airports.items():\n",
    "    if item[1].is_base:\n",
    "        c_m[item[1].name] = \"orange\"\n",
    "    else:\n",
    "        c_m[item[1].name] = \"blue\"\n",
    "colors = [c_m.get(node) for node in g.nodes()]\n",
    "plt.figure(figsize= (10,9))\n",
    "nx.draw_networkx(g, pos, node_size=1000, font_size=11, node_color=colors)"
   ]
  },
  {
   "cell_type": "markdown",
   "metadata": {
    "pycharm": {
     "name": "#%% md\n"
    }
   },
   "source": [
    "# Covering Flights Code"
   ]
  },
  {
   "cell_type": "code",
   "execution_count": 18,
   "metadata": {
    "pycharm": {
     "name": "#%%\n"
    }
   },
   "outputs": [],
   "source": [
    "def init_cover_list() -> dict:\n",
    "    cvrd = {}\n",
    "    for fl in flights:\n",
    "        cvrd[fl] = (False, 0)\n",
    "    return cvrd"
   ]
  },
  {
   "cell_type": "code",
   "execution_count": 19,
   "metadata": {
    "pycharm": {
     "name": "#%%\n"
    }
   },
   "outputs": [],
   "source": [
    "def getNonCoveredFlights(cvrd) -> list[Flights]:\n",
    "    not_covered_flights = []\n",
    "    for cov in cvrd.items():\n",
    "        if not cov[1][0]:\n",
    "            # print(cov)\n",
    "            not_covered_flights.append(cov)\n",
    "    return not_covered_flights"
   ]
  },
  {
   "cell_type": "code",
   "execution_count": 20,
   "metadata": {
    "pycharm": {
     "name": "#%%\n"
    }
   },
   "outputs": [],
   "source": [
    "def checkCovered(cvd) -> bool:\n",
    "    covrd = True\n",
    "    # counter = 0\n",
    "    for it in cvd.items():\n",
    "        if not it[1][1]:\n",
    "            covrd = False\n",
    "            break\n",
    "            # counter+=1\n",
    "    # print(counter)\n",
    "    return covrd"
   ]
  },
  {
   "cell_type": "markdown",
   "metadata": {},
   "source": [
    "# Pairing Generation"
   ]
  },
  {
   "cell_type": "code",
   "execution_count": 21,
   "metadata": {
    "pycharm": {
     "name": "#%%\n"
    }
   },
   "outputs": [],
   "source": [
    "def validPairing(curr: list[Flights]) -> tuple[int, int]:\n",
    "    kp = 1\n",
    "    ct = 1\n",
    "    # length_curr = len(curr)\n",
    "    tempP = Pairings(curr)\n",
    "    # if tempP.pairing_string == \"LEG_06_3 , LEG_06_31 , LEG_06_30 , LEG_07_10 , LEG_07_11 , LEG_07_19\":\n",
    "    #     print()\n",
    "    # if tempP.pairing_string == \"LEG_06_3 , LEG_06_31 , LEG_06_30 , LEG_07_10\":\n",
    "    #     print()\n",
    "\n",
    "    if list_of_non_cvrd is not None:\n",
    "        # set_of_non_covered = set(list_of_non_cvrd)\n",
    "        continueSearching = False\n",
    "        for fl in list_of_non_cvrd:\n",
    "            if calcDurationInHours(curr[0].date_time_departure, flights[fl].date_time_arrival) < 72:\n",
    "                continueSearching = True\n",
    "        if not continueSearching:\n",
    "            return 0,0\n",
    "\n",
    "\n",
    "    if tempP.total_flying_time / tempP.total_duration * 100 < allowedRatio:\n",
    "        kp = 0\n",
    "\n",
    "    if tempP.base_airport != curr[-1].airport_arrival:\n",
    "        kp = 0\n",
    "\n",
    "    if tempP.total_duration > 72:\n",
    "        return 0, 0\n",
    "\n",
    "    dateTimer = 0\n",
    "    flightTimer = 0\n",
    "\n",
    "    reversedCurr = [curr[j] for j in range(len(curr) - 1, -1, -1)]\n",
    "    for j, fl in enumerate(reversedCurr):\n",
    "        flightTimer += fl.duration\n",
    "        dateTimer += fl.duration\n",
    "\n",
    "        if j != 0:\n",
    "            flight_diff = calcDurationInHours(fl.date_time_arrival, reversedCurr[j-1].date_time_departure)\n",
    "            if flight_diff < 0.25:\n",
    "                return 0,0\n",
    "\n",
    "\n",
    "            if dateTimer + flight_diff > 14 and flight_diff < 10:\n",
    "                return 0,0\n",
    "            elif flight_diff > 10:\n",
    "                break\n",
    "            else:\n",
    "                dateTimer += flight_diff\n",
    "\n",
    "            # if dateTimer + flight_diff > 14:\n",
    "            #     if flight_diff < 10:\n",
    "            #         return 0, 0\n",
    "            #     else:\n",
    "            #         break\n",
    "            # else:\n",
    "            #     dateTimer += flight_diff\n",
    "\n",
    "        if flightTimer > 8:\n",
    "            return 0,0\n",
    "\n",
    "    return kp, ct"
   ]
  },
  {
   "cell_type": "code",
   "execution_count": 22,
   "metadata": {
    "pycharm": {
     "name": "#%%\n"
    }
   },
   "outputs": [],
   "source": [
    "def searchPairings(current: list[Flights], pairings: list[Pairings]) -> list[Pairings]:\n",
    "    keep, cont = validPairing(current)\n",
    "    if keep:\n",
    "        pair = Pairings(cp.deepcopy(current))\n",
    "        pairings.append(pair)\n",
    "    if cont:\n",
    "        first_leg = current[0]\n",
    "        last_leg = current[-1]\n",
    "        for ed in g.out_edges(last_leg.airport_arrival):\n",
    "            for fl_ed in g[ed[0]][ed[1]][\"flight_list\"].items():\n",
    "                f_inner : Flights = fl_ed[1][0]\n",
    "                if calcDurationInHours(first_leg.date_time_departure, f_inner.date_time_arrival) > 72:\n",
    "                    break\n",
    "                if calcDurationInHours(last_leg.date_time_arrival, f_inner.date_time_departure) >= 0.25:\n",
    "                    current.append(f_inner)\n",
    "                    pairings = searchPairings(current, pairings)\n",
    "                    current.remove(f_inner)\n",
    "    return pairings"
   ]
  },
  {
   "cell_type": "code",
   "execution_count": 23,
   "metadata": {
    "pycharm": {
     "name": "#%%\n"
    }
   },
   "outputs": [],
   "source": [
    "def calcPairingCost(p_toCalc: Pairings) -> float:\n",
    "    return math.floor(1000*p_toCalc.total_duration/p_toCalc.total_flying_time)"
   ]
  },
  {
   "cell_type": "code",
   "execution_count": 25,
   "metadata": {
    "pycharm": {
     "name": "#%%\n"
    }
   },
   "outputs": [
    {
     "name": "stdout",
     "output_type": "stream",
     "text": [
      "Base: BASE1\n",
      "Generating pairings for ('BASE1', 'AIR9')\n"
     ]
    },
    {
     "ename": "KeyboardInterrupt",
     "evalue": "",
     "output_type": "error",
     "traceback": [
      "\u001B[1;31m---------------------------------------------------------------------------\u001B[0m",
      "\u001B[1;31mKeyboardInterrupt\u001B[0m                         Traceback (most recent call last)",
      "Input \u001B[1;32mIn [25]\u001B[0m, in \u001B[0;36m<cell line: 4>\u001B[1;34m()\u001B[0m\n\u001B[0;32m     13\u001B[0m     f : Flights \u001B[38;5;241m=\u001B[39m flight[\u001B[38;5;241m1\u001B[39m][\u001B[38;5;241m0\u001B[39m]\n\u001B[0;32m     14\u001B[0m     \u001B[38;5;66;03m# print(f.legNo)\u001B[39;00m\n\u001B[1;32m---> 15\u001B[0m     new_pairings \u001B[38;5;241m=\u001B[39m \u001B[43msearchPairings\u001B[49m\u001B[43m(\u001B[49m\u001B[43m[\u001B[49m\u001B[43mf\u001B[49m\u001B[43m]\u001B[49m\u001B[43m,\u001B[49m\u001B[43m \u001B[49m\u001B[43m[\u001B[49m\u001B[43m]\u001B[49m\u001B[43m)\u001B[49m\n\u001B[0;32m     17\u001B[0m     all_pairings\u001B[38;5;241m.\u001B[39mextend(new_pairings)\n\u001B[0;32m     18\u001B[0m \u001B[38;5;28;01mif\u001B[39;00m beforeNew \u001B[38;5;241m==\u001B[39m \u001B[38;5;28mlen\u001B[39m(all_pairings):\n",
      "Input \u001B[1;32mIn [22]\u001B[0m, in \u001B[0;36msearchPairings\u001B[1;34m(current, pairings)\u001B[0m\n\u001B[0;32m     14\u001B[0m             \u001B[38;5;28;01mif\u001B[39;00m calcDurationInHours(last_leg\u001B[38;5;241m.\u001B[39mdate_time_arrival, f_inner\u001B[38;5;241m.\u001B[39mdate_time_departure) \u001B[38;5;241m>\u001B[39m\u001B[38;5;241m=\u001B[39m \u001B[38;5;241m0.25\u001B[39m:\n\u001B[0;32m     15\u001B[0m                 current\u001B[38;5;241m.\u001B[39mappend(f_inner)\n\u001B[1;32m---> 16\u001B[0m                 pairings \u001B[38;5;241m=\u001B[39m \u001B[43msearchPairings\u001B[49m\u001B[43m(\u001B[49m\u001B[43mcurrent\u001B[49m\u001B[43m,\u001B[49m\u001B[43m \u001B[49m\u001B[43mpairings\u001B[49m\u001B[43m)\u001B[49m\n\u001B[0;32m     17\u001B[0m                 current\u001B[38;5;241m.\u001B[39mremove(f_inner)\n\u001B[0;32m     18\u001B[0m \u001B[38;5;28;01mreturn\u001B[39;00m pairings\n",
      "Input \u001B[1;32mIn [22]\u001B[0m, in \u001B[0;36msearchPairings\u001B[1;34m(current, pairings)\u001B[0m\n\u001B[0;32m     14\u001B[0m             \u001B[38;5;28;01mif\u001B[39;00m calcDurationInHours(last_leg\u001B[38;5;241m.\u001B[39mdate_time_arrival, f_inner\u001B[38;5;241m.\u001B[39mdate_time_departure) \u001B[38;5;241m>\u001B[39m\u001B[38;5;241m=\u001B[39m \u001B[38;5;241m0.25\u001B[39m:\n\u001B[0;32m     15\u001B[0m                 current\u001B[38;5;241m.\u001B[39mappend(f_inner)\n\u001B[1;32m---> 16\u001B[0m                 pairings \u001B[38;5;241m=\u001B[39m \u001B[43msearchPairings\u001B[49m\u001B[43m(\u001B[49m\u001B[43mcurrent\u001B[49m\u001B[43m,\u001B[49m\u001B[43m \u001B[49m\u001B[43mpairings\u001B[49m\u001B[43m)\u001B[49m\n\u001B[0;32m     17\u001B[0m                 current\u001B[38;5;241m.\u001B[39mremove(f_inner)\n\u001B[0;32m     18\u001B[0m \u001B[38;5;28;01mreturn\u001B[39;00m pairings\n",
      "    \u001B[1;31m[... skipping similar frames: searchPairings at line 16 (8 times)]\u001B[0m\n",
      "Input \u001B[1;32mIn [22]\u001B[0m, in \u001B[0;36msearchPairings\u001B[1;34m(current, pairings)\u001B[0m\n\u001B[0;32m     14\u001B[0m             \u001B[38;5;28;01mif\u001B[39;00m calcDurationInHours(last_leg\u001B[38;5;241m.\u001B[39mdate_time_arrival, f_inner\u001B[38;5;241m.\u001B[39mdate_time_departure) \u001B[38;5;241m>\u001B[39m\u001B[38;5;241m=\u001B[39m \u001B[38;5;241m0.25\u001B[39m:\n\u001B[0;32m     15\u001B[0m                 current\u001B[38;5;241m.\u001B[39mappend(f_inner)\n\u001B[1;32m---> 16\u001B[0m                 pairings \u001B[38;5;241m=\u001B[39m \u001B[43msearchPairings\u001B[49m\u001B[43m(\u001B[49m\u001B[43mcurrent\u001B[49m\u001B[43m,\u001B[49m\u001B[43m \u001B[49m\u001B[43mpairings\u001B[49m\u001B[43m)\u001B[49m\n\u001B[0;32m     17\u001B[0m                 current\u001B[38;5;241m.\u001B[39mremove(f_inner)\n\u001B[0;32m     18\u001B[0m \u001B[38;5;28;01mreturn\u001B[39;00m pairings\n",
      "Input \u001B[1;32mIn [22]\u001B[0m, in \u001B[0;36msearchPairings\u001B[1;34m(current, pairings)\u001B[0m\n\u001B[0;32m      1\u001B[0m \u001B[38;5;28;01mdef\u001B[39;00m \u001B[38;5;21msearchPairings\u001B[39m(current: \u001B[38;5;28mlist\u001B[39m[Flights], pairings: \u001B[38;5;28mlist\u001B[39m[Pairings]) \u001B[38;5;241m-\u001B[39m\u001B[38;5;241m>\u001B[39m \u001B[38;5;28mlist\u001B[39m[Pairings]:\n\u001B[1;32m----> 2\u001B[0m     keep, cont \u001B[38;5;241m=\u001B[39m \u001B[43mvalidPairing\u001B[49m\u001B[43m(\u001B[49m\u001B[43mcurrent\u001B[49m\u001B[43m)\u001B[49m\n\u001B[0;32m      3\u001B[0m     \u001B[38;5;28;01mif\u001B[39;00m keep:\n\u001B[0;32m      4\u001B[0m         pair \u001B[38;5;241m=\u001B[39m Pairings(cp\u001B[38;5;241m.\u001B[39mdeepcopy(current))\n",
      "Input \u001B[1;32mIn [21]\u001B[0m, in \u001B[0;36mvalidPairing\u001B[1;34m(curr)\u001B[0m\n\u001B[0;32m     30\u001B[0m dateTimer \u001B[38;5;241m=\u001B[39m \u001B[38;5;241m0\u001B[39m\n\u001B[0;32m     31\u001B[0m flightTimer \u001B[38;5;241m=\u001B[39m \u001B[38;5;241m0\u001B[39m\n\u001B[1;32m---> 33\u001B[0m reversedCurr \u001B[38;5;241m=\u001B[39m [curr[j] \u001B[38;5;28;01mfor\u001B[39;00m j \u001B[38;5;129;01min\u001B[39;00m \u001B[38;5;28mrange\u001B[39m(\u001B[38;5;28mlen\u001B[39m(curr) \u001B[38;5;241m-\u001B[39m \u001B[38;5;241m1\u001B[39m, \u001B[38;5;241m-\u001B[39m\u001B[38;5;241m1\u001B[39m, \u001B[38;5;241m-\u001B[39m\u001B[38;5;241m1\u001B[39m)]\n\u001B[0;32m     34\u001B[0m \u001B[38;5;28;01mfor\u001B[39;00m j, fl \u001B[38;5;129;01min\u001B[39;00m \u001B[38;5;28menumerate\u001B[39m(reversedCurr):\n\u001B[0;32m     35\u001B[0m     flightTimer \u001B[38;5;241m+\u001B[39m\u001B[38;5;241m=\u001B[39m fl\u001B[38;5;241m.\u001B[39mduration\n",
      "\u001B[1;31mKeyboardInterrupt\u001B[0m: "
     ]
    }
   ],
   "source": [
    "all_pairings = []\n",
    "\n",
    "list_of_non_cvrd = None\n",
    "for airport in airports.items():\n",
    "    air = airport[1]\n",
    "    air: Airport\n",
    "    if air.is_base:\n",
    "        print(\"Base: \", air.name, sep=\"\")\n",
    "        for edge in g.out_edges(air.name):\n",
    "            print(\"Generating pairings for \", edge, sep=\"\")\n",
    "            beforeNew = len(all_pairings)\n",
    "            for flight in g[edge[0]][edge[1]][\"flight_list\"].items():\n",
    "                f : Flights = flight[1][0]\n",
    "                # print(f.legNo)\n",
    "                new_pairings = searchPairings([f], [])\n",
    "\n",
    "                all_pairings.extend(new_pairings)\n",
    "\n",
    "            if beforeNew == len(all_pairings):\n",
    "                tempRatio = allowedRatio\n",
    "                allowedRatio = 0\n",
    "                for flight in g[edge[0]][edge[1]][\"flight_list\"].items():\n",
    "                    f : Flights = flight[1][0]\n",
    "                    # print(f.legNo)\n",
    "                    new_pairings = searchPairings([f], [])\n",
    "\n",
    "                    all_pairings.extend(new_pairings)\n",
    "                # new_pairings = searchPairings([f], [])\n",
    "                allowedRatio = tempRatio\n",
    "            print(\"Pairings Generated = \", len(all_pairings) - beforeNew, sep=\"\")\n",
    "        print(\"---------------\")"
   ]
  },
  {
   "cell_type": "code",
   "execution_count": 26,
   "outputs": [
    {
     "data": {
      "text/plain": "153859"
     },
     "execution_count": 26,
     "metadata": {},
     "output_type": "execute_result"
    }
   ],
   "source": [
    "len(all_pairings)"
   ],
   "metadata": {
    "collapsed": false,
    "pycharm": {
     "name": "#%%\n"
    }
   }
  },
  {
   "cell_type": "code",
   "execution_count": null,
   "metadata": {
    "pycharm": {
     "name": "#%%\n"
    }
   },
   "outputs": [],
   "source": [
    "covered = init_cover_list()\n",
    "empty_covered = {}\n",
    "# for pairing in all_pairings:\n",
    "#     pairing : Pairings\n",
    "#     for leg in pairing.legs:\n",
    "#         covered[leg.legNo] = (True, covered[leg.legNo][1]+1)\n",
    "\n",
    "for pairing in all_pairings:\n",
    "    intersec = pairing.set_flights.intersection(empty_covered)\n",
    "    if len(intersec) != len(pairing.legs):\n",
    "        for f in pairing.legs:\n",
    "            if f.legNo not in empty_covered:\n",
    "                empty_covered[f.legNo] = (True, 1)\n",
    "    if len(empty_covered) == len(flights):\n",
    "        break\n",
    "\n",
    "for item in empty_covered.items():\n",
    "    if item[0] in empty_covered:\n",
    "        item = (True, 1)\n",
    "\n",
    "non_covrd = getNonCoveredFlights(empty_covered)\n",
    "if len(non_covrd) != 0:\n",
    "    print(non_covrd)\n",
    "    list_of_non_cvrd = [e[0] for e in non_covrd]\n",
    "    allowedRatio = 0\n",
    "    for airport in airports.items():\n",
    "        air = airport[1]\n",
    "        air: Airport\n",
    "        if air.is_base:\n",
    "            print(air.name)\n",
    "            for edge in g.out_edges(air.name):\n",
    "                print(edge)\n",
    "                beforeNew = len(all_pairings)\n",
    "                for flight in g[edge[0]][edge[1]][\"flight_list\"].items():\n",
    "                    delete = True\n",
    "                    f : Flights = flight[1][0]\n",
    "\n",
    "                    new_pairings = searchPairings([f], [])\n",
    "                    temp_new_pairings = new_pairings[:]\n",
    "                    for p in new_pairings:\n",
    "                        for leg in p.legs:\n",
    "                            if leg.legNo in list_of_non_cvrd:\n",
    "                                delete = False\n",
    "                        if delete:\n",
    "                            temp_new_pairings.remove(p)\n",
    "                    all_pairings.extend(temp_new_pairings)\n",
    "                print(\"Pairings Generated = \", len(all_pairings) - beforeNew, sep=\"\")\n",
    "                print(\"--\")\n",
    "    for pairing in all_pairings:\n",
    "        pairing : Pairings\n",
    "        for leg in pairing.legs:\n",
    "            covered[leg.legNo] = (True, covered[leg.legNo][1]+1)\n",
    "    non_covrd = getNonCoveredFlights(covered)\n",
    "\n",
    "if len(non_covrd) != 0:\n",
    "    print(\"Parameters are impossible\")"
   ]
  },
  {
   "cell_type": "code",
   "execution_count": null,
   "metadata": {
    "pycharm": {
     "name": "#%%\n"
    }
   },
   "outputs": [],
   "source": [
    "# backup = all_pairings[:]\n",
    "flight_pairings : {str:list[Pairings]} = {}\n",
    "# # seen_pairings = set()\n",
    "# temp_new_pairings = all_pairings[:]\n",
    "# all_pairings = []\n",
    "\n",
    "for i, obj in enumerate(all_pairings):\n",
    "    # if obj.pairing_string not in seen_pairings:\n",
    "    #     all_pairings.append(obj)\n",
    "    #     seen_pairings.add(obj.pairing_string)\n",
    "    all_pairings[i].cost = calcPairingCost(obj)\n",
    "    for f in obj.legs:\n",
    "        if f.legNo in flight_pairings:\n",
    "            flight_pairings[f.legNo].append(obj)\n",
    "        else:\n",
    "            flight_pairings[f.legNo] = [obj]\n",
    "\n",
    "\n",
    "print(\"Total Pairings Generated: \", len(all_pairings), sep=\"\")"
   ]
  },
  {
   "cell_type": "code",
   "execution_count": null,
   "outputs": [],
   "source": [
    "# invalid = 0\n",
    "# for p in all_pairings:\n",
    "#     full_timer = 0\n",
    "#     flight_timer = 0\n",
    "#     flightDiff = 0\n",
    "#     for i, f in enumerate(p.legs):\n",
    "#         full_timer += f.duration\n",
    "#         flight_timer += f.duration\n",
    "#\n",
    "#\n",
    "#         if i != 0:\n",
    "#             flightDiff = calcDurationInHours(p.legs[i-1].date_time_arrival, f.date_time_departure)\n",
    "#             full_timer += flightDiff\n",
    "#\n",
    "#         if flightDiff < 10 and full_timer > 14:\n",
    "#             invalid += 1\n",
    "#             print(p.pairing_string)\n",
    "#         elif flightDiff > 10:\n",
    "#             full_timer = 0\n",
    "#             flight_timer = 0\n"
   ],
   "metadata": {
    "collapsed": false,
    "pycharm": {
     "name": "#%%\n"
    }
   }
  },
  {
   "cell_type": "code",
   "execution_count": null,
   "metadata": {
    "pycharm": {
     "name": "#%%\n"
    }
   },
   "outputs": [],
   "source": [
    "# backup_pairings = all_pairings[:]"
   ]
  },
  {
   "cell_type": "code",
   "execution_count": null,
   "outputs": [],
   "source": [
    "for plst in flight_pairings.items():\n",
    "    flight_pairings[plst[0]] = set(plst[1])"
   ],
   "metadata": {
    "collapsed": false,
    "pycharm": {
     "name": "#%%\n"
    }
   }
  },
  {
   "cell_type": "code",
   "execution_count": null,
   "metadata": {
    "pycharm": {
     "name": "#%%\n"
    }
   },
   "outputs": [],
   "source": [
    "avg = mean([item.cost for item in all_pairings])\n",
    "counter = 0\n",
    "temp_new_pairings = all_pairings[:]\n",
    "new_pairings = []\n",
    "\n",
    "for i, p in enumerate(temp_new_pairings):\n",
    "    rem = True\n",
    "    count = min([len(flight_pairings[f.legNo]) for f in p.legs])\n",
    "    if count < 100:\n",
    "        rem = False\n",
    "\n",
    "    if rem:\n",
    "        counter += 1\n",
    "        for f in p.legs:\n",
    "            flight_pairings[f.legNo].remove(p)\n",
    "    else:\n",
    "        new_pairings.append(p)"
   ]
  },
  {
   "cell_type": "code",
   "execution_count": null,
   "outputs": [],
   "source": [
    "new_pairings.sort(key=lambda x:x.cost, reverse=False)\n",
    "all_pairings = new_pairings"
   ],
   "metadata": {
    "collapsed": false,
    "pycharm": {
     "name": "#%%\n"
    }
   }
  },
  {
   "cell_type": "code",
   "execution_count": null,
   "outputs": [],
   "source": [
    "len(new_pairings)"
   ],
   "metadata": {
    "collapsed": false,
    "pycharm": {
     "name": "#%%\n"
    }
   }
  },
  {
   "cell_type": "code",
   "execution_count": null,
   "outputs": [],
   "source": [
    "for p in all_pairings:\n",
    "    p.cost = calcPairingCost(p)\n",
    "all_pairings.sort(key=lambda xt: xt.cost, reverse=False)\n",
    "\n",
    "for i, p in enumerate(all_pairings):\n",
    "    p.id = i"
   ],
   "metadata": {
    "collapsed": false,
    "pycharm": {
     "name": "#%%\n"
    }
   }
  },
  {
   "cell_type": "code",
   "execution_count": null,
   "outputs": [],
   "source": [
    "genesisPairActual = Solution()\n",
    "update = False\n",
    "for P in genesisPair:\n",
    "    match_length = len(P.legs)\n",
    "    set_legs = set(P.legs)\n",
    "\n",
    "    find = False\n",
    "    for item in flight_pairings[P.legs[0]]:\n",
    "        if len(set(P.legs).intersection(item.set_flights)) == match_length and len(item.set_flights) == len(P.legs):\n",
    "            find = True\n",
    "            genesisPairActual.solution_pairings.append(item)\n",
    "    if not find:\n",
    "        print(\"\".join([leg + \" , \" for leg in P.legs]))\n",
    "        print(P.legs)\n",
    "        print(\"---------------------\")\n",
    "        ls = [flights[leg] for leg in P.legs]\n",
    "        all_pairings.append(Pairings(ls))\n",
    "        genesisPairActual.solution_pairings.append(all_pairings[-1])\n",
    "        update = True\n",
    "\n",
    "if update:\n",
    "    for p in all_pairings:\n",
    "        p.cost = calcPairingCost(p)\n",
    "    all_pairings.sort(key=lambda xt: xt.cost, reverse=False)\n",
    "\n",
    "    for i, p in enumerate(all_pairings):\n",
    "        p.id = i\n",
    "\n",
    "    flight_pairings = {}\n",
    "    for p in all_pairings:\n",
    "        for f in p.legs:\n",
    "            if f.legNo in flight_pairings:\n",
    "                flight_pairings[f.legNo].append(p)\n",
    "            else:\n",
    "                flight_pairings[f.legNo] = [p]\n"
   ],
   "metadata": {
    "collapsed": false,
    "pycharm": {
     "name": "#%%\n"
    }
   }
  },
  {
   "cell_type": "code",
   "execution_count": null,
   "metadata": {
    "pycharm": {
     "name": "#%%\n"
    }
   },
   "outputs": [],
   "source": [
    "# msg = []\n",
    "# pop_dict = {}\n",
    "# for i, pairing in enumerate(all_pairings):\n",
    "#     pairing: Pairings\n",
    "#     display = \"\"\n",
    "#     for leg in pairing.legs:\n",
    "#         display += leg.legNo + \" , \"\n",
    "#     msg.append(\"\".join([\"Pairing \", str(i + 1), \": \", display[:len(display) - 2]]))\n",
    "#     msg.append(\"\".join([\"Total Time:\", str(pairing.total_duration)]))\n",
    "#     msg.append(\"\".join([\"Total Flying Time:\", str(pairing.total_flying_time)]))\n",
    "#     msg.append(\"--------------\")\n",
    "#\n",
    "# with open('pairings.txt', 'w', encoding='utf-8') as file:\n",
    "#     file.write('\\n'.join(msg))\n",
    "\n",
    "# print(\"Total Pairings:\", len(all_pairings))"
   ]
  },
  {
   "cell_type": "code",
   "execution_count": null,
   "metadata": {
    "pycharm": {
     "name": "#%%\n"
    }
   },
   "outputs": [],
   "source": [
    "with open('PairingObjects/PairingObjects'+ str(instanceNum) +'.txt', 'wb') as pairings_file:\n",
    "    pickle.dump(all_pairings, pairings_file)"
   ]
  },
  {
   "cell_type": "code",
   "execution_count": null,
   "metadata": {
    "pycharm": {
     "name": "#%%\n"
    }
   },
   "outputs": [],
   "source": [
    "# with open('pairingsObject.txt', 'rb') as pairings_file:\n",
    "#     backup_pairings = pickle.load(pairings_file)"
   ]
  },
  {
   "cell_type": "markdown",
   "metadata": {
    "pycharm": {
     "name": "#%% md\n"
    }
   },
   "source": [
    "# Initial Population Code"
   ]
  },
  {
   "cell_type": "code",
   "execution_count": null,
   "metadata": {
    "pycharm": {
     "name": "#%%\n"
    }
   },
   "outputs": [],
   "source": [
    "def checkSimilarity(cvd, t_pairing: Pairings) -> int:\n",
    "    total_legs = len(t_pairing.legs)\n",
    "    present_legs = 0\n",
    "    for Leg in t_pairing.legs:\n",
    "        if cvd[Leg.legNo][0]:\n",
    "            present_legs += 1\n",
    "    return present_legs/total_legs * 100"
   ]
  },
  {
   "cell_type": "code",
   "execution_count": null,
   "metadata": {
    "pycharm": {
     "name": "#%%\n"
    }
   },
   "outputs": [],
   "source": [
    "def returnFeasibleSolution(curr_sol: Solution):\n",
    "    if len(curr_sol.solution_pairings) == 0:\n",
    "        curr_sol.solution_pairings = convertFromBinaryToPairings(to_convert=curr_sol.solution_encoding)\n",
    "    cov = init_cover_list()\n",
    "    for pair in curr_sol.solution_pairings:\n",
    "        for fl in pair.legs:\n",
    "            cov[fl.legNo] = (True, cov[fl.legNo][1]+1)\n",
    "    non_covered = getNonCoveredFlights(cov)\n",
    "    list_of_non_covered =[e[0] for e in non_covered]\n",
    "    set_of_non_covered = set(list_of_non_covered)\n",
    "\n",
    "\n",
    "    for fl in list_of_non_covered:\n",
    "        if fl in set_of_non_covered:\n",
    "            candidates = []\n",
    "            temp_pairings = list(flight_pairings[fl])\n",
    "            for pair in temp_pairings:\n",
    "                potential_cover = len(set_of_non_covered.intersection(pair.set_flights))\n",
    "                candidates.append((pair, 1.0*pair.cost/potential_cover))\n",
    "            candidates.sort(key=lambda x: x[1], reverse=False)\n",
    "            curr_sol.solution_pairings.append(candidates[0][0])\n",
    "            if len(curr_sol.solution_encoding)!= 0:\n",
    "                curr_sol.solution_encoding[candidates[0][0].id] = 1\n",
    "            for l3g in candidates[0][0].legs:\n",
    "                if l3g.legNo in set_of_non_covered:\n",
    "                    set_of_non_covered.remove(l3g.legNo)\n",
    "\n",
    "    curr_sol = clearUnusedPairings(curr_sol)\n",
    "    return curr_sol"
   ]
  },
  {
   "cell_type": "code",
   "execution_count": null,
   "metadata": {
    "pycharm": {
     "name": "#%%\n"
    }
   },
   "outputs": [],
   "source": [
    "def clearUnusedPairings(curr_sol) -> Solution:\n",
    "    cov = init_cover_list()\n",
    "    curr_sol.solution_pairings.sort(key=lambda xt: xt.cost, reverse=False)\n",
    "    new_list = []\n",
    "    for j, pair in enumerate(curr_sol.solution_pairings):\n",
    "        remove = True\n",
    "        for fl in pair.legs:\n",
    "            if cov[fl.legNo][0] is False:\n",
    "                remove = False\n",
    "                cov[fl.legNo] = (True, None)\n",
    "        if remove:\n",
    "            # curr_sol.solution_pairings.remove(pair)\n",
    "            if len(curr_sol.solution_encoding)!= 0:\n",
    "                curr_sol.solution_encoding[pair.id] = 0\n",
    "        else:\n",
    "            new_list.append(pair)\n",
    "    curr_sol.solution_pairings = new_list\n",
    "    return curr_sol"
   ]
  },
  {
   "cell_type": "code",
   "execution_count": null,
   "metadata": {
    "pycharm": {
     "name": "#%%\n"
    }
   },
   "outputs": [],
   "source": [
    "def find_random_solution():\n",
    "    solution = Solution()\n",
    "    covered_flights = init_cover_list()\n",
    "    temp_pairings = all_pairings[:]\n",
    "    while len(temp_pairings)!= 0:\n",
    "        index = random.randint(0, len(temp_pairings)-1)\n",
    "        if len(solution.solution_pairings) == 0:\n",
    "            solution.solution_pairings.append(temp_pairings[index])\n",
    "            for Leg in temp_pairings[index].legs:\n",
    "                covered_flights[Leg.legNo] = (True, covered_flights[Leg.legNo][1]+1)\n",
    "        else:\n",
    "            sim = checkSimilarity(covered_flights, temp_pairings[index])\n",
    "            if sim == 0:\n",
    "                solution.solution_pairings.append(temp_pairings[index])\n",
    "                for Leg in temp_pairings[index].legs:\n",
    "                    covered_flights[Leg.legNo] = (True, covered_flights[Leg.legNo][1]+1)\n",
    "        del temp_pairings[index]\n",
    "    return returnFeasibleSolution(solution)"
   ]
  },
  {
   "cell_type": "code",
   "execution_count": null,
   "metadata": {
    "pycharm": {
     "name": "#%%\n"
    }
   },
   "outputs": [],
   "source": [
    "def calcDeadheadsFromCover(cov):\n",
    "    j = 0\n",
    "    for it in cov.items():\n",
    "        # print(item)\n",
    "        if it[1][1] > 1:\n",
    "            j+=(it[1][1]-1)\n",
    "    return j"
   ]
  },
  {
   "cell_type": "code",
   "execution_count": null,
   "metadata": {
    "pycharm": {
     "name": "#%%\n"
    }
   },
   "outputs": [],
   "source": [
    "def calcDeadheadsAlt(sol):\n",
    "    j = 0\n",
    "    cov = init_cover_list()\n",
    "    for pr in sol:\n",
    "        for Leg in pr.legs:\n",
    "            cov[Leg] = (True, cov[Leg][1]+1)\n",
    "    for it in cov.items():\n",
    "        # print(item)\n",
    "        if it[1][1] > 1:\n",
    "            j+=(it[1][1]-1)\n",
    "    return j"
   ]
  },
  {
   "cell_type": "code",
   "execution_count": null,
   "metadata": {
    "pycharm": {
     "name": "#%%\n"
    }
   },
   "outputs": [],
   "source": [
    "def calcDeadheadsFromSolution(sol: list[Pairings]):\n",
    "    j = 0\n",
    "    cov = init_cover_list()\n",
    "    for pr in sol:\n",
    "        for Leg in pr.legs:\n",
    "            cov[Leg.legNo] = (True, cov[Leg.legNo][1]+1)\n",
    "    for it in cov.items():\n",
    "        # print(item)\n",
    "        if it[1][1] > 1:\n",
    "            j+=(it[1][1]-1)\n",
    "    return j"
   ]
  },
  {
   "cell_type": "code",
   "execution_count": null,
   "metadata": {
    "pycharm": {
     "name": "#%%\n"
    }
   },
   "outputs": [],
   "source": [
    "def calcSolutionCost(pairs: list[Pairings], deadheads:int) -> float:\n",
    "    c = 0\n",
    "    for pr in pairs:\n",
    "        c+=calcPairingCost(pr)\n",
    "    c+= deadheads*1000\n",
    "    return c"
   ]
  },
  {
   "cell_type": "code",
   "execution_count": null,
   "metadata": {
    "pycharm": {
     "name": "#%%\n"
    }
   },
   "outputs": [],
   "source": [
    "# covered_list = []\n",
    "# pre_population = []\n",
    "def generatePop(num_of_Solutions: int, prnt=True):\n",
    "    temp_solutions = []\n",
    "    for j in range(num_of_Solutions):\n",
    "        if prnt:\n",
    "            print(\"Solution\", j+1, sep=\" \", end= \"\\n\")\n",
    "        s = find_random_solution()\n",
    "        s.id = j\n",
    "        s.deadheads = calcDeadheadsFromSolution(s.solution_pairings)\n",
    "        s.solution_cost = calcSolutionCost(s.solution_pairings, s.deadheads)\n",
    "        if prnt:\n",
    "            print(\"Deadheads: \", s.deadheads, sep=\"\")\n",
    "            print(\"Solution Length: \", len(s.solution_pairings), sep=\"\")\n",
    "            print(\"Solution Cost: \", s.solution_cost, sep=\"\")\n",
    "        temp_solutions.append(s)\n",
    "        \n",
    "    return temp_solutions\n",
    "\n",
    "pre_population = generatePop(100)\n"
   ]
  },
  {
   "cell_type": "code",
   "execution_count": null,
   "metadata": {
    "pycharm": {
     "name": "#%%\n"
    }
   },
   "outputs": [],
   "source": [
    "# GA generate 100 solutions randomly -- done\n",
    "# Genesis solution has to be one of the starting 100 -- can be done\n",
    "# Shall always use the best solutions for the following (The best 10 must ALWAYS go in)\n",
    "# have a way of determining if a solution is valid or not. //Genetic repair to fix it\n",
    "#   crossover operator - from the solution ex. you get one pairing from one and another and you star picking from one to another and you do it until a certain point you must repair it.\n",
    "# Genetic operators are SUPER important\n",
    "# fitness func use cost\n",
    "# take the init population and create another 500 from crossover, order them by cost, create another 100 and use prob tournament\n",
    "# take another population\n",
    "\n",
    "#VIMP -- Every solution has to be a unique code - to track if a solution makes it from solution to solution and how it was born and how it died. Some will survive but won't be the best and we must know this. -- solution object created\n",
    "\n",
    "# how many at each generation are new, average lifespan - lower the better as you are getting better ones."
   ]
  },
  {
   "cell_type": "markdown",
   "metadata": {
    "pycharm": {
     "name": "#%% md\n"
    }
   },
   "source": [
    "## Genetic Algorithm"
   ]
  },
  {
   "cell_type": "code",
   "execution_count": null,
   "metadata": {
    "pycharm": {
     "name": "#%%\n"
    }
   },
   "outputs": [],
   "source": [
    "def convertFromPopulationToBinary(pop):\n",
    "    blank_gene = [0 for _ in all_pairings]\n",
    "\n",
    "    for sol in pop:\n",
    "        sol.solution_encoding = blank_gene[:]\n",
    "        for pair in sol.solution_pairings:\n",
    "            #Just in case assignment went wrong\n",
    "            if not hasattr(pair, \"id\"):\n",
    "                hold = None\n",
    "                found = False\n",
    "                for searcher in all_pairings:\n",
    "                    if pair.end_date_time == searcher.end_date_time and searcher.cost == pair.cost and searcher.start_date_time == pair.start_date_time:\n",
    "                        if not found:\n",
    "                            hold = searcher\n",
    "                            found = True\n",
    "                        else:\n",
    "                            found= False\n",
    "                            break\n",
    "                if found:\n",
    "                    sol.solution_encoding[hold.id] = 1\n",
    "                else:\n",
    "                    print(\"Fatal error\")\n",
    "            else:\n",
    "                sol.solution_encoding[pair.id] = 1"
   ]
  },
  {
   "cell_type": "code",
   "execution_count": null,
   "metadata": {
    "pycharm": {
     "name": "#%%\n"
    }
   },
   "outputs": [],
   "source": [
    "def convertFromBinaryToPairings(to_convert : list[int]):\n",
    "    temp_sol = []\n",
    "    for j, binary in enumerate(to_convert):\n",
    "        if binary == 1:\n",
    "            temp_sol.append(all_pairings[j])\n",
    "    return temp_sol"
   ]
  },
  {
   "cell_type": "code",
   "execution_count": null,
   "metadata": {
    "pycharm": {
     "name": "#%%\n"
    }
   },
   "outputs": [],
   "source": [
    "class GeneticAlgorithm:\n",
    "    min_generations = 0\n",
    "    generation_num = 0\n",
    "    mutation_rate = 0\n",
    "    initial_GA_population = 100\n",
    "    population: list[Solution] = []\n",
    "    pop_copy: list[Solution] = []\n",
    "    threshold = -sys.maxsize\n",
    "    crossover_rate = 0\n",
    "    max_generations = 0\n",
    "    curr_gen = 0\n",
    "    # total_kept = 0\n",
    "\n",
    "    def __init__(self, min_generations, mutation_rate, initial_population, threshold, crossover_rate, max_generations):\n",
    "        self.min_generations = min_generations\n",
    "        self.mutation_rate = mutation_rate\n",
    "        self.population = initial_population[:]\n",
    "        self.pop_copy = initial_population[:]\n",
    "        self.threshold = threshold\n",
    "        self.crossover_rate = crossover_rate\n",
    "        self.max_generations = max_generations\n",
    "        self.curr_gen = 0\n",
    "        # self.total_kept = 0"
   ]
  },
  {
   "cell_type": "code",
   "execution_count": null,
   "metadata": {
    "pycharm": {
     "name": "#%%\n"
    }
   },
   "outputs": [],
   "source": [
    "    %%add_to GeneticAlgorithm\n",
    "    def sort_by_cost(self):\n",
    "        self.population.sort(key=lambda x: x.solution_cost, reverse=False)\n",
    "        self.pop_copy.sort(key=lambda x: x.solution_cost, reverse=False)\n"
   ]
  },
  {
   "cell_type": "code",
   "execution_count": null,
   "metadata": {
    "pycharm": {
     "name": "#%%\n"
    }
   },
   "outputs": [],
   "source": [
    "def mutate(child : Solution, rate, pre_run=False):\n",
    "    # for j, binary in enumerate(child.solution_encoding):\n",
    "    #     befBin = binary\n",
    "    #     reciprocal = 1/len(child.solution_encoding)\n",
    "    #     if binary == 0:\n",
    "    #         child.solution_encoding[j] = int(random.choices([0,1], weights=[1-reciprocal, reciprocal], k=1)[0])\n",
    "    #     else:\n",
    "    #         child.solution_encoding[j] = int(random.choices([1,0], weights=[1-reciprocal, reciprocal], k=1)[0])\n",
    "    #     # if befBin != child.solution_encoding[j]:\n",
    "    #     #     print(\"Mutate!\")\n",
    "    if rate > len(child.solution_encoding):\n",
    "        rate = len(child.solution_encoding)\n",
    "    reciprocal = rate/len(child.solution_encoding)\n",
    "    mutations = (random.choices([0,1], [1-reciprocal, reciprocal], k=len(child.solution_encoding))).count(1)\n",
    "    for j in range(mutations):\n",
    "        indx = random.randint(0, len(child.solution_encoding)-1)\n",
    "        binary = child.solution_encoding[indx]\n",
    "        if binary:\n",
    "            child.solution_encoding[indx] = 0\n",
    "        else:\n",
    "            child.solution_encoding[indx] = 1\n",
    "    if mutations != 0 and not pre_run:\n",
    "        child.generationMethod = \"Crossover and Mutation\"\n",
    "    return child"
   ]
  },
  {
   "cell_type": "markdown",
   "metadata": {},
   "source": []
  },
  {
   "cell_type": "code",
   "execution_count": null,
   "metadata": {
    "pycharm": {
     "name": "#%%\n"
    }
   },
   "outputs": [],
   "source": [
    "def roulette_wheel_selection(GA) -> Solution:\n",
    "    #reproduced from https://rocreguant.com/roulette-wheel-selection-python/2019/\n",
    "    population_fitness = sum([chromosome.solution_cost for chromosome in GA.pop_copy])\n",
    "    chromosome_probabilities = [chromosome.solution_cost/population_fitness for chromosome in GA.pop_copy]\n",
    "    chromosome_probabilities.reverse()\n",
    "\n",
    "    return np.random.choice(GA.pop_copy, p=chromosome_probabilities)"
   ]
  },
  {
   "cell_type": "code",
   "execution_count": null,
   "metadata": {
    "pycharm": {
     "name": "#%%\n"
    }
   },
   "outputs": [],
   "source": [
    "#redundant\n",
    "def fusion_crossover(parent1: Solution, parent2: Solution) -> Solution:\n",
    "    curr_child: Solution = Solution()\n",
    "    curr_child.solution_encoding = []\n",
    "    if parent1.solution_cost <= parent2.solution_cost:\n",
    "        fitter_parent = parent1\n",
    "        other_parent = parent2\n",
    "    else:\n",
    "        fitter_parent = parent2\n",
    "        other_parent = parent1\n",
    "\n",
    "    probability = fitter_parent.solution_cost/(fitter_parent.solution_cost+other_parent.solution_cost)\n",
    "\n",
    "    for fp,op in zip(fitter_parent.solution_encoding, other_parent.solution_encoding):\n",
    "        if fp == 1 and op == 1:\n",
    "            curr_child.solution_encoding.append(1)\n",
    "        elif fp == 1 and op == 0 or fp == 0 and op == 1:\n",
    "            curr_child.solution_encoding.append(random.choices([fp,op], weights=[1-probability, probability], k=1)[0])\n",
    "        else:\n",
    "            curr_child.solution_encoding.append(0)\n",
    "\n",
    "    return curr_child\n"
   ]
  },
  {
   "cell_type": "code",
   "execution_count": null,
   "metadata": {
    "pycharm": {
     "name": "#%%\n"
    }
   },
   "outputs": [],
   "source": [
    "# redundant\n",
    "def uniform_crossover(parent1: Solution, parent2: Solution) -> Solution:\n",
    "    curr_child: Solution = Solution()\n",
    "    curr_child.solution_encoding = []\n",
    "    for p1,p2 in zip(parent1.solution_encoding, parent2.solution_encoding):\n",
    "        if p1 == 1 and p2 == 1:\n",
    "            curr_child.solution_encoding.append(1)\n",
    "        elif p1 == 1 and p2 == 0 or p1 == 0 and p2 == 1:\n",
    "            chance = random.randint(1,100)\n",
    "            if chance <= 50:\n",
    "                curr_child.solution_encoding.append(1)\n",
    "            else:\n",
    "                curr_child.solution_encoding.append(0)\n",
    "        else:\n",
    "            curr_child.solution_encoding.append(0)\n",
    "\n",
    "    return curr_child"
   ]
  },
  {
   "cell_type": "code",
   "execution_count": null,
   "metadata": {
    "pycharm": {
     "name": "#%%\n"
    }
   },
   "outputs": [],
   "source": [
    "def single_point_crossover(parent1: Solution, parent2: Solution, crossover_point=None) -> (Solution, Solution):\n",
    "    if crossover_point is None:\n",
    "        min_point = len(parent1.solution_encoding)\n",
    "        max_point = 0\n",
    "        first_binary = True\n",
    "        for j,b1,b2 in enumerate(zip(parent1.solution_encoding,parent2.solution_encoding)):\n",
    "            if first_binary and b1 != b2:\n",
    "                min_point = j\n",
    "                first_binary = False\n",
    "            elif b1 != b2 and not first_binary:\n",
    "                max_point = j\n",
    "        crossover_point = random.randint(min_point, max_point)\n",
    "    curr_child_1 = Solution()\n",
    "    curr_child_2 = Solution()\n",
    "    curr_child_1.solution_encoding = parent1.solution_encoding[:]\n",
    "    curr_child_2.solution_encoding = parent2.solution_encoding[:]\n",
    "\n",
    "    for j in range(crossover_point,len(parent1.solution_encoding)):\n",
    "        curr_child_1.solution_encoding[i],curr_child_2.solution_encoding[i] = curr_child_2.solution_encoding[i],curr_child_1.solution_encoding[i]\n",
    "\n",
    "    return curr_child_1,curr_child_2\n"
   ]
  },
  {
   "cell_type": "code",
   "execution_count": null,
   "metadata": {
    "pycharm": {
     "name": "#%%\n"
    }
   },
   "outputs": [],
   "source": [
    "def two_point_crossover(parent1: Solution, parent2: Solution) -> (Solution, Solution):\n",
    "    min_point_1 = parent1.solution_encoding.index(1)\n",
    "    min_point_2 = parent2.solution_encoding.index(1)\n",
    "\n",
    "    # reversed_list_1 = parent1.solution_encoding[::-1]\n",
    "\n",
    "    reversed_list_1 = [parent1.solution_encoding[j] for j in range(len(parent1.solution_encoding) - 1, -1, -1)]\n",
    "    first_index_in_reversed_1 = reversed_list_1.index(1)\n",
    "    last_index_1 = len(parent1.solution_encoding) -1 - first_index_in_reversed_1\n",
    "\n",
    "    reversed_list_2 = [parent1.solution_encoding[j] for j in range(len(parent1.solution_encoding) - 1, -1, -1)]\n",
    "    first_index_in_reversed_2 = reversed_list_2.index(1)\n",
    "    last_index_2 = len(parent2.solution_encoding) -1 - first_index_in_reversed_2\n",
    "\n",
    "    if min_point_1 < min_point_2:\n",
    "        min_point = min_point_1\n",
    "    else:\n",
    "        min_point = min_point_2\n",
    "\n",
    "    if last_index_1 > last_index_2:\n",
    "        max_point = last_index_1\n",
    "    else:\n",
    "        max_point = last_index_2\n",
    "\n",
    "    crossover_points = []\n",
    "    while len(set(crossover_points)) < 2:\n",
    "        try:\n",
    "            crossover_points = random.choices(list(range(min_point, max_point)), k=2)\n",
    "        except:\n",
    "            crossover_points = random.choices(list(range(0, len(parent1.solution_encoding))), k=2)\n",
    "    curr_child_1 = Solution()\n",
    "    curr_child_2 = Solution()\n",
    "    curr_child_1.solution_encoding = parent1.solution_encoding[:]\n",
    "    curr_child_2.solution_encoding = parent2.solution_encoding[:]\n",
    "\n",
    "    for j in crossover_points:\n",
    "        curr_child_1,curr_child_2 = single_point_crossover(curr_child_1, curr_child_2, j)\n",
    "    return curr_child_1, curr_child_2\n"
   ]
  },
  {
   "cell_type": "code",
   "execution_count": null,
   "metadata": {
    "pycharm": {
     "name": "#%%\n"
    }
   },
   "outputs": [],
   "source": [
    "def prepare_offspring(child_1, child_2) -> (Solution, Solution):\n",
    "    child_1 = mutate(child_1, Gen_Alg.mutation_rate)\n",
    "    child_2 = mutate(child_2, Gen_Alg.mutation_rate)\n",
    "\n",
    "    child_1 = returnFeasibleSolution(child_1)\n",
    "    child_2 = returnFeasibleSolution(child_2)\n",
    "\n",
    "    child_1.deadheads = calcDeadheadsFromSolution(child_1.solution_pairings)\n",
    "    child_1.solution_cost = calcSolutionCost(child_1.solution_pairings, child_1.deadheads)\n",
    "    child_2.deadheads = calcDeadheadsFromSolution(child_2.solution_pairings)\n",
    "    child_2.solution_cost = calcSolutionCost(child_2.solution_pairings, child_2.deadheads)\n",
    "\n",
    "    return child_1, child_2"
   ]
  },
  {
   "cell_type": "code",
   "execution_count": null,
   "metadata": {
    "pycharm": {
     "name": "#%%\n"
    }
   },
   "outputs": [],
   "source": [
    "def start(GA):\n",
    "    GA.sort_by_cost()\n",
    "    cost_threshold = GA.population[0].solution_cost\n",
    "    lowest_cost_solution = GA.population[0]\n",
    "    with open('Trackers/Tracker'+ str(instanceNum) +'.csv', 'r+') as f_object:\n",
    "        next(f_object) # read one line\n",
    "        f_object.truncate()\n",
    "        f_object.write(\"\\n\")\n",
    "    try:\n",
    "        while GA.threshold*95/100 < cost_threshold and GA.max_generations != GA.curr_gen:\n",
    "            GA.curr_gen += 1\n",
    "            removeChildren = 0\n",
    "            offspring_generate = 500\n",
    "            best_two_crossed = False\n",
    "            final_id = -1\n",
    "            t1_start = time.process_time()\n",
    "            for j in range(offspring_generate):\n",
    "                # print(j)\n",
    "                # t2_start = time.process_time()\n",
    "                parent1 = roulette_wheel_selection(GA)\n",
    "                # GA.pop_copy.remove(parent1)\n",
    "                parent2 = roulette_wheel_selection(GA)\n",
    "                while parent2.id == parent1.id:\n",
    "                    parent2 = roulette_wheel_selection(GA)\n",
    "\n",
    "\n",
    "                if (parent1.id == GA.pop_copy[0].id and parent2.id == GA.pop_copy[1].id) or (parent2.id == GA.pop_copy[0].id and parent1.id == GA.pop_copy[1].id):\n",
    "                    best_two_crossed = True\n",
    "\n",
    "                child_1,child_2 = two_point_crossover(parent1, parent2)\n",
    "\n",
    "                child_1,child_2 = prepare_offspring(child_1, child_2)\n",
    "\n",
    "                if child_1.solution_cost < lowest_cost_solution.solution_cost:\n",
    "                    lowest_cost_solution = child_1\n",
    "                if child_2.solution_cost < lowest_cost_solution.solution_cost:\n",
    "                    lowest_cost_solution = child_2\n",
    "                child_1.gen_time = GA.curr_gen\n",
    "                child_2.gen_time = GA.curr_gen\n",
    "\n",
    "                if j*2 < 10:\n",
    "                    child_1.id = int(str(GA.curr_gen) + \"0\" + str(j))\n",
    "                    child_2.id = int(str(GA.curr_gen) + \"0\" + str(j+1))\n",
    "                else:\n",
    "                    child_1.id = int(str(GA.curr_gen) + str(j))\n",
    "                    child_2.id = int(str(GA.curr_gen) + str(j+1))\n",
    "\n",
    "                if not (child_1.solution_encoding == parent1.solution_encoding or\n",
    "                        child_1.solution_encoding == parent2.solution_encoding):\n",
    "                    child_1.parents= [parent1.id, parent2.id]\n",
    "                    GA.population.append(child_1)\n",
    "                # else:\n",
    "                    removeChildren += 1\n",
    "                if not (child_2.solution_encoding == parent1.solution_encoding or\n",
    "                        child_2.solution_encoding == parent2.solution_encoding):\n",
    "                    child_1.parents= [parent1.id, parent2.id]\n",
    "                    GA.population.append(child_2)\n",
    "                # else:\n",
    "                    removeChildren +=1\n",
    "\n",
    "                final_id = child_2.id\n",
    "\n",
    "            t1_end = time.process_time()\n",
    "            print(\"Total Offspring generation done: \", t1_end-t1_start,\"s\", sep=\"\")\n",
    "            # print()\n",
    "            if not best_two_crossed:\n",
    "                parent1 = GA.pop_copy[0]\n",
    "                parent2 = GA.pop_copy[1]\n",
    "                child_1, child_2 = two_point_crossover(parent1, parent2)\n",
    "\n",
    "                child_1.generationMethod = \"Crossover\"\n",
    "                child_2.generationMethod = \"Crossover\"\n",
    "\n",
    "                child_1, child_2 = prepare_offspring(child_1, child_2)\n",
    "\n",
    "                if child_1.solution_cost < lowest_cost_solution.solution_cost:\n",
    "                    lowest_cost_solution = child_1\n",
    "                if child_2.solution_cost < lowest_cost_solution.solution_cost:\n",
    "                    lowest_cost_solution = child_2\n",
    "\n",
    "                child_1.gen_time = GA.curr_gen\n",
    "                child_2.gen_time = GA.curr_gen\n",
    "\n",
    "                child_1.id = final_id + 1\n",
    "                child_2.id = final_id + 2\n",
    "\n",
    "\n",
    "                if not (child_1.solution_encoding == parent1.solution_encoding or\n",
    "                        child_1.solution_encoding == parent2.solution_encoding):\n",
    "                    GA.population.append(child_1)\n",
    "                    child_1.parents= [parent1.id, parent2.id]\n",
    "                # else:\n",
    "                    removeChildren += 1\n",
    "\n",
    "                if not (child_2.solution_encoding == parent1.solution_encoding or\n",
    "                        child_2.solution_encoding == parent2.solution_encoding):\n",
    "                    GA.population.append(child_2)\n",
    "                    child_2.parents= [parent1.id, parent2.id]\n",
    "                # else:\n",
    "                    removeChildren +=1\n",
    "\n",
    "            refreshPop = generatePop(50, False)\n",
    "            for a_child in refreshPop:\n",
    "                a_child.id = final_id+3\n",
    "                final_id+=1\n",
    "\n",
    "            GA.sort_by_cost()\n",
    "            lowest_cost_solution = GA.population[0]\n",
    "\n",
    "            delObj = []\n",
    "            while len(GA.population) != 100:\n",
    "                delObj.append([GA.population[-1].id, GA.population[-1].solution_cost, GA.population[-1].gen_time, GA.curr_gen, GA.population[-1].generationMethod])\n",
    "                del GA.population[-1]\n",
    "\n",
    "            with open('Trackers/Tracker'+ str(instanceNum) +'.csv', 'a') as f_object:\n",
    "\n",
    "                # Pass this file object to csv.writer()\n",
    "                # and get a writer object\n",
    "                writer_object = writer(f_object)\n",
    "\n",
    "                # Pass the list as an argument into\n",
    "                # the writerow()\n",
    "                for rowObj in delObj:\n",
    "                    writer_object.writerow(rowObj)\n",
    "\n",
    "                #Close the file object\n",
    "                f_object.close()\n",
    "\n",
    "            cost_threshold = GA.population[0].solution_cost\n",
    "\n",
    "            print(\"Generation: \", GA.curr_gen, sep=\"\")\n",
    "            print(GA.population[0].solution_cost)\n",
    "            kept = 0\n",
    "            for pair in GA.population:\n",
    "                if pair.gen_time == GA.curr_gen:\n",
    "                    kept += 1\n",
    "                    # GA.total_kept += 1\n",
    "            print(\"Children kept:\", kept)\n",
    "\n",
    "            if kept == 0 and GA.mutation_rate<len(GA.pop_copy[0].solution_encoding)/2:\n",
    "                GA.mutation_rate += 1\n",
    "\n",
    "            GA.pop_copy = GA.population[:]\n",
    "\n",
    "            print(\"----\")\n",
    "    except KeyboardInterrupt:\n",
    "        return lowest_cost_solution\n",
    "\n",
    "\n",
    "\n",
    "\n",
    "        #refresh pop\n",
    "        # 200 pop, 100 from normal, 100 is genesis with mutations\n",
    "\n",
    "    return GA.population[0]"
   ]
  },
  {
   "cell_type": "code",
   "execution_count": null,
   "outputs": [],
   "source": [
    "genesisPairActual.deadheads = calcDeadheadsFromSolution(genesisPairActual.solution_pairings)\n",
    "genesisPairActual.solution_cost = calcSolutionCost(genesisPairActual.solution_pairings, genesisPairActual.deadheads)\n",
    "genesisPairActual.id = 101\n",
    "genesisPairActual.generationMethod = \"Genesis Pair\"\n",
    "\n",
    "convertFromPopulationToBinary([genesisPairActual])\n",
    "\n",
    "genesisPairsPop = [genesisPairActual]\n",
    "counter = genesisPairActual.id\n",
    "\n",
    "while len(genesisPairsPop) != 100:\n",
    "    mutated_copy = cp.deepcopy(genesisPairActual)\n",
    "    mutated_copy = mutate(mutated_copy, 20, True)\n",
    "    mutated_copy.solution_pairings = convertFromBinaryToPairings(mutated_copy.solution_encoding)\n",
    "    mutated_copy = returnFeasibleSolution(mutated_copy)\n",
    "    add = True\n",
    "    for p in genesisPairsPop:\n",
    "        if mutated_copy.solution_encoding == p.solution_encoding:\n",
    "            add = False\n",
    "            break\n",
    "    if add:\n",
    "        counter+=1\n",
    "        mutated_copy.id = counter\n",
    "        mutated_copy.deadheads = calcDeadheadsFromSolution(mutated_copy.solution_pairings)\n",
    "        mutated_copy.solution_cost = calcSolutionCost(mutated_copy.solution_pairings, mutated_copy.deadheads)\n",
    "        mutated_copy.generationMethod = \"Genesis Mutation\"\n",
    "        genesisPairsPop.append(mutated_copy)\n",
    "\n"
   ],
   "metadata": {
    "collapsed": false,
    "pycharm": {
     "name": "#%%\n"
    }
   }
  },
  {
   "cell_type": "code",
   "execution_count": null,
   "outputs": [],
   "source": [
    "# genesisPairsPop"
   ],
   "metadata": {
    "collapsed": false,
    "pycharm": {
     "name": "#%%\n"
    }
   }
  },
  {
   "cell_type": "code",
   "source": [
    "pre_population.extend(genesisPairsPop)"
   ],
   "metadata": {
    "collapsed": false,
    "pycharm": {
     "name": "#%%\n"
    }
   },
   "execution_count": null,
   "outputs": []
  },
  {
   "cell_type": "code",
   "execution_count": null,
   "outputs": [],
   "source": [],
   "metadata": {
    "collapsed": false,
    "pycharm": {
     "name": "#%%\n"
    }
   }
  },
  {
   "cell_type": "code",
   "execution_count": null,
   "metadata": {
    "pycharm": {
     "name": "#%%\n"
    }
   },
   "outputs": [],
   "source": [
    "# del pre_population[-1]\n",
    "# genesisPairActual.deadheads = calcDeadheadsFromSolution(genesisPairActual.solution_pairings)\n",
    "# genesisPairActual.solution_cost = calcSolutionCost(genesisPairActual.solution_pairings, genesisPairActual.deadheads)\n",
    "# pre_population.append(genesisPairActual)\n",
    "convertFromPopulationToBinary(pre_population)\n",
    "Gen_Alg = GeneticAlgorithm(10, 5, pre_population[:], calcSolutionCost(genesisPairActual.solution_pairings, calcDeadheadsAlt(genesisPair)), 0.4, 500)\n",
    "best_solution = start(Gen_Alg)"
   ]
  },
  {
   "cell_type": "code",
   "execution_count": null,
   "outputs": [],
   "source": [
    "best_solution"
   ],
   "metadata": {
    "collapsed": false,
    "pycharm": {
     "name": "#%%\n"
    }
   }
  },
  {
   "cell_type": "code",
   "execution_count": null,
   "outputs": [],
   "source": [
    "covered = init_cover_list()\n",
    "\n",
    "\n",
    "for pairing in best_solution.solution_pairings:\n",
    "    pairing : Pairings\n",
    "    for leg in pairing.legs:\n",
    "        covered[leg.legNo] = (True, covered[leg.legNo][1]+1)\n",
    "best_solution.solution_cost"
   ],
   "metadata": {
    "collapsed": false,
    "pycharm": {
     "name": "#%%\n"
    }
   }
  },
  {
   "cell_type": "code",
   "execution_count": null,
   "outputs": [],
   "source": [
    "msg = f\"ID: {best_solution.id}, Cost: {best_solution.solution_cost}, Deadheads: {best_solution.deadheads}, Gen Time: {best_solution.gen_time}\\n\"\n",
    "\n",
    "msg+=\"\\n\\nSolution = {\\n\\n\"\n",
    "for i, pairing in enumerate(best_solution.solution_pairings):\n",
    "    msg+= \"Pairing \"+str(i)+\" : Base \"+ pairing.base_airport +\" : \" + pairing.pairing_string.strip() +\";\\n\\n\"\n",
    "msg += \"};\"\n",
    "with open('Best_Solutions/bestSol'+str(instanceNum)+'.txt', 'w', encoding='utf-8') as file:\n",
    "    file.write(msg)"
   ],
   "metadata": {
    "collapsed": false,
    "pycharm": {
     "name": "#%%\n"
    }
   }
  }
 ],
 "metadata": {
  "kernelspec": {
   "display_name": "Python 3 (ipykernel)",
   "language": "python",
   "name": "python3"
  },
  "language_info": {
   "codemirror_mode": {
    "name": "ipython",
    "version": 3
   },
   "file_extension": ".py",
   "mimetype": "text/x-python",
   "name": "python",
   "nbconvert_exporter": "python",
   "pygments_lexer": "ipython3",
   "version": "3.10.4"
  }
 },
 "nbformat": 4,
 "nbformat_minor": 1
}